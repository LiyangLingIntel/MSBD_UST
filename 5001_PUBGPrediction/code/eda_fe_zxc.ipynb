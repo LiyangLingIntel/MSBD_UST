{
 "cells": [
  {
   "cell_type": "code",
   "execution_count": 3,
   "metadata": {
    "_cell_guid": "b1076dfc-b9ad-4769-8c92-a6c4dae69d19",
    "_uuid": "8f2839f25d086af736a60e9eeb907d3b93b6e0e5",
    "scrolled": false
   },
   "outputs": [
    {
     "name": "stdout",
     "output_type": "stream",
     "text": [
      "['.DS_Store', 'test_V2.csv', 'group_match_data_train_non_norm.zip', 'train_V2.csv', 'group_match_data_train_norm.zip']\n"
     ]
    }
   ],
   "source": [
    "%matplotlib inline\n",
    "import warnings\n",
    "warnings.filterwarnings('ignore')\n",
    "import numpy as np # linear algebra\n",
    "import pandas as pd # data processing, CSV file I/O (e.g. pd.read_csv)\n",
    "import os\n",
    "import seaborn as sns \n",
    "import matplotlib.pyplot as plt\n",
    "import math\n",
    "\n",
    "data_dir = \"../data\"\n",
    "print(os.listdir(data_dir))"
   ]
  },
  {
   "cell_type": "markdown",
   "metadata": {},
   "source": [
    "# Data Analysis"
   ]
  },
  {
   "cell_type": "code",
   "execution_count": 5,
   "metadata": {
    "_uuid": "f4c75f6b5a01a24b98c46a1f8d990266c3c74ea3"
   },
   "outputs": [],
   "source": [
    "df_train = pd.read_csv(\"../data/train_V2.csv\")"
   ]
  },
  {
   "cell_type": "code",
   "execution_count": 254,
   "metadata": {
    "_uuid": "dce05544b4f79a0f531acf263f47aa3249cc5ff4"
   },
   "outputs": [],
   "source": [
    "# df_test = pd.read_csv(\"../data/test_V2.csv.zip\")"
   ]
  },
  {
   "cell_type": "code",
   "execution_count": 255,
   "metadata": {},
   "outputs": [
    {
     "data": {
      "text/html": [
       "<div>\n",
       "<style scoped>\n",
       "    .dataframe tbody tr th:only-of-type {\n",
       "        vertical-align: middle;\n",
       "    }\n",
       "\n",
       "    .dataframe tbody tr th {\n",
       "        vertical-align: top;\n",
       "    }\n",
       "\n",
       "    .dataframe thead th {\n",
       "        text-align: right;\n",
       "    }\n",
       "</style>\n",
       "<table border=\"1\" class=\"dataframe\">\n",
       "  <thead>\n",
       "    <tr style=\"text-align: right;\">\n",
       "      <th></th>\n",
       "      <th>Id</th>\n",
       "      <th>groupId</th>\n",
       "      <th>matchId</th>\n",
       "      <th>assists</th>\n",
       "      <th>boosts</th>\n",
       "      <th>damageDealt</th>\n",
       "      <th>DBNOs</th>\n",
       "      <th>headshotKills</th>\n",
       "      <th>heals</th>\n",
       "      <th>killPlace</th>\n",
       "      <th>...</th>\n",
       "      <th>revives</th>\n",
       "      <th>rideDistance</th>\n",
       "      <th>roadKills</th>\n",
       "      <th>swimDistance</th>\n",
       "      <th>teamKills</th>\n",
       "      <th>vehicleDestroys</th>\n",
       "      <th>walkDistance</th>\n",
       "      <th>weaponsAcquired</th>\n",
       "      <th>winPoints</th>\n",
       "      <th>winPlacePerc</th>\n",
       "    </tr>\n",
       "  </thead>\n",
       "  <tbody>\n",
       "    <tr>\n",
       "      <th>0</th>\n",
       "      <td>7f96b2f878858a</td>\n",
       "      <td>4d4b580de459be</td>\n",
       "      <td>a10357fd1a4a91</td>\n",
       "      <td>0</td>\n",
       "      <td>0</td>\n",
       "      <td>0.00</td>\n",
       "      <td>0</td>\n",
       "      <td>0</td>\n",
       "      <td>0</td>\n",
       "      <td>60</td>\n",
       "      <td>...</td>\n",
       "      <td>0</td>\n",
       "      <td>0.0000</td>\n",
       "      <td>0</td>\n",
       "      <td>0.00</td>\n",
       "      <td>0</td>\n",
       "      <td>0</td>\n",
       "      <td>244.80</td>\n",
       "      <td>1</td>\n",
       "      <td>1466</td>\n",
       "      <td>0.4444</td>\n",
       "    </tr>\n",
       "    <tr>\n",
       "      <th>1</th>\n",
       "      <td>eef90569b9d03c</td>\n",
       "      <td>684d5656442f9e</td>\n",
       "      <td>aeb375fc57110c</td>\n",
       "      <td>0</td>\n",
       "      <td>0</td>\n",
       "      <td>91.47</td>\n",
       "      <td>0</td>\n",
       "      <td>0</td>\n",
       "      <td>0</td>\n",
       "      <td>57</td>\n",
       "      <td>...</td>\n",
       "      <td>0</td>\n",
       "      <td>0.0045</td>\n",
       "      <td>0</td>\n",
       "      <td>11.04</td>\n",
       "      <td>0</td>\n",
       "      <td>0</td>\n",
       "      <td>1434.00</td>\n",
       "      <td>5</td>\n",
       "      <td>0</td>\n",
       "      <td>0.6400</td>\n",
       "    </tr>\n",
       "    <tr>\n",
       "      <th>2</th>\n",
       "      <td>1eaf90ac73de72</td>\n",
       "      <td>6a4a42c3245a74</td>\n",
       "      <td>110163d8bb94ae</td>\n",
       "      <td>1</td>\n",
       "      <td>0</td>\n",
       "      <td>68.00</td>\n",
       "      <td>0</td>\n",
       "      <td>0</td>\n",
       "      <td>0</td>\n",
       "      <td>47</td>\n",
       "      <td>...</td>\n",
       "      <td>0</td>\n",
       "      <td>0.0000</td>\n",
       "      <td>0</td>\n",
       "      <td>0.00</td>\n",
       "      <td>0</td>\n",
       "      <td>0</td>\n",
       "      <td>161.80</td>\n",
       "      <td>2</td>\n",
       "      <td>0</td>\n",
       "      <td>0.7755</td>\n",
       "    </tr>\n",
       "    <tr>\n",
       "      <th>3</th>\n",
       "      <td>4616d365dd2853</td>\n",
       "      <td>a930a9c79cd721</td>\n",
       "      <td>f1f1f4ef412d7e</td>\n",
       "      <td>0</td>\n",
       "      <td>0</td>\n",
       "      <td>32.90</td>\n",
       "      <td>0</td>\n",
       "      <td>0</td>\n",
       "      <td>0</td>\n",
       "      <td>75</td>\n",
       "      <td>...</td>\n",
       "      <td>0</td>\n",
       "      <td>0.0000</td>\n",
       "      <td>0</td>\n",
       "      <td>0.00</td>\n",
       "      <td>0</td>\n",
       "      <td>0</td>\n",
       "      <td>202.70</td>\n",
       "      <td>3</td>\n",
       "      <td>0</td>\n",
       "      <td>0.1667</td>\n",
       "    </tr>\n",
       "    <tr>\n",
       "      <th>4</th>\n",
       "      <td>315c96c26c9aac</td>\n",
       "      <td>de04010b3458dd</td>\n",
       "      <td>6dc8ff871e21e6</td>\n",
       "      <td>0</td>\n",
       "      <td>0</td>\n",
       "      <td>100.00</td>\n",
       "      <td>0</td>\n",
       "      <td>0</td>\n",
       "      <td>0</td>\n",
       "      <td>45</td>\n",
       "      <td>...</td>\n",
       "      <td>0</td>\n",
       "      <td>0.0000</td>\n",
       "      <td>0</td>\n",
       "      <td>0.00</td>\n",
       "      <td>0</td>\n",
       "      <td>0</td>\n",
       "      <td>49.75</td>\n",
       "      <td>2</td>\n",
       "      <td>0</td>\n",
       "      <td>0.1875</td>\n",
       "    </tr>\n",
       "  </tbody>\n",
       "</table>\n",
       "<p>5 rows × 29 columns</p>\n",
       "</div>"
      ],
      "text/plain": [
       "               Id         groupId         matchId  assists  boosts  \\\n",
       "0  7f96b2f878858a  4d4b580de459be  a10357fd1a4a91        0       0   \n",
       "1  eef90569b9d03c  684d5656442f9e  aeb375fc57110c        0       0   \n",
       "2  1eaf90ac73de72  6a4a42c3245a74  110163d8bb94ae        1       0   \n",
       "3  4616d365dd2853  a930a9c79cd721  f1f1f4ef412d7e        0       0   \n",
       "4  315c96c26c9aac  de04010b3458dd  6dc8ff871e21e6        0       0   \n",
       "\n",
       "   damageDealt  DBNOs  headshotKills  heals  killPlace      ...       revives  \\\n",
       "0         0.00      0              0      0         60      ...             0   \n",
       "1        91.47      0              0      0         57      ...             0   \n",
       "2        68.00      0              0      0         47      ...             0   \n",
       "3        32.90      0              0      0         75      ...             0   \n",
       "4       100.00      0              0      0         45      ...             0   \n",
       "\n",
       "   rideDistance  roadKills  swimDistance  teamKills vehicleDestroys  \\\n",
       "0        0.0000          0          0.00          0               0   \n",
       "1        0.0045          0         11.04          0               0   \n",
       "2        0.0000          0          0.00          0               0   \n",
       "3        0.0000          0          0.00          0               0   \n",
       "4        0.0000          0          0.00          0               0   \n",
       "\n",
       "   walkDistance  weaponsAcquired  winPoints  winPlacePerc  \n",
       "0        244.80                1       1466        0.4444  \n",
       "1       1434.00                5          0        0.6400  \n",
       "2        161.80                2          0        0.7755  \n",
       "3        202.70                3          0        0.1667  \n",
       "4         49.75                2          0        0.1875  \n",
       "\n",
       "[5 rows x 29 columns]"
      ]
     },
     "execution_count": 255,
     "metadata": {},
     "output_type": "execute_result"
    }
   ],
   "source": [
    "df_train.head()"
   ]
  },
  {
   "cell_type": "markdown",
   "metadata": {},
   "source": [
    "## new player features"
   ]
  },
  {
   "cell_type": "code",
   "execution_count": 256,
   "metadata": {},
   "outputs": [],
   "source": [
    "# heal and boosts\n",
    "df_train['healsandboosts'] = df_train['heals'] + df_train['boosts']"
   ]
  },
  {
   "cell_type": "code",
   "execution_count": 257,
   "metadata": {},
   "outputs": [],
   "source": [
    "# headshot rate\n",
    "df_train['headshot_rate'] = df_train['headshotKills'] / df_train['kills']\n",
    "df_train['headshot_rate'] = df_train['headshot_rate'].fillna(0)"
   ]
  },
  {
   "cell_type": "code",
   "execution_count": 258,
   "metadata": {},
   "outputs": [],
   "source": [
    "# total distance\n",
    "df_train['totalDistance'] = df_train['rideDistance'] + df_train['walkDistance'] + df_train['swimDistance']"
   ]
  },
  {
   "cell_type": "code",
   "execution_count": 259,
   "metadata": {},
   "outputs": [],
   "source": [
    "# team_mode, 0 solo, 1 team\n",
    "df_train['team_mode'] = df_train['matchType'].apply(lambda tp: 0 if tp in ['solo', 'solo-fpp'] else 1)"
   ]
  },
  {
   "cell_type": "code",
   "execution_count": 260,
   "metadata": {},
   "outputs": [],
   "source": [
    "# df_train[['kills', 'damageDealt', 'assists']][0:100].apply(axis=1, func=lambda x: x['damageDealt'] / (x['kills'] + x['assists']) if (x['kills'] + x['assists']) > 0 else 0)\n",
    "# df_train['damage_per_enemy'] = df_train[['kills', 'damageDealt', 'assists']].apply(axis=1, func=lambda x: x['damageDealt'] / (x['kills'] + x['assists']) if (x['kills'] + x['assists']) > 0 else 0)\n",
    "\n",
    "# damage per enemy.\n",
    "df_train['damage_per_enemy'] = df_train['damageDealt'] / (df_train['kills'] + df_train['assists'])\n",
    "df_train['damage_per_enemy'] = df_train['damage_per_enemy'].fillna(0).apply(lambda x: 0 if x > 999999 else x)"
   ]
  },
  {
   "cell_type": "code",
   "execution_count": 261,
   "metadata": {},
   "outputs": [],
   "source": [
    "# average walk kills\n",
    "df_train['avg_walk_speed'] = df_train['walkDistance'] / df_train['matchDuration']"
   ]
  },
  {
   "cell_type": "code",
   "execution_count": 262,
   "metadata": {},
   "outputs": [],
   "source": [
    "# count as 1 player\n",
    "df_train['player_count'] = 1"
   ]
  },
  {
   "cell_type": "markdown",
   "metadata": {},
   "source": [
    "1. player joined\n",
    "2. weapon_acquire / total_distance"
   ]
  },
  {
   "cell_type": "markdown",
   "metadata": {},
   "source": [
    "## outliers / cheaters"
   ]
  },
  {
   "cell_type": "markdown",
   "metadata": {},
   "source": [
    "#### 1. remove wtf model"
   ]
  },
  {
   "cell_type": "code",
   "execution_count": 263,
   "metadata": {},
   "outputs": [],
   "source": [
    "mts = ['solo','squad','duo','squad-fpp','duo-fpp','solo-fpp',]"
   ]
  },
  {
   "cell_type": "code",
   "execution_count": 264,
   "metadata": {},
   "outputs": [
    {
     "data": {
      "text/plain": [
       "0.9920694244120598"
      ]
     },
     "execution_count": 264,
     "metadata": {},
     "output_type": "execute_result"
    }
   ],
   "source": [
    "len(df_train.query(f'matchType in {str(mts)}')) / len(df_train)"
   ]
  },
  {
   "cell_type": "code",
   "execution_count": 265,
   "metadata": {},
   "outputs": [],
   "source": [
    "df_train = df_train.query(f'matchType in {str(mts)}')"
   ]
  },
  {
   "cell_type": "markdown",
   "metadata": {},
   "source": [
    "#### 2.remove matches with player amount less than 80"
   ]
  },
  {
   "cell_type": "code",
   "execution_count": 266,
   "metadata": {},
   "outputs": [
    {
     "data": {
      "text/plain": [
       "<matplotlib.axes._subplots.AxesSubplot at 0x1caa90e8d0>"
      ]
     },
     "execution_count": 266,
     "metadata": {},
     "output_type": "execute_result"
    },
    {
     "data": {
      "image/png": "[encoded data removed]",
      "text/plain": [
       "<Figure size 432x288 with 1 Axes>"
      ]
     },
     "metadata": {
      "needs_background": "light"
     },
     "output_type": "display_data"
    }
   ],
   "source": [
    "pd.value_counts(df_train['matchId']).hist()"
   ]
  },
  {
   "cell_type": "code",
   "execution_count": 1,
   "metadata": {},
   "outputs": [
    {
     "ename": "NameError",
     "evalue": "name 'pd' is not defined",
     "output_type": "error",
     "traceback": [
      "\u001b[0;31m---------------------------------------------------------------------------\u001b[0m",
      "\u001b[0;31mNameError\u001b[0m                                 Traceback (most recent call last)",
      "\u001b[0;32m<ipython-input-1-b9088bd5680a>\u001b[0m in \u001b[0;36m<module>\u001b[0;34m()\u001b[0m\n\u001b[0;32m----> 1\u001b[0;31m \u001b[0mmatch_players\u001b[0m \u001b[0;34m=\u001b[0m \u001b[0mpd\u001b[0m\u001b[0;34m.\u001b[0m\u001b[0mvalue_counts\u001b[0m\u001b[0;34m(\u001b[0m\u001b[0mdf_train\u001b[0m\u001b[0;34m[\u001b[0m\u001b[0;34m'matchId'\u001b[0m\u001b[0;34m]\u001b[0m\u001b[0;34m)\u001b[0m\u001b[0;34m\u001b[0m\u001b[0m\n\u001b[0m\u001b[1;32m      2\u001b[0m \u001b[0mdf_train\u001b[0m\u001b[0;34m[\u001b[0m\u001b[0;34m'match_plays'\u001b[0m\u001b[0;34m]\u001b[0m \u001b[0;34m=\u001b[0m \u001b[0mdf_train\u001b[0m\u001b[0;34m[\u001b[0m\u001b[0;34m'matchId'\u001b[0m\u001b[0;34m]\u001b[0m\u001b[0;34m.\u001b[0m\u001b[0mapply\u001b[0m\u001b[0;34m(\u001b[0m\u001b[0;32mlambda\u001b[0m \u001b[0mx\u001b[0m\u001b[0;34m:\u001b[0m \u001b[0mmatch_players\u001b[0m\u001b[0;34m[\u001b[0m\u001b[0mx\u001b[0m\u001b[0;34m]\u001b[0m\u001b[0;34m)\u001b[0m\u001b[0;34m\u001b[0m\u001b[0m\n\u001b[1;32m      3\u001b[0m \u001b[0mdf_train\u001b[0m \u001b[0;34m=\u001b[0m \u001b[0mdf_train\u001b[0m\u001b[0;34m.\u001b[0m\u001b[0mquery\u001b[0m\u001b[0;34m(\u001b[0m\u001b[0;34m'match_plays > 80'\u001b[0m\u001b[0;34m)\u001b[0m\u001b[0;34m\u001b[0m\u001b[0m\n",
      "\u001b[0;31mNameError\u001b[0m: name 'pd' is not defined"
     ]
    }
   ],
   "source": [
    "match_players = pd.value_counts(df_train['matchId'])\n",
    "df_train['match_plays'] = df_train['matchId'].apply(lambda x: match_players[x])\n",
    "df_train = df_train.query('match_plays > 80')"
   ]
  },
  {
   "cell_type": "code",
   "execution_count": 268,
   "metadata": {},
   "outputs": [
    {
     "data": {
      "text/plain": [
       "<matplotlib.axes._subplots.AxesSubplot at 0x1a3eafde80>"
      ]
     },
     "execution_count": 268,
     "metadata": {},
     "output_type": "execute_result"
    },
    {
     "data": {
      "image/png": "[encoded data removed]",
      "text/plain": [
       "<Figure size 432x288 with 1 Axes>"
      ]
     },
     "metadata": {
      "needs_background": "light"
     },
     "output_type": "display_data"
    }
   ],
   "source": [
    "pd.value_counts(df_train['matchId']).hist()"
   ]
  },
  {
   "cell_type": "markdown",
   "metadata": {},
   "source": [
    "#### 3.remove the abnormal winner"
   ]
  },
  {
   "cell_type": "markdown",
   "metadata": {},
   "source": [
    "for solo mode, high rank with poor performance is abnormal"
   ]
  },
  {
   "cell_type": "code",
   "execution_count": 269,
   "metadata": {},
   "outputs": [
    {
     "data": {
      "text/plain": [
       "winPlacePerc    0.173102\n",
       "Name: 0.99, dtype: float64"
      ]
     },
     "execution_count": 269,
     "metadata": {},
     "output_type": "execute_result"
    }
   ],
   "source": [
    "df_train.query('kills > 1 and totalDistance < 10 and team_mode == 0')\\\n",
    ".sort_values('winPlacePerc', ascending=False)[['winPlacePerc']]\\\n",
    ".quantile(0.99)"
   ]
  },
  {
   "cell_type": "code",
   "execution_count": 270,
   "metadata": {},
   "outputs": [
    {
     "data": {
      "text/plain": [
       "<matplotlib.axes._subplots.AxesSubplot at 0x1a1aad3860>"
      ]
     },
     "execution_count": 270,
     "metadata": {},
     "output_type": "execute_result"
    },
    {
     "data": {
      "image/png": "[encoded data removed]",
      "text/plain": [
       "<Figure size 432x288 with 1 Axes>"
      ]
     },
     "metadata": {
      "needs_background": "light"
     },
     "output_type": "display_data"
    }
   ],
   "source": [
    "# df_train.query('totalDistance < 10 and kills < 1 and team_mode == 0 and winPlacePerc > 0.9')\n",
    "# df_train.query('matchId == \"ff60bfbccd8706\"')[['kills', 'totalDistance', 'winPlacePerc']]\\\n",
    "# .sort_values('winPlacePerc', ascending=False).head(10)\n",
    "df_train.query('totalDistance < 10 and kills < 1 and team_mode == 0')['winPlacePerc'].hist()"
   ]
  },
  {
   "cell_type": "code",
   "execution_count": 271,
   "metadata": {},
   "outputs": [],
   "source": [
    "outlers_id = df_train.query('totalDistance < 10 and kills < 1 and team_mode == 0 and winPlacePerc > 0.3')['Id'].unique()"
   ]
  },
  {
   "cell_type": "code",
   "execution_count": 272,
   "metadata": {},
   "outputs": [],
   "source": [
    "df_train = df_train.query(f\"Id not in {str(outlers_id.tolist())}\")"
   ]
  },
  {
   "cell_type": "markdown",
   "metadata": {},
   "source": [
    "#### 4. abnormal features"
   ]
  },
  {
   "cell_type": "code",
   "execution_count": 291,
   "metadata": {},
   "outputs": [],
   "source": [
    "abnormal_groups = set([])"
   ]
  },
  {
   "cell_type": "markdown",
   "metadata": {},
   "source": [
    "avg_walk_speed > 6"
   ]
  },
  {
   "cell_type": "code",
   "execution_count": 294,
   "metadata": {},
   "outputs": [],
   "source": [
    "abnormal_groups |= set(df_train.query('avg_walk_speed > 6')['groupId'].unique().tolist())"
   ]
  },
  {
   "cell_type": "code",
   "execution_count": 295,
   "metadata": {},
   "outputs": [
    {
     "name": "stdout",
     "output_type": "stream",
     "text": [
      "5.0771133190754885\n"
     ]
    }
   ],
   "source": [
    "print(df_train['avg_walk_speed'].quantile(0.9999))\n",
    "# df_train.drop(df_train[df_train['avg_walk_speed'] > 6].index, inplace=True)"
   ]
  },
  {
   "cell_type": "code",
   "execution_count": 300,
   "metadata": {},
   "outputs": [
    {
     "name": "stdout",
     "output_type": "stream",
     "text": [
      "18.0\n"
     ]
    }
   ],
   "source": [
    "# weapons acquired > 80\n",
    "print(df_train['weaponsAcquired'].quantile(0.9999))\n",
    "# df_train.drop(df_train[df_train['weaponsAcquired'] >= 80].index, inplace=True)\n",
    "abnormal_groups |= set(df_train.query('totalDistance == 0 and weaponsAcquired > 2')['groupId'].unique().tolist())"
   ]
  },
  {
   "cell_type": "code",
   "execution_count": 316,
   "metadata": {},
   "outputs": [],
   "source": [
    "# heals > 45\n",
    "# print(df_train['heals'].quantile(0.9999))\n",
    "# df_train.drop(df_train[df_train['heals'] > 45].index, inplace=True)\n",
    "# (df_train['heals'] * 3 / df_train['matchDuration']).quantile(1)"
   ]
  },
  {
   "cell_type": "code",
   "execution_count": 331,
   "metadata": {},
   "outputs": [
    {
     "name": "stdout",
     "output_type": "stream",
     "text": [
      "1003.0\n"
     ]
    }
   ],
   "source": [
    "# longest kill > 1000\n",
    "print(df_train['longestKill'].quantile(1))\n",
    "# df_train.drop(df_train[df_train['longestKill'] >= 1000].index, inplace=True)\n",
    "# df_train.query('longestKill > 1000')['longestKill'].hist()"
   ]
  },
  {
   "cell_type": "code",
   "execution_count": 343,
   "metadata": {},
   "outputs": [],
   "source": [
    "# road kill > 10\n",
    "# print(df_train['roadKills'].quantile(0.999))\n",
    "# df_train.drop(df_train[df_train['roadKills'] > 10].index, inplace=True)\n",
    "# df_train.query('roadKills == 14')#['roadKills'].hist()"
   ]
  },
  {
   "cell_type": "code",
   "execution_count": 351,
   "metadata": {},
   "outputs": [],
   "source": [
    "# headshot rate alwasy == 1 and always headshot\n",
    "# df_train.drop(df_train.query('headshot_rate == 1 and kills > 9').index, inplace=True)\n",
    "abnormal_groups |= set(df_train.query('headshot_rate == 1 and kills > 4 and damageDealt / kills % 100 == 0')['groupId'].unique().tolist())"
   ]
  },
  {
   "cell_type": "code",
   "execution_count": 354,
   "metadata": {},
   "outputs": [
    {
     "data": {
      "text/plain": [
       "972.0"
      ]
     },
     "execution_count": 354,
     "metadata": {},
     "output_type": "execute_result"
    }
   ],
   "source": [
    "# match duration\n",
    "df_train['matchDuration'].quantile(0.000001)"
   ]
  },
  {
   "cell_type": "code",
   "execution_count": 358,
   "metadata": {},
   "outputs": [],
   "source": [
    "# killStreaks > 8\n",
    "abnormal_groups |= set(df_train.query('killStreaks > 8')['groupId'].unique().tolist())"
   ]
  },
  {
   "cell_type": "code",
   "execution_count": 361,
   "metadata": {},
   "outputs": [],
   "source": [
    "# delete abnormal groups\n",
    "df_train = df_train.query(f'groupId not in {str(list(abnormal_groups))}')"
   ]
  },
  {
   "cell_type": "markdown",
   "metadata": {},
   "source": [
    "## Group by data by group & match "
   ]
  },
  {
   "cell_type": "code",
   "execution_count": 393,
   "metadata": {},
   "outputs": [],
   "source": [
    "agg_funcs = {'assists':'sum',\n",
    "             'boosts':'sum',\n",
    "             'damageDealt':'sum',\n",
    "             'DBNOs':'sum',\n",
    "             'headshotKills':'sum',\n",
    "             'heals':'sum',\n",
    "             'killPlace':'max',\n",
    "             'killPoints':'sum',\n",
    "             'kills':'sum',\n",
    "             'killStreaks':'sum',\n",
    "             'longestKill':'max',\n",
    "             'matchDuration':'mean',\n",
    "             'matchType':'max', # new value\n",
    "             'maxPlace':'max', # may not equal to group num\n",
    "             'numGroups':'max',\n",
    "             'rankPoints':'sum', # depatured in next version\n",
    "             'revives':'sum',\n",
    "             'rideDistance':'max',\n",
    "             'roadKills':'sum',\n",
    "             'swimDistance':'max',\n",
    "             'teamKills':'sum',\n",
    "             'vehicleDestroys':'sum',\n",
    "             'walkDistance':'max',\n",
    "             'weaponsAcquired':'sum',\n",
    "             'winPoints':'sum', # rankPoints where only win counts\n",
    "             'winPlacePerc':'max', # 1 is best, 0 is last\n",
    "             'healsandboosts':'max',\n",
    "             'headshot_rate':'max',\n",
    "             'totalDistance':'max',\n",
    "             'team_mode':'max',\n",
    "             'damage_per_enemy':'max',\n",
    "             'avg_walk_speed':'max',\n",
    "             'player_count':'sum'}"
   ]
  },
  {
   "cell_type": "code",
   "execution_count": 394,
   "metadata": {},
   "outputs": [],
   "source": [
    "group_match_data = df_train.groupby(['groupId', 'matchId'])\n",
    "group_match_data = group_match_data.agg(agg_funcs)\n",
    "group_match_data = group_match_data.sort_values(by=['matchId','winPlacePerc'],\n",
    "                                                ascending=False)\n",
    "group_match_data = group_match_data.reset_index()\n",
    "group_match_data = group_match_data.sort_values(by=['matchId', 'winPlacePerc'],\n",
    "                                                ascending=False)\n",
    "group_match_data = group_match_data.reindex()"
   ]
  },
  {
   "cell_type": "markdown",
   "metadata": {},
   "source": [
    "#### onehot encoding"
   ]
  },
  {
   "cell_type": "code",
   "execution_count": 395,
   "metadata": {},
   "outputs": [],
   "source": [
    "for col in group_match_data.columns:\n",
    "    if 'matchType_onehot_' in col:\n",
    "        group_match_data.drop(columns=col, axis=1, inplace=True)"
   ]
  },
  {
   "cell_type": "code",
   "execution_count": 400,
   "metadata": {},
   "outputs": [
    {
     "data": {
      "text/plain": [
       "Index(['groupId', 'matchId', 'assists', 'boosts', 'damageDealt', 'DBNOs',\n",
       "       'headshotKills', 'heals', 'killPlace', 'killPoints', 'kills',\n",
       "       'killStreaks', 'longestKill', 'matchDuration', 'matchType', 'maxPlace',\n",
       "       'numGroups', 'rankPoints', 'revives', 'rideDistance', 'roadKills',\n",
       "       'swimDistance', 'teamKills', 'vehicleDestroys', 'walkDistance',\n",
       "       'weaponsAcquired', 'winPoints', 'winPlacePerc', 'healsandboosts',\n",
       "       'headshot_rate', 'totalDistance', 'team_mode', 'damage_per_enemy',\n",
       "       'avg_walk_speed', 'player_count', 'matchType_onehot_duo',\n",
       "       'matchType_onehot_duo-fpp', 'matchType_onehot_solo',\n",
       "       'matchType_onehot_solo-fpp', 'matchType_onehot_squad',\n",
       "       'matchType_onehot_squad-fpp'],\n",
       "      dtype='object')"
      ]
     },
     "execution_count": 400,
     "metadata": {},
     "output_type": "execute_result"
    }
   ],
   "source": [
    "group_match_data.columns"
   ]
  },
  {
   "cell_type": "code",
   "execution_count": 397,
   "metadata": {},
   "outputs": [],
   "source": [
    "group_match_data['matchType_onehot'] = group_match_data['matchType']\n",
    "group_match_data = pd.get_dummies(group_match_data, columns=['matchType_onehot'])"
   ]
  },
  {
   "cell_type": "markdown",
   "metadata": {},
   "source": [
    "## group outliers"
   ]
  },
  {
   "cell_type": "code",
   "execution_count": 398,
   "metadata": {},
   "outputs": [
    {
     "data": {
      "text/plain": [
       "['squad-fpp', 'duo-fpp', 'solo-fpp', 'solo', 'squad', 'duo']"
      ]
     },
     "execution_count": 398,
     "metadata": {},
     "output_type": "execute_result"
    }
   ],
   "source": [
    "group_match_data['matchType'].unique().tolist()"
   ]
  },
  {
   "cell_type": "code",
   "execution_count": 399,
   "metadata": {},
   "outputs": [
    {
     "name": "stdout",
     "output_type": "stream",
     "text": [
      "for squad-fpp, total groups: 501681, abnormal groups: 41371, percentage: 8.25%\n",
      "for duo-fpp, total groups: 482211, abnormal groups: 35932, percentage: 7.45%\n",
      "for solo-fpp, total groups: 517630, abnormal groups: 11166, percentage: 2.16%\n",
      "for solo, total groups: 163982, abnormal groups: 4725, percentage: 2.88%\n",
      "for squad, total groups: 175571, abnormal groups: 17434, percentage: 9.93%\n",
      "for duo, total groups: 150241, abnormal groups: 12711, percentage: 8.46%\n"
     ]
    }
   ],
   "source": [
    "for mt in group_match_data['matchType'].unique().tolist():\n",
    "    limit = 1\n",
    "    if 'squad' in mt:\n",
    "        limit = 5\n",
    "    elif 'duo' in mt:\n",
    "        limit = 2\n",
    "    elif 'solo' in mt:\n",
    "        limit = 1\n",
    "    abnormal_amount = len(group_match_data.query(f'matchType == \"{mt}\" and player_count > {limit}')['groupId'].unique())\n",
    "    all_amount = len(group_match_data.query(f'matchType == \"{mt}\"')['groupId'].unique())\n",
    "    print(f\"for {mt}, total groups: {all_amount}, abnormal groups: {abnormal_amount}, percentage: {round(abnormal_amount * 100 / all_amount, 2)}%\")"
   ]
  },
  {
   "cell_type": "code",
   "execution_count": 401,
   "metadata": {},
   "outputs": [
    {
     "data": {
      "text/plain": [
       "46036"
      ]
     },
     "execution_count": 401,
     "metadata": {},
     "output_type": "execute_result"
    }
   ],
   "source": [
    "len(group_match_data['matchId'].unique())"
   ]
  },
  {
   "cell_type": "code",
   "execution_count": 402,
   "metadata": {},
   "outputs": [
    {
     "data": {
      "text/plain": [
       "<matplotlib.axes._subplots.AxesSubplot at 0x1a2d330630>"
      ]
     },
     "execution_count": 402,
     "metadata": {},
     "output_type": "execute_result"
    },
    {
     "data": {
      "image/png": "[encoded data removed]",
      "text/plain": [
       "<Figure size 432x288 with 1 Axes>"
      ]
     },
     "metadata": {
      "needs_background": "light"
     },
     "output_type": "display_data"
    }
   ],
   "source": [
    "pd.value_counts(group_match_data.groupby('matchId').last()['matchType']).plot(kind='bar')"
   ]
  },
  {
   "cell_type": "code",
   "execution_count": 411,
   "metadata": {},
   "outputs": [],
   "source": [
    "abnormal_groups |= set(group_match_data.query('(team_mode==0 and player_count > 1) or \\\n",
    "(matchType == \"duo-fpp\" and player_count > 2) or \\\n",
    "(matchType == \"duo\" and player_count > 2) or \\\n",
    "(matchType == \"squad-fpp\" and player_count > 5) or \\\n",
    "(matchType == \"squad\" and player_count > 5)')['groupId'].unique().tolist())"
   ]
  },
  {
   "cell_type": "code",
   "execution_count": 412,
   "metadata": {},
   "outputs": [],
   "source": [
    "# delete abnormal groups\n",
    "group_match_data = group_match_data.query(f'groupId not in {str(list(abnormal_groups))}')"
   ]
  },
  {
   "cell_type": "code",
   "execution_count": 413,
   "metadata": {},
   "outputs": [],
   "source": [
    "# group_match_data.query('team_mode==0 and player_count > 1').sort_values('winPlacePerc', ascending=False)['winPlacePerc'].hist()\n",
    "# group_match_data.query('matchType == \"duo-fpp\" and player_count > 2').sort_values('winPlacePerc', ascending=False)['winPlacePerc'].hist()\n",
    "# group_match_data.query('matchType == \"duo\" and player_count > 2').sort_values('winPlacePerc', ascending=False)['winPlacePerc'].hist()\n",
    "# group_match_data.query('matchType == \"squad-fpp\" and player_count > 5').sort_values('winPlacePerc', ascending=False)['winPlacePerc'].hist()\n",
    "# group_match_data.query('matchType == \"squad\" and player_count > 5').sort_values('winPlacePerc', ascending=False)['winPlacePerc'].hist()\n",
    "# group_match_data.query('matchId == \"ff26a45f876a49\"').sort_values(['winPlacePerc', 'groupId'], ascending=False)# and groupId == \"c0019909c00573\"')# and \n",
    "# group_match_data.query('matchType == \"squad\" and player_count > 15')# and winPlacePerc > 0.9')\n",
    "# df_train.query('matchType == \"fffe53015be300\" and groupId == \"07b6286649f1e5\"')"
   ]
  },
  {
   "cell_type": "code",
   "execution_count": 415,
   "metadata": {},
   "outputs": [
    {
     "data": {
      "text/plain": [
       "1867977"
      ]
     },
     "execution_count": 415,
     "metadata": {},
     "output_type": "execute_result"
    }
   ],
   "source": [
    "len(group_match_data)"
   ]
  },
  {
   "cell_type": "code",
   "execution_count": 455,
   "metadata": {},
   "outputs": [],
   "source": [
    "abnormal_groups |= set(group_match_data.query('totalDistance < 50 and kills < 1 and winPlacePerc > 0.8')['groupId'].unique().tolist())"
   ]
  },
  {
   "cell_type": "code",
   "execution_count": 456,
   "metadata": {},
   "outputs": [],
   "source": [
    "# delete abnormal groups\n",
    "group_match_data = group_match_data.query(f'groupId not in {str(list(abnormal_groups))}')"
   ]
  },
  {
   "cell_type": "markdown",
   "metadata": {},
   "source": [
    "## new feature for group"
   ]
  },
  {
   "cell_type": "markdown",
   "metadata": {},
   "source": [
    "*total distance for group*"
   ]
  },
  {
   "cell_type": "code",
   "execution_count": 464,
   "metadata": {},
   "outputs": [],
   "source": [
    "match_max_distance = group_match_data.groupby('matchId')['totalDistance'].max().to_dict()\n",
    "group_match_data['match_max_distance'] = group_match_data['matchId'].apply(lambda x: match_max_distance[x])\n",
    "group_match_data['totalDistancePlace'] = group_match_data['totalDistance'] / group_match_data['match_max_distance']\n",
    "group_match_data.drop('match_max_distance', axis=1, inplace=True)"
   ]
  },
  {
   "cell_type": "code",
   "execution_count": 471,
   "metadata": {},
   "outputs": [
    {
     "data": {
      "text/html": [
       "<div>\n",
       "<style scoped>\n",
       "    .dataframe tbody tr th:only-of-type {\n",
       "        vertical-align: middle;\n",
       "    }\n",
       "\n",
       "    .dataframe tbody tr th {\n",
       "        vertical-align: top;\n",
       "    }\n",
       "\n",
       "    .dataframe thead th {\n",
       "        text-align: right;\n",
       "    }\n",
       "</style>\n",
       "<table border=\"1\" class=\"dataframe\">\n",
       "  <thead>\n",
       "    <tr style=\"text-align: right;\">\n",
       "      <th></th>\n",
       "      <th>groupId</th>\n",
       "      <th>matchId</th>\n",
       "      <th>assists</th>\n",
       "      <th>boosts</th>\n",
       "      <th>damageDealt</th>\n",
       "      <th>DBNOs</th>\n",
       "      <th>headshotKills</th>\n",
       "      <th>heals</th>\n",
       "      <th>killPlace</th>\n",
       "      <th>killPoints</th>\n",
       "      <th>...</th>\n",
       "      <th>damage_per_enemy</th>\n",
       "      <th>avg_walk_speed</th>\n",
       "      <th>player_count</th>\n",
       "      <th>matchType_onehot_duo</th>\n",
       "      <th>matchType_onehot_duo-fpp</th>\n",
       "      <th>matchType_onehot_solo</th>\n",
       "      <th>matchType_onehot_solo-fpp</th>\n",
       "      <th>matchType_onehot_squad</th>\n",
       "      <th>matchType_onehot_squad-fpp</th>\n",
       "      <th>totalDistancePlace</th>\n",
       "    </tr>\n",
       "  </thead>\n",
       "  <tbody>\n",
       "    <tr>\n",
       "      <th>0</th>\n",
       "      <td>809d8288457e3d</td>\n",
       "      <td>fffe92232706aa</td>\n",
       "      <td>3</td>\n",
       "      <td>16</td>\n",
       "      <td>1196.30</td>\n",
       "      <td>8</td>\n",
       "      <td>3</td>\n",
       "      <td>13</td>\n",
       "      <td>21</td>\n",
       "      <td>0</td>\n",
       "      <td>...</td>\n",
       "      <td>181.25</td>\n",
       "      <td>1.452496</td>\n",
       "      <td>3</td>\n",
       "      <td>0</td>\n",
       "      <td>0</td>\n",
       "      <td>0</td>\n",
       "      <td>0</td>\n",
       "      <td>0</td>\n",
       "      <td>1</td>\n",
       "      <td>0.543120</td>\n",
       "    </tr>\n",
       "    <tr>\n",
       "      <th>1</th>\n",
       "      <td>6cfbeead9e1050</td>\n",
       "      <td>fffe92232706aa</td>\n",
       "      <td>2</td>\n",
       "      <td>9</td>\n",
       "      <td>1087.00</td>\n",
       "      <td>8</td>\n",
       "      <td>1</td>\n",
       "      <td>4</td>\n",
       "      <td>6</td>\n",
       "      <td>0</td>\n",
       "      <td>...</td>\n",
       "      <td>93.82</td>\n",
       "      <td>1.794954</td>\n",
       "      <td>2</td>\n",
       "      <td>0</td>\n",
       "      <td>0</td>\n",
       "      <td>0</td>\n",
       "      <td>0</td>\n",
       "      <td>0</td>\n",
       "      <td>1</td>\n",
       "      <td>0.541508</td>\n",
       "    </tr>\n",
       "    <tr>\n",
       "      <th>2</th>\n",
       "      <td>bd5b4ecf8067ab</td>\n",
       "      <td>fffe92232706aa</td>\n",
       "      <td>2</td>\n",
       "      <td>8</td>\n",
       "      <td>617.03</td>\n",
       "      <td>4</td>\n",
       "      <td>2</td>\n",
       "      <td>20</td>\n",
       "      <td>23</td>\n",
       "      <td>0</td>\n",
       "      <td>...</td>\n",
       "      <td>254.20</td>\n",
       "      <td>1.290392</td>\n",
       "      <td>3</td>\n",
       "      <td>0</td>\n",
       "      <td>0</td>\n",
       "      <td>0</td>\n",
       "      <td>0</td>\n",
       "      <td>0</td>\n",
       "      <td>1</td>\n",
       "      <td>0.771560</td>\n",
       "    </tr>\n",
       "    <tr>\n",
       "      <th>3</th>\n",
       "      <td>20493abb7ca1b9</td>\n",
       "      <td>fffe92232706aa</td>\n",
       "      <td>3</td>\n",
       "      <td>4</td>\n",
       "      <td>897.10</td>\n",
       "      <td>6</td>\n",
       "      <td>2</td>\n",
       "      <td>4</td>\n",
       "      <td>38</td>\n",
       "      <td>0</td>\n",
       "      <td>...</td>\n",
       "      <td>97.72</td>\n",
       "      <td>1.320988</td>\n",
       "      <td>3</td>\n",
       "      <td>0</td>\n",
       "      <td>0</td>\n",
       "      <td>0</td>\n",
       "      <td>0</td>\n",
       "      <td>0</td>\n",
       "      <td>1</td>\n",
       "      <td>0.410593</td>\n",
       "    </tr>\n",
       "    <tr>\n",
       "      <th>4</th>\n",
       "      <td>1958cde581220c</td>\n",
       "      <td>fffe92232706aa</td>\n",
       "      <td>2</td>\n",
       "      <td>12</td>\n",
       "      <td>308.97</td>\n",
       "      <td>1</td>\n",
       "      <td>0</td>\n",
       "      <td>14</td>\n",
       "      <td>39</td>\n",
       "      <td>0</td>\n",
       "      <td>...</td>\n",
       "      <td>114.80</td>\n",
       "      <td>1.575953</td>\n",
       "      <td>3</td>\n",
       "      <td>0</td>\n",
       "      <td>0</td>\n",
       "      <td>0</td>\n",
       "      <td>0</td>\n",
       "      <td>0</td>\n",
       "      <td>1</td>\n",
       "      <td>1.000000</td>\n",
       "    </tr>\n",
       "  </tbody>\n",
       "</table>\n",
       "<p>5 rows × 42 columns</p>\n",
       "</div>"
      ],
      "text/plain": [
       "          groupId         matchId  assists  boosts  damageDealt  DBNOs  \\\n",
       "0  809d8288457e3d  fffe92232706aa        3      16      1196.30      8   \n",
       "1  6cfbeead9e1050  fffe92232706aa        2       9      1087.00      8   \n",
       "2  bd5b4ecf8067ab  fffe92232706aa        2       8       617.03      4   \n",
       "3  20493abb7ca1b9  fffe92232706aa        3       4       897.10      6   \n",
       "4  1958cde581220c  fffe92232706aa        2      12       308.97      1   \n",
       "\n",
       "   headshotKills  heals  killPlace  killPoints         ...          \\\n",
       "0              3     13         21           0         ...           \n",
       "1              1      4          6           0         ...           \n",
       "2              2     20         23           0         ...           \n",
       "3              2      4         38           0         ...           \n",
       "4              0     14         39           0         ...           \n",
       "\n",
       "   damage_per_enemy  avg_walk_speed  player_count  matchType_onehot_duo  \\\n",
       "0            181.25        1.452496             3                     0   \n",
       "1             93.82        1.794954             2                     0   \n",
       "2            254.20        1.290392             3                     0   \n",
       "3             97.72        1.320988             3                     0   \n",
       "4            114.80        1.575953             3                     0   \n",
       "\n",
       "  matchType_onehot_duo-fpp  matchType_onehot_solo  matchType_onehot_solo-fpp  \\\n",
       "0                        0                      0                          0   \n",
       "1                        0                      0                          0   \n",
       "2                        0                      0                          0   \n",
       "3                        0                      0                          0   \n",
       "4                        0                      0                          0   \n",
       "\n",
       "   matchType_onehot_squad  matchType_onehot_squad-fpp  totalDistancePlace  \n",
       "0                       0                           1            0.543120  \n",
       "1                       0                           1            0.541508  \n",
       "2                       0                           1            0.771560  \n",
       "3                       0                           1            0.410593  \n",
       "4                       0                           1            1.000000  \n",
       "\n",
       "[5 rows x 42 columns]"
      ]
     },
     "execution_count": 471,
     "metadata": {},
     "output_type": "execute_result"
    }
   ],
   "source": [
    "group_match_data.head()"
   ]
  },
  {
   "cell_type": "code",
   "execution_count": 475,
   "metadata": {},
   "outputs": [
    {
     "data": {
      "text/plain": [
       "Index(['groupId', 'matchId', 'assists', 'boosts', 'damageDealt', 'DBNOs',\n",
       "       'headshotKills', 'heals', 'killPlace', 'killPoints', 'kills',\n",
       "       'killStreaks', 'longestKill', 'matchDuration', 'matchType', 'maxPlace',\n",
       "       'numGroups', 'rankPoints', 'revives', 'rideDistance', 'roadKills',\n",
       "       'swimDistance', 'teamKills', 'vehicleDestroys', 'walkDistance',\n",
       "       'weaponsAcquired', 'winPoints', 'winPlacePerc', 'healsandboosts',\n",
       "       'headshot_rate', 'totalDistance', 'team_mode', 'damage_per_enemy',\n",
       "       'avg_walk_speed', 'player_count', 'matchType_onehot_duo',\n",
       "       'matchType_onehot_duo-fpp', 'matchType_onehot_solo',\n",
       "       'matchType_onehot_solo-fpp', 'matchType_onehot_squad',\n",
       "       'matchType_onehot_squad-fpp', 'totalDistancePlace'],\n",
       "      dtype='object')"
      ]
     },
     "execution_count": 475,
     "metadata": {},
     "output_type": "execute_result"
    }
   ],
   "source": [
    "group_match_data.columns"
   ]
  },
  {
   "cell_type": "markdown",
   "metadata": {},
   "source": [
    "## Drop column"
   ]
  },
  {
   "cell_type": "code",
   "execution_count": null,
   "metadata": {},
   "outputs": [],
   "source": [
    "# ['winPoints', 'killPoints', '']"
   ]
  },
  {
   "cell_type": "markdown",
   "metadata": {},
   "source": [
    "## load backup data"
   ]
  },
  {
   "cell_type": "code",
   "execution_count": 506,
   "metadata": {},
   "outputs": [],
   "source": [
    "del group_match_data_org"
   ]
  },
  {
   "cell_type": "code",
   "execution_count": 588,
   "metadata": {},
   "outputs": [],
   "source": [
    "group_match_data = pd.read_csv(os.path.join(data_dir,'group_match_data_train_non_norm.zip'))"
   ]
  },
  {
   "cell_type": "code",
   "execution_count": 589,
   "metadata": {},
   "outputs": [],
   "source": [
    "group_match_data_org = group_match_data.copy()"
   ]
  },
  {
   "cell_type": "code",
   "execution_count": 571,
   "metadata": {},
   "outputs": [],
   "source": [
    "group_match_data = group_match_data_org"
   ]
  },
  {
   "cell_type": "markdown",
   "metadata": {},
   "source": [
    "## normalization"
   ]
  },
  {
   "cell_type": "code",
   "execution_count": 602,
   "metadata": {},
   "outputs": [],
   "source": [
    "# MinMaxScaler\n",
    "norm_attrs = ['kills', 'assists', 'DBNOs', 'revives', 'heals', 'boosts']"
   ]
  },
  {
   "cell_type": "code",
   "execution_count": 603,
   "metadata": {},
   "outputs": [
    {
     "name": "stdout",
     "output_type": "stream",
     "text": [
      "processing kills...\n",
      "processing kills done...\n",
      "processing assists...\n",
      "processing assists done...\n",
      "processing DBNOs...\n",
      "processing DBNOs done...\n",
      "processing revives...\n",
      "processing revives done...\n",
      "processing heals...\n",
      "processing heals done...\n",
      "processing boosts...\n",
      "processing boosts done...\n"
     ]
    }
   ],
   "source": [
    "for attr in norm_attrs:\n",
    "    print(f'processing {attr}...')\n",
    "    match_max_attr = group_match_data.groupby('matchId')[f'{attr}'].max().to_dict()\n",
    "    group_match_data['match_max_attr'] = group_match_data['matchId'].apply(lambda x: match_max_attr[x] if match_max_attr[x] > 0 else 1)\n",
    "    group_match_data[f'{attr}'] = group_match_data[f'{attr}'] / group_match_data['match_max_attr']\n",
    "    group_match_data.drop('match_max_attr', axis=1, inplace=True)\n",
    "    print(f'processing {attr} done...')"
   ]
  },
  {
   "cell_type": "code",
   "execution_count": 604,
   "metadata": {},
   "outputs": [
    {
     "data": {
      "text/plain": [
       "1867964"
      ]
     },
     "execution_count": 604,
     "metadata": {},
     "output_type": "execute_result"
    }
   ],
   "source": [
    "len(group_match_data[norm_attrs].dropna())"
   ]
  },
  {
   "cell_type": "code",
   "execution_count": 605,
   "metadata": {},
   "outputs": [
    {
     "data": {
      "text/plain": [
       "1867964"
      ]
     },
     "execution_count": 605,
     "metadata": {},
     "output_type": "execute_result"
    }
   ],
   "source": [
    "len(group_match_data)"
   ]
  },
  {
   "cell_type": "markdown",
   "metadata": {},
   "source": [
    "## standardlization"
   ]
  },
  {
   "cell_type": "code",
   "execution_count": 597,
   "metadata": {},
   "outputs": [],
   "source": [
    "# StandardScale\n",
    "# (v - mean) / std\n",
    "stand_attrs = ['killStreaks', 'damageDealt', 'swimDistance', 'rideDistance', 'walkDistance']"
   ]
  },
  {
   "cell_type": "code",
   "execution_count": 598,
   "metadata": {},
   "outputs": [
    {
     "name": "stdout",
     "output_type": "stream",
     "text": [
      "processing killStreaks...\n",
      "processing killStreaks done...\n",
      "processing damageDealt...\n",
      "processing damageDealt done...\n",
      "processing swimDistance...\n",
      "processing swimDistance done...\n",
      "processing rideDistance...\n",
      "processing rideDistance done...\n",
      "processing walkDistance...\n",
      "processing walkDistance done...\n"
     ]
    }
   ],
   "source": [
    "for attr in stand_attrs:\n",
    "    print(f'processing {attr}...')\n",
    "    match_mean_attr = group_match_data.groupby('matchId')[f'{attr}'].mean().to_dict()\n",
    "    match_std_attr = group_match_data.groupby('matchId')[f'{attr}'].std().to_dict()\n",
    "    group_match_data['match_mean_attr'] = group_match_data['matchId'].apply(lambda x: match_mean_attr[x])\n",
    "    group_match_data['match_std_attr'] = group_match_data['matchId'].apply(lambda x: match_std_attr[x] if match_std_attr[x] > 0 else 1)\n",
    "    group_match_data[f'{attr}'] = (group_match_data[f'{attr}'] - group_match_data['match_mean_attr'])/ group_match_data['match_std_attr']\n",
    "    group_match_data.drop('match_mean_attr', axis=1, inplace=True)\n",
    "    group_match_data.drop('match_std_attr', axis=1, inplace=True)\n",
    "    print(f'processing {attr} done...')"
   ]
  },
  {
   "cell_type": "code",
   "execution_count": 606,
   "metadata": {},
   "outputs": [
    {
     "data": {
      "text/plain": [
       "1867964"
      ]
     },
     "execution_count": 606,
     "metadata": {},
     "output_type": "execute_result"
    }
   ],
   "source": [
    "len(group_match_data[['swimDistance', 'rideDistance']].dropna())"
   ]
  },
  {
   "cell_type": "code",
   "execution_count": 599,
   "metadata": {},
   "outputs": [
    {
     "data": {
      "text/plain": [
       "1867964"
      ]
     },
     "execution_count": 599,
     "metadata": {},
     "output_type": "execute_result"
    }
   ],
   "source": [
    "len(group_match_data[stand_attrs].dropna())"
   ]
  },
  {
   "cell_type": "code",
   "execution_count": 496,
   "metadata": {},
   "outputs": [
    {
     "data": {
      "text/plain": [
       "<matplotlib.axes._subplots.AxesSubplot at 0x1a3378a470>"
      ]
     },
     "execution_count": 496,
     "metadata": {},
     "output_type": "execute_result"
    },
    {
     "data": {
      "image/png": "[encoded data removed]",
      "text/plain": [
       "<Figure size 432x288 with 1 Axes>"
      ]
     },
     "metadata": {
      "needs_background": "light"
     },
     "output_type": "display_data"
    }
   ],
   "source": [
    "pd.value_counts(group_match_data['matchType']).plot(kind='bar')"
   ]
  },
  {
   "cell_type": "markdown",
   "metadata": {},
   "source": [
    "~~**rename groupId & matchId**~~"
   ]
  },
  {
   "cell_type": "code",
   "execution_count": 162,
   "metadata": {},
   "outputs": [],
   "source": [
    "# # np.array(range(len(group_match_data['groupId'])))\n",
    "# group_match_data['groupId'] = np.arange(len(group_match_data['groupId']))\n",
    "\n",
    "# reindex_match_dict = dict()\n",
    "# counter = 0\n",
    "# for matchId in group_match_data.matchId.values:\n",
    "#     if matchId not in reindex_match_dict:\n",
    "#         reindex_match_dict[matchId] = counter\n",
    "#         counter += 1\n",
    "\n",
    "# group_match_data['matchId'] = \\\n",
    "# group_match_data['matchId'].apply(lambda x: reindex_match_dict[x])\n",
    "\n",
    "# del reindex_match_dict"
   ]
  },
  {
   "cell_type": "markdown",
   "metadata": {},
   "source": [
    "**save group match data. because groupby is very slow.**"
   ]
  },
  {
   "cell_type": "code",
   "execution_count": 609,
   "metadata": {},
   "outputs": [],
   "source": [
    "group_match_data.to_csv(os.path.join(data_dir,'group_match_data_train_norm.zip'), \n",
    "                        index=False, sep=',', quotechar='\"', compression='zip')"
   ]
  },
  {
   "cell_type": "markdown",
   "metadata": {},
   "source": [
    "## 1.1 load team & match data directly from saved file."
   ]
  },
  {
   "cell_type": "code",
   "execution_count": 27,
   "metadata": {},
   "outputs": [
    {
     "name": "stdout",
     "output_type": "stream",
     "text": [
      "['group_match_data_train.zip', 'test_V2.csv.zip', 'train_V2.csv.zip']\n"
     ]
    }
   ],
   "source": [
    "%matplotlib inline\n",
    "import warnings\n",
    "warnings.filterwarnings('ignore')\n",
    "import numpy as np # linear algebra\n",
    "import pandas as pd # data processing, CSV file I/O (e.g. pd.read_csv)\n",
    "import os\n",
    "import seaborn as sns \n",
    "import matplotlib.pyplot as plt\n",
    "import math\n",
    "\n",
    "data_dir = \"../data\"\n",
    "print(os.listdir(data_dir))"
   ]
  },
  {
   "cell_type": "code",
   "execution_count": 28,
   "metadata": {},
   "outputs": [],
   "source": [
    "group_match_data = \\\n",
    "pd.read_csv(os.path.join(data_dir,'group_match_data_train.zip'))"
   ]
  },
  {
   "cell_type": "markdown",
   "metadata": {},
   "source": [
    "## 2. analysis team & match data"
   ]
  },
  {
   "cell_type": "code",
   "execution_count": 190,
   "metadata": {},
   "outputs": [
    {
     "data": {
      "text/plain": [
       "solo-fpp     517619\n",
       "squad-fpp    501714\n",
       "duo-fpp      482233\n",
       "squad        175585\n",
       "solo         164001\n",
       "duo          150248\n",
       "Name: matchType, dtype: int64"
      ]
     },
     "execution_count": 190,
     "metadata": {},
     "output_type": "execute_result"
    }
   ],
   "source": [
    "pd.value_counts(group_match_data['matchType'])\n",
    "# matchtp = group_match_data['matchType']"
   ]
  },
  {
   "cell_type": "code",
   "execution_count": 191,
   "metadata": {},
   "outputs": [],
   "source": [
    "import seaborn as sns"
   ]
  },
  {
   "cell_type": "code",
   "execution_count": 192,
   "metadata": {},
   "outputs": [
    {
     "data": {
      "text/plain": [
       "Text(0, 0.5, 'Data Size')"
      ]
     },
     "execution_count": 192,
     "metadata": {},
     "output_type": "execute_result"
    },
    {
     "data": {
      "image/png": "[encoded data removed]",
      "text/plain": [
       "<Figure size 1080x504 with 1 Axes>"
      ]
     },
     "metadata": {
      "needs_background": "light"
     },
     "output_type": "display_data"
    }
   ],
   "source": [
    "fig = plt.figure(figsize=(15,7))\n",
    "data_plt = pd.value_counts(group_match_data['matchType'])\n",
    "ind = data_plt.keys().tolist()\n",
    "l_0 = data_plt\n",
    "p1 = sns.barplot(ind, l_0, log=True)\n",
    "plt.xticks(rotation=18)\n",
    "plt.title('Data Size of Game Modes')\n",
    "plt.xlabel('Game Modes')\n",
    "plt.ylabel('Data Size')\n",
    "# .plot(kind='bar', log=True, figsize=(15,7), xrotation=15)"
   ]
  },
  {
   "cell_type": "code",
   "execution_count": 196,
   "metadata": {
    "_uuid": "17cd83fe16aa601f56cf7e7daa12442bcff7f78f"
   },
   "outputs": [],
   "source": [
    "corr = group_match_data.corr()"
   ]
  },
  {
   "cell_type": "code",
   "execution_count": 197,
   "metadata": {
    "_uuid": "91adbbfb77da71ec56bad2ece0960a7fb164c0e3"
   },
   "outputs": [
    {
     "name": "stderr",
     "output_type": "stream",
     "text": [
      "/anaconda3/lib/python3.6/site-packages/matplotlib/figure.py:445: UserWarning: Matplotlib is currently using module://ipykernel.pylab.backend_inline, which is a non-GUI backend, so cannot show the figure.\n",
      "  % get_backend())\n"
     ]
    },
    {
     "data": {
      "image/png": "[encoded data removed]",
      "text/plain": [
       "<Figure size 432x720 with 2 Axes>"
      ]
     },
     "metadata": {
      "needs_background": "light"
     },
     "output_type": "display_data"
    }
   ],
   "source": [
    "# corr= df_train.corr()\n",
    "Y_Column = 'winPlacePerc'\n",
    "corr_Target = corr[[Y_Column]]\n",
    "x = 0.2\n",
    "corr_T= corr_Target[abs(corr_Target['winPlacePerc'])>x]\n",
    "corr_T = corr_T.sort_values(by='winPlacePerc')\n",
    "fig = plt.figure(figsize=(6, 10))\n",
    "# f,ax = plt.subplots()\n",
    "sns.heatmap(corr_T, annot=True, linewidths=.5, fmt= '.2f', cmap=plt.cm.Blues)\n",
    "plt.title(\"feature correlation\",fontsize=12)\n",
    "fig.show()\n",
    "# fig.savefig(\"corr_2_winPlace.png\")"
   ]
  },
  {
   "cell_type": "code",
   "execution_count": null,
   "metadata": {},
   "outputs": [],
   "source": []
  }
 ],
 "metadata": {
  "kernelspec": {
   "display_name": "Python 3",
   "language": "python",
   "name": "python3"
  },
  "language_info": {
   "codemirror_mode": {
    "name": "ipython",
    "version": 3
   },
   "file_extension": ".py",
   "mimetype": "text/x-python",
   "name": "python",
   "nbconvert_exporter": "python",
   "pygments_lexer": "ipython3",
   "version": "3.7.0"
  }
 },
 "nbformat": 4,
 "nbformat_minor": 1
}
