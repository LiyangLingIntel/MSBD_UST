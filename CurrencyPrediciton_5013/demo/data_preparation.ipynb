{
 "cells": [
  {
   "cell_type": "code",
   "execution_count": 1,
   "metadata": {},
   "outputs": [],
   "source": [
    "from datetime import *\n",
    "import pandas as pd\n",
    "import glob\n",
    "import warnings"
   ]
  },
  {
   "cell_type": "code",
   "execution_count": 2,
   "metadata": {},
   "outputs": [],
   "source": [
    "warnings.filterwarnings('ignore')"
   ]
  },
  {
   "cell_type": "markdown",
   "metadata": {},
   "source": [
    "# csv -> Format 1"
   ]
  },
  {
   "cell_type": "code",
   "execution_count": 3,
   "metadata": {},
   "outputs": [],
   "source": [
    "start_time = \"2018-08-01 00:00:00\"\n",
    "end_time = \"2018-08-08 00:00:00\""
   ]
  },
  {
   "cell_type": "code",
   "execution_count": 4,
   "metadata": {},
   "outputs": [],
   "source": [
    "format1_path = '../data/data_format1_201808.h5' #\"D:/Dropbox/MAFS-2018/data/data_format1_20180801_20180807.h5\"\n",
    "format2_path = '../data/data_format2_201808.h5' #\"D:/Dropbox/MAFS-2018/data/data_format2_20180801_20180807.h5\""
   ]
  },
  {
   "cell_type": "code",
   "execution_count": 5,
   "metadata": {},
   "outputs": [],
   "source": [
    "h5data = pd.HDFStore(format1_path)"
   ]
  },
  {
   "cell_type": "code",
   "execution_count": 6,
   "metadata": {},
   "outputs": [],
   "source": [
    "file_list = glob.glob('D:/Dropbox/MAFS-2018/data/*.csv')"
   ]
  },
  {
   "cell_type": "code",
   "execution_count": 7,
   "metadata": {},
   "outputs": [
    {
     "name": "stdout",
     "output_type": "stream",
     "text": [
      "BCH-USD\n",
      "BTC-USD\n",
      "ETH-USD\n",
      "LTC-USD\n"
     ]
    }
   ],
   "source": [
    "for file in file_list:\n",
    "    symbol = file.split(sep=\"\\\\\")[-1].split(sep=\"_\")[0]\n",
    "    df = pd.read_csv(file, parse_dates=[\"time\"])\n",
    "    df = df[(df.time >= start_time) & (df.time < end_time)]\n",
    "    df.set_index(keys=\"time\", drop=True, inplace=True)\n",
    "    h5data[symbol] = df\n",
    "    print(symbol)"
   ]
  },
  {
   "cell_type": "code",
   "execution_count": 11,
   "metadata": {},
   "outputs": [],
   "source": [
    "h5data.close()"
   ]
  },
  {
   "cell_type": "markdown",
   "metadata": {},
   "source": [
    "# Format 1 -> Format 2"
   ]
  },
  {
   "cell_type": "code",
   "execution_count": 9,
   "metadata": {},
   "outputs": [],
   "source": [
    "import h5py"
   ]
  },
  {
   "cell_type": "code",
   "execution_count": 10,
   "metadata": {},
   "outputs": [],
   "source": [
    "def read_h5(path, dtype='dataframe'):\n",
    "    assert dtype in ['dataframe', 'nparray'], \"You didn't get the right dtype\"\n",
    "    dataList = list()\n",
    "    keys = list()\n",
    "    \n",
    "    f = h5py.File(path, 'r')\n",
    "    for key in f.keys():\n",
    "        keys.append(key)\n",
    "    f.close()\n",
    "    \n",
    "    for key in keys:\n",
    "        if dtype=='dataframe':\n",
    "            dataList.append(pd.read_hdf(path, key))\n",
    "        else:\n",
    "            dataList.append(pd.read_hdf(path, key).values)\n",
    "                        \n",
    "    return dataList, keys"
   ]
  },
  {
   "cell_type": "code",
   "execution_count": 11,
   "metadata": {},
   "outputs": [],
   "source": [
    "(l, keys) = read_h5(format1_path)"
   ]
  },
  {
   "cell_type": "code",
   "execution_count": 12,
   "metadata": {},
   "outputs": [],
   "source": [
    "index = l[0].index\n",
    "h5f = h5py.File(format2_path, 'w')\n",
    "for i in index:\n",
    "    min_data = l[0].loc[[i]]\n",
    "    for j in range(1, len(l)):\n",
    "        min_data = min_data.append(l[j].loc[[i]])\n",
    "    h5f.create_dataset(str(i), data=min_data.values)"
   ]
  },
  {
   "cell_type": "code",
   "execution_count": 13,
   "metadata": {},
   "outputs": [],
   "source": [
    "h5f.close()"
   ]
  }
 ],
 "metadata": {
  "kernelspec": {
   "display_name": "Python 3",
   "language": "python",
   "name": "python3"
  },
  "language_info": {
   "codemirror_mode": {
    "name": "ipython",
    "version": 3
   },
   "file_extension": ".py",
   "mimetype": "text/x-python",
   "name": "python",
   "nbconvert_exporter": "python",
   "pygments_lexer": "ipython3",
   "version": "3.7.0"
  }
 },
 "nbformat": 4,
 "nbformat_minor": 2
}
