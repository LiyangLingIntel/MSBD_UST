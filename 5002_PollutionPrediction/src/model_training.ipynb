{
 "cells": [
  {
   "cell_type": "code",
   "execution_count": 1,
   "metadata": {},
   "outputs": [],
   "source": [
    "import numpy as np\n",
    "import pandas as pd\n",
    "from matplotlib import pyplot as plt\n",
    "import seaborn as sns\n",
    "\n",
    "import os\n",
    "from utils import *\n",
    "from settings import station_locale, data_root, output_folder, report_folder, station_dist, station_angle\n",
    "\n",
    "from sklearn.externals import joblib\n",
    "from sklearn.model_selection import train_test_split \n",
    "\n",
    "from xgboost import XGBRegressor"
   ]
  },
  {
   "cell_type": "code",
   "execution_count": 2,
   "metadata": {},
   "outputs": [],
   "source": [
    "data_folder = '../outputs/'\n",
    "report_folder = '../report_rc/'\n",
    "model_folder = '../models/'"
   ]
  },
  {
   "cell_type": "code",
   "execution_count": 3,
   "metadata": {},
   "outputs": [],
   "source": [
    "df = pd.read_csv(os.path.join(data_folder, 'train_set.zip'))\n",
    "df.drop(labels=['Unnamed: 0'], axis=1, inplace=True)"
   ]
  },
  {
   "cell_type": "code",
   "execution_count": 4,
   "metadata": {},
   "outputs": [],
   "source": [
    "df = df.query('datetime_label>5000')\n",
    "df['periodic_solar_term'] = df['date'].map(lambda x: get_solar_term(x, periodicity=True))\n",
    "df['periodic_time'] = df['time'].map(lambda x: get_periodic_time_label(x))"
   ]
  },
  {
   "cell_type": "code",
   "execution_count": 5,
   "metadata": {},
   "outputs": [],
   "source": [
    "# x,y = construct_train_xy(df, 'aotizhongxin_aq', df['station_id'].unique())"
   ]
  },
  {
   "cell_type": "code",
   "execution_count": 6,
   "metadata": {
    "scrolled": true
   },
   "outputs": [],
   "source": [
    "# x.head()"
   ]
  },
  {
   "cell_type": "code",
   "execution_count": 7,
   "metadata": {},
   "outputs": [],
   "source": [
    "station_list = df['station_id'].unique()\n",
    "\n",
    "for station_id in station_list:\n",
    "    \n",
    "    x, y = construct_train_xy(df, station_id, station_list, only_x=False)\n",
    "    \n",
    "    xgb_pm25_1 = XGBRegressor(booster='gblinear', n_estimators=1000, learning_rate=0.1, max_depth=5).fit(x, y[['PM2.5']])\n",
    "    xgb_pm25_3 = XGBRegressor(booster='gblinear', n_estimators=1500, learning_rate=0.1, max_depth=3).fit(x, y[['PM2.5']])\n",
    "    xgb_pm25_2 = XGBRegressor(booster='gblinear', n_estimators=2000, learning_rate=0.1, max_depth=1).fit(x, y[['PM2.5']])\n",
    "    \n",
    "    xgb_pm10_1 = XGBRegressor(booster='gblinear', n_estimators=1000, learning_rate=0.1, max_depth=5).fit(x, y[['PM10']])\n",
    "    \n",
    "    xgb_o3_2 = XGBRegressor(booster='gblinear', n_estimators=1500, learning_rate=0.1, max_depth=3).fit(x, y[['O3']])\n",
    "    xgb_o3_3 = XGBRegressor(booster='gblinear', n_estimators=2000, learning_rate=0.1, max_depth=1).fit(x, y[['O3']])\n",
    "    \n",
    "    station_name = station_id.split('_')[0]\n",
    "    joblib.dump(xgb_pm25_1, os.path.join(model_folder, f'{station_name}_pm25_1.joblib'))\n",
    "    joblib.dump(xgb_pm25_2, os.path.join(model_folder, f'{station_name}_pm25_2.joblib'))\n",
    "    joblib.dump(xgb_pm25_3, os.path.join(model_folder, f'{station_name}_pm25_3.joblib'))\n",
    "    joblib.dump(xgb_pm10_1, os.path.join(model_folder, f'{station_name}_pm10_1.joblib'))\n",
    "#     joblib.dump(xgb_pm10_2, os.path.join(model_folder, f'{station_name}_pm10_2.joblib'))\n",
    "#     joblib.dump(xgb_pm10_3, os.path.join(model_folder, f'{station_name}_pm10_3.joblib'))\n",
    "#     joblib.dump(xgb_o3_1, os.path.join(model_folder, f'{station_name}_o3_1.joblib'))\n",
    "    joblib.dump(xgb_o3_2, os.path.join(model_folder, f'{station_name}_o3_2.joblib'))\n",
    "    joblib.dump(xgb_o3_3, os.path.join(model_folder, f'{station_name}_o3_3.joblib'))\n",
    "    "
   ]
  },
  {
   "cell_type": "code",
   "execution_count": null,
   "metadata": {},
   "outputs": [],
   "source": [
    "station_list = df['station_id'].unique()\n",
    "\n",
    "for station_id in station_list:\n",
    "    \n",
    "    x, y = construct_train_xy(df, station_id, station_list, only_x=False)\n",
    "    rg_o3 = Ridge(alpha=0.01).fit(x, y[['O3']])"
   ]
  },
  {
   "cell_type": "code",
   "execution_count": null,
   "metadata": {},
   "outputs": [],
   "source": []
  }
 ],
 "metadata": {
  "kernelspec": {
   "display_name": "py36",
   "language": "python",
   "name": "py36"
  },
  "language_info": {
   "codemirror_mode": {
    "name": "ipython",
    "version": 3
   },
   "file_extension": ".py",
   "mimetype": "text/x-python",
   "name": "python",
   "nbconvert_exporter": "python",
   "pygments_lexer": "ipython3",
   "version": "3.6.3"
  }
 },
 "nbformat": 4,
 "nbformat_minor": 2
}
