{
 "cells": [
  {
   "cell_type": "code",
   "execution_count": 107,
   "metadata": {},
   "outputs": [],
   "source": [
    "%matplotlib inline\n",
    "import os\n",
    "import numpy as np\n",
    "import pandas as pd\n",
    "from os.path import join as pjoin\n",
    "\n",
    "import matplotlib.pyplot as plt\n",
    "import cv2 as cv\n",
    "from skimage.io import imshow, imread, imsave\n",
    "\n",
    "import warnings\n",
    "warnings.filterwarnings('ignore')\n",
    "\n",
    "work_dir = './data'\n",
    "file_path = './data/faces/'\n",
    "label_data = './data/labels.csv'"
   ]
  },
  {
   "cell_type": "code",
   "execution_count": 108,
   "metadata": {},
   "outputs": [],
   "source": [
    "files = os.listdir(file_path)\n",
    "files.sort()\n",
    "f_names = pd.Series(files, dtype=str)"
   ]
  },
  {
   "cell_type": "code",
   "execution_count": 109,
   "metadata": {},
   "outputs": [],
   "source": [
    "labels = pd.read_csv(label_data)"
   ]
  },
  {
   "cell_type": "code",
   "execution_count": 110,
   "metadata": {},
   "outputs": [
    {
     "data": {
      "text/html": [
       "<div>\n",
       "<style scoped>\n",
       "    .dataframe tbody tr th:only-of-type {\n",
       "        vertical-align: middle;\n",
       "    }\n",
       "\n",
       "    .dataframe tbody tr th {\n",
       "        vertical-align: top;\n",
       "    }\n",
       "\n",
       "    .dataframe thead th {\n",
       "        text-align: right;\n",
       "    }\n",
       "</style>\n",
       "<table border=\"1\" class=\"dataframe\">\n",
       "  <thead>\n",
       "    <tr style=\"text-align: right;\">\n",
       "      <th></th>\n",
       "      <th>is_smile</th>\n",
       "      <th>yaw</th>\n",
       "      <th>pitch</th>\n",
       "      <th>roll</th>\n",
       "    </tr>\n",
       "  </thead>\n",
       "  <tbody>\n",
       "    <tr>\n",
       "      <th>0</th>\n",
       "      <td>1</td>\n",
       "      <td>-0.021162</td>\n",
       "      <td>0.059530</td>\n",
       "      <td>-0.039662</td>\n",
       "    </tr>\n",
       "    <tr>\n",
       "      <th>1</th>\n",
       "      <td>1</td>\n",
       "      <td>-0.057745</td>\n",
       "      <td>0.083098</td>\n",
       "      <td>-0.094952</td>\n",
       "    </tr>\n",
       "    <tr>\n",
       "      <th>2</th>\n",
       "      <td>1</td>\n",
       "      <td>0.095993</td>\n",
       "      <td>0.028798</td>\n",
       "      <td>0.065996</td>\n",
       "    </tr>\n",
       "    <tr>\n",
       "      <th>3</th>\n",
       "      <td>1</td>\n",
       "      <td>0.000000</td>\n",
       "      <td>0.047124</td>\n",
       "      <td>0.171268</td>\n",
       "    </tr>\n",
       "    <tr>\n",
       "      <th>4</th>\n",
       "      <td>1</td>\n",
       "      <td>0.036073</td>\n",
       "      <td>0.043633</td>\n",
       "      <td>-0.181721</td>\n",
       "    </tr>\n",
       "  </tbody>\n",
       "</table>\n",
       "</div>"
      ],
      "text/plain": [
       "   is_smile       yaw     pitch      roll\n",
       "0         1 -0.021162  0.059530 -0.039662\n",
       "1         1 -0.057745  0.083098 -0.094952\n",
       "2         1  0.095993  0.028798  0.065996\n",
       "3         1  0.000000  0.047124  0.171268\n",
       "4         1  0.036073  0.043633 -0.181721"
      ]
     },
     "execution_count": 110,
     "metadata": {},
     "output_type": "execute_result"
    }
   ],
   "source": [
    "labels.head()"
   ]
  },
  {
   "cell_type": "code",
   "execution_count": 111,
   "metadata": {},
   "outputs": [],
   "source": [
    "data = pd.DataFrame()#index=f_names)\n",
    "data['file_name'] = f_names\n",
    "for key in labels:\n",
    "    data[key] = labels[key]"
   ]
  },
  {
   "cell_type": "code",
   "execution_count": 112,
   "metadata": {},
   "outputs": [
    {
     "data": {
      "text/html": [
       "<div>\n",
       "<style scoped>\n",
       "    .dataframe tbody tr th:only-of-type {\n",
       "        vertical-align: middle;\n",
       "    }\n",
       "\n",
       "    .dataframe tbody tr th {\n",
       "        vertical-align: top;\n",
       "    }\n",
       "\n",
       "    .dataframe thead th {\n",
       "        text-align: right;\n",
       "    }\n",
       "</style>\n",
       "<table border=\"1\" class=\"dataframe\">\n",
       "  <thead>\n",
       "    <tr style=\"text-align: right;\">\n",
       "      <th></th>\n",
       "      <th>file_name</th>\n",
       "      <th>is_smile</th>\n",
       "      <th>yaw</th>\n",
       "      <th>pitch</th>\n",
       "      <th>roll</th>\n",
       "    </tr>\n",
       "  </thead>\n",
       "  <tbody>\n",
       "    <tr>\n",
       "      <th>0</th>\n",
       "      <td>file0001.jpg</td>\n",
       "      <td>1</td>\n",
       "      <td>-0.021162</td>\n",
       "      <td>0.059530</td>\n",
       "      <td>-0.039662</td>\n",
       "    </tr>\n",
       "    <tr>\n",
       "      <th>1</th>\n",
       "      <td>file0002.jpg</td>\n",
       "      <td>1</td>\n",
       "      <td>-0.057745</td>\n",
       "      <td>0.083098</td>\n",
       "      <td>-0.094952</td>\n",
       "    </tr>\n",
       "    <tr>\n",
       "      <th>2</th>\n",
       "      <td>file0003.jpg</td>\n",
       "      <td>1</td>\n",
       "      <td>0.095993</td>\n",
       "      <td>0.028798</td>\n",
       "      <td>0.065996</td>\n",
       "    </tr>\n",
       "    <tr>\n",
       "      <th>3</th>\n",
       "      <td>file0004.jpg</td>\n",
       "      <td>1</td>\n",
       "      <td>0.000000</td>\n",
       "      <td>0.047124</td>\n",
       "      <td>0.171268</td>\n",
       "    </tr>\n",
       "    <tr>\n",
       "      <th>4</th>\n",
       "      <td>file0005.jpg</td>\n",
       "      <td>1</td>\n",
       "      <td>0.036073</td>\n",
       "      <td>0.043633</td>\n",
       "      <td>-0.181721</td>\n",
       "    </tr>\n",
       "  </tbody>\n",
       "</table>\n",
       "</div>"
      ],
      "text/plain": [
       "      file_name  is_smile       yaw     pitch      roll\n",
       "0  file0001.jpg         1 -0.021162  0.059530 -0.039662\n",
       "1  file0002.jpg         1 -0.057745  0.083098 -0.094952\n",
       "2  file0003.jpg         1  0.095993  0.028798  0.065996\n",
       "3  file0004.jpg         1  0.000000  0.047124  0.171268\n",
       "4  file0005.jpg         1  0.036073  0.043633 -0.181721"
      ]
     },
     "execution_count": 112,
     "metadata": {},
     "output_type": "execute_result"
    }
   ],
   "source": [
    "data.head()"
   ]
  },
  {
   "cell_type": "code",
   "execution_count": 115,
   "metadata": {},
   "outputs": [],
   "source": [
    "data['path'] = file_path + data['file_name']"
   ]
  },
  {
   "cell_type": "code",
   "execution_count": 117,
   "metadata": {},
   "outputs": [],
   "source": [
    "data.to_csv('./data/face_index.csv', index=False)"
   ]
  },
  {
   "cell_type": "markdown",
   "metadata": {},
   "source": [
    "## capture mouthes and save them"
   ]
  },
  {
   "cell_type": "code",
   "execution_count": 47,
   "metadata": {},
   "outputs": [],
   "source": [
    "import cv2 as cv\n",
    "from skimage.io import imshow, imread, imsave"
   ]
  },
  {
   "cell_type": "code",
   "execution_count": 48,
   "metadata": {},
   "outputs": [],
   "source": [
    "# load classifiers\n",
    "harr_face = cv.CascadeClassifier('haarcascade_frontalface_default.xml')\n",
    "harr_mouth = cv.CascadeClassifier('haarcascade_mouth.xml')\n",
    "\n",
    "# FACE: find the largest detected face as detected face\n",
    "def find_max_square(squares, tag='square', verbose=0):\n",
    "    max_square_size = 0\n",
    "    max_square = []\n",
    "    if len(squares) > 0:\n",
    "        # squares: [0]: x; [1]: y; [2]: width; [3]: height\n",
    "        for (x, y, w, h) in squares:\n",
    "            if  w * h > max_square_size:\n",
    "                max_square_size = w * h\n",
    "                max_square = [x, y, w, h]\n",
    "\n",
    "        if verbose > 0:\n",
    "            if len(max_square) == 0: # did not detect face\n",
    "                print('no %s found')# in %s' % (tag, img_path))\n",
    "            else:\n",
    "                print('find %s @ %s' % (tag, str(max_square)))\n",
    "    return max_square\n",
    "\n",
    "def find_lowest_square(squares, tag='square', verbose=0):\n",
    "    max_y = 0\n",
    "    lowest_square = []\n",
    "    if len(squares) > 0:\n",
    "        # squares: [0]: x; [1]: y; [2]: width; [3]: height\n",
    "        for (x, y, w, h) in squares:\n",
    "            if  y > max_y:\n",
    "                max_y = y\n",
    "                lowest_square = [x, y, w, h]\n",
    "\n",
    "        if verbose > 0:\n",
    "            if len(lowest_square) == 0: # did not detect face\n",
    "                print('no %s found in')# %s' % (tag, img_path))\n",
    "            else:\n",
    "                print('find %s @ %s' % (tag, str(lowest_square)))\n",
    "                \n",
    "    return lowest_square\n",
    "\n",
    "def find_mouth(img, is_square_face=False, is_square_mouth=False):\n",
    "    # runing the classifiers\n",
    "#     img = imread(img_path)\n",
    "    gray = cv.cvtColor(img, cv.COLOR_BGR2GRAY)\n",
    "    faces = harr_face.detectMultiScale(gray, 1.3, 5)\n",
    "    max_face = find_max_square(faces, tag='face')\n",
    "    # for (x, y, w, h) in faces:\n",
    "    # img = cv.rectangle(img, (x,y), (x+w, y+h), (255,0,0), 2)\n",
    "    if len(max_face) > 0:\n",
    "        x, y, w, h = max_face\n",
    "        face_gray = gray[y:y+h, x:x+w]\n",
    "        face_color = img[y:y+h, x:x+w]\n",
    "        if is_square_face:\n",
    "            cv.rectangle(img, (x,y), (x+w, y+h), (255,0,0), 2)\n",
    "    #     imshow(img)\n",
    "        mouths = harr_mouth.detectMultiScale(face_gray)\n",
    "        mouth = find_lowest_square(mouths, tag='mouth')\n",
    "    #     for (mx, my, mw, mh) in mouths:\n",
    "    #         cv.rectangle(roi_color, (mx,my), (mx+mw, my+mh), (0,255,0), 1)\n",
    "    #         print(mx, my, mw, mh)\n",
    "        if len(mouth) > 0:\n",
    "            mx, my, mw, mh = mouth\n",
    "            if is_square_mouth:\n",
    "                cv.rectangle(face_color, (mx,my), (mx+mw, my+mh), (0,255,0), 1)\n",
    "#             imshow(img)\n",
    "            return x+mx, y+my, mw, mh\n",
    "    return []\n",
    "\n",
    "def img_generator(data):\n",
    "    for i in range(len(data)):\n",
    "        im_info = data.loc[i]\n",
    "        path = os.path.join(file_path, im_info.file_name)\n",
    "        yield path, im_info.is_smile\n",
    "\n",
    "def get_partial(img, x, y, w, h):\n",
    "    return img[y:y+h, x:x+w]\n",
    "\n",
    "def check_creat_dir(save_path):\n",
    "    dir_path = os.path.dirname(save_path)\n",
    "    if not os.path.exists(dir_path):\n",
    "        print('create folder... %s' % dir_path)\n",
    "        os.makedirs(dir_path)"
   ]
  },
  {
   "cell_type": "code",
   "execution_count": 49,
   "metadata": {},
   "outputs": [],
   "source": [
    "def capture_mouth(img_path, is_smile, verbos=1):\n",
    "    mouth_path = 'mouths'\n",
    "    mouth_path_smile = 'smile'\n",
    "    mouth_path_notsmile = 'notsmile'\n",
    "\n",
    "#     img_path, is_smile = next(img_gen)\n",
    "\n",
    "    img = imread(img_path)\n",
    "    img = img.copy()\n",
    "    mouth = find_mouth(img=img)\n",
    "\n",
    "    if len(mouth) > 0:\n",
    "        if verbos>0:\n",
    "            print('find %s mouth in %s' % ('smile' if is_smile==1 else 'neutral', img_path))\n",
    "        x, y, w, h = mouth\n",
    "        mouth_img = get_partial(img, x, y, w, h)\n",
    "        mouth_file_name = os.path.basename(img_path).replace('file', 'mouth')\n",
    "        if is_smile == 1:\n",
    "            save_path = os.path.join(work_dir, mouth_path, \n",
    "                                     mouth_path_smile, mouth_file_name)\n",
    "        else:\n",
    "            save_path = os.path.join(work_dir, mouth_path, \n",
    "                                     mouth_path_notsmile, mouth_file_name)\n",
    "        if verbos>0:\n",
    "            print('save img...')\n",
    "        check_creat_dir(save_path)\n",
    "        imsave(save_path, mouth_img)\n",
    "#         cv.rectangle(img, (x, y), (x+w, y+h), (0,255,0), 1)\n",
    "        check_creat_dir(img_path.replace('faces', 'tag_face'))\n",
    "        imsave(img_path.replace('faces', 'tag_face'), img)\n",
    "    else:\n",
    "        if verbos>0:\n",
    "            print('No mouth found in %s' % img_path)"
   ]
  },
  {
   "cell_type": "code",
   "execution_count": 50,
   "metadata": {},
   "outputs": [],
   "source": [
    "img_gen = img_generator(data)"
   ]
  },
  {
   "cell_type": "code",
   "execution_count": 51,
   "metadata": {},
   "outputs": [
    {
     "name": "stdout",
     "output_type": "stream",
     "text": [
      "create folder... ./mouths/smile\n",
      "create folder... ./tag_face\n",
      "create folder... ./mouths/notsmile\n",
      "error found for ./faces/file2346.jpg\n",
      "error found for ./faces/file3975.jpg\n"
     ]
    }
   ],
   "source": [
    "for img_path, is_smile in img_gen:\n",
    "    try:\n",
    "        capture_mouth(img_path, is_smile, verbos=0)\n",
    "    except:\n",
    "        print(f\"error found for {img_path}\")"
   ]
  },
  {
   "cell_type": "markdown",
   "metadata": {},
   "source": [
    "## from mouth & faces generate csv"
   ]
  },
  {
   "cell_type": "code",
   "execution_count": 52,
   "metadata": {},
   "outputs": [],
   "source": [
    "# ip, sm = next(img_gen)\n",
    "# capture_mouth(ip, sm)"
   ]
  },
  {
   "cell_type": "code",
   "execution_count": 53,
   "metadata": {},
   "outputs": [],
   "source": [
    "tag_face_dir = pjoin(work_dir, 'tag_face')\n",
    "smile_mouth_dir = pjoin(work_dir, 'mouths', 'smile')\n",
    "notsmile_mouth_dir = pjoin(work_dir, 'mouths', 'notsmile')\n",
    "faces = os.listdir(tag_face_dir)\n",
    "smile_mouths = os.listdir(smile_mouth_dir)\n",
    "notsmile_mouths = os.listdir(notsmile_mouth_dir)"
   ]
  },
  {
   "cell_type": "code",
   "execution_count": 54,
   "metadata": {},
   "outputs": [],
   "source": [
    "pd_face = pd.DataFrame()\n",
    "pd_sm = pd.DataFrame()\n",
    "pd_nsm = pd.DataFrame()"
   ]
  },
  {
   "cell_type": "code",
   "execution_count": 55,
   "metadata": {},
   "outputs": [],
   "source": [
    "pd_face['path']=[pjoin(tag_face_dir, x) for x in faces]\n",
    "pd_sm['mpath']=[pjoin(smile_mouth_dir, x) for x in smile_mouths]\n",
    "pd_nsm['mpath']=[pjoin(notsmile_mouth_dir, x) for x in notsmile_mouths]"
   ]
  },
  {
   "cell_type": "code",
   "execution_count": 56,
   "metadata": {},
   "outputs": [],
   "source": [
    "pd_face['index'] = pd_face['path'].apply(lambda x: os.path.basename(x).replace('file', '').replace('.jpg', ''))\n",
    "pd_sm['index'] = pd_sm['mpath'].apply(lambda x: os.path.basename(x).replace('mouth', '').replace('.jpg', ''))\n",
    "pd_nsm['index'] = pd_nsm['mpath'].apply(lambda x: os.path.basename(x).replace('mouth', '').replace('.jpg', ''))"
   ]
  },
  {
   "cell_type": "code",
   "execution_count": 57,
   "metadata": {},
   "outputs": [],
   "source": [
    "pd_face.set_index('index', inplace=True)\n",
    "pd_sm.set_index('index', inplace=True)\n",
    "pd_nsm.set_index('index', inplace=True)"
   ]
  },
  {
   "cell_type": "code",
   "execution_count": 58,
   "metadata": {},
   "outputs": [],
   "source": [
    "pd_face = pd_face.join(pd_sm.append(pd_nsm), how='left')"
   ]
  },
  {
   "cell_type": "code",
   "execution_count": 59,
   "metadata": {},
   "outputs": [],
   "source": [
    "pd_face = pd_face.sort_index()"
   ]
  },
  {
   "cell_type": "code",
   "execution_count": 60,
   "metadata": {},
   "outputs": [],
   "source": [
    "pd_face['is_smile'] = pd_face['mpath'].apply(lambda x: 0 if 'notsmile' in x else 1)"
   ]
  },
  {
   "cell_type": "markdown",
   "metadata": {},
   "source": [
    "#### save data"
   ]
  },
  {
   "cell_type": "code",
   "execution_count": 61,
   "metadata": {},
   "outputs": [],
   "source": [
    "pd_face.to_csv('./data/face_mouth_data_index.csv', sep=',', quotechar='\"')"
   ]
  },
  {
   "cell_type": "code",
   "execution_count": 62,
   "metadata": {},
   "outputs": [],
   "source": [
    "shapes = []\n",
    "for x in pd_face.mpath.values:\n",
    "    img = imread(x)\n",
    "    x, y, z = img.shape\n",
    "    shapes.append([x, y, z])\n",
    "shapes = np.array(shapes)\n",
    "shapes = pd.DataFrame(shapes, columns=['x', 'y', 'z'])"
   ]
  },
  {
   "cell_type": "code",
   "execution_count": 63,
   "metadata": {},
   "outputs": [
    {
     "data": {
      "text/html": [
       "<div>\n",
       "<style scoped>\n",
       "    .dataframe tbody tr th:only-of-type {\n",
       "        vertical-align: middle;\n",
       "    }\n",
       "\n",
       "    .dataframe tbody tr th {\n",
       "        vertical-align: top;\n",
       "    }\n",
       "\n",
       "    .dataframe thead th {\n",
       "        text-align: right;\n",
       "    }\n",
       "</style>\n",
       "<table border=\"1\" class=\"dataframe\">\n",
       "  <thead>\n",
       "    <tr style=\"text-align: right;\">\n",
       "      <th></th>\n",
       "      <th>x</th>\n",
       "      <th>y</th>\n",
       "      <th>z</th>\n",
       "    </tr>\n",
       "  </thead>\n",
       "  <tbody>\n",
       "    <tr>\n",
       "      <th>count</th>\n",
       "      <td>3221.000000</td>\n",
       "      <td>3221.000000</td>\n",
       "      <td>3221.0</td>\n",
       "    </tr>\n",
       "    <tr>\n",
       "      <th>mean</th>\n",
       "      <td>24.527476</td>\n",
       "      <td>41.040671</td>\n",
       "      <td>3.0</td>\n",
       "    </tr>\n",
       "    <tr>\n",
       "      <th>std</th>\n",
       "      <td>4.828256</td>\n",
       "      <td>8.012561</td>\n",
       "      <td>0.0</td>\n",
       "    </tr>\n",
       "    <tr>\n",
       "      <th>min</th>\n",
       "      <td>15.000000</td>\n",
       "      <td>25.000000</td>\n",
       "      <td>3.0</td>\n",
       "    </tr>\n",
       "    <tr>\n",
       "      <th>25%</th>\n",
       "      <td>21.000000</td>\n",
       "      <td>35.000000</td>\n",
       "      <td>3.0</td>\n",
       "    </tr>\n",
       "    <tr>\n",
       "      <th>50%</th>\n",
       "      <td>24.000000</td>\n",
       "      <td>41.000000</td>\n",
       "      <td>3.0</td>\n",
       "    </tr>\n",
       "    <tr>\n",
       "      <th>75%</th>\n",
       "      <td>28.000000</td>\n",
       "      <td>46.000000</td>\n",
       "      <td>3.0</td>\n",
       "    </tr>\n",
       "    <tr>\n",
       "      <th>max</th>\n",
       "      <td>44.000000</td>\n",
       "      <td>74.000000</td>\n",
       "      <td>3.0</td>\n",
       "    </tr>\n",
       "  </tbody>\n",
       "</table>\n",
       "</div>"
      ],
      "text/plain": [
       "                 x            y       z\n",
       "count  3221.000000  3221.000000  3221.0\n",
       "mean     24.527476    41.040671     3.0\n",
       "std       4.828256     8.012561     0.0\n",
       "min      15.000000    25.000000     3.0\n",
       "25%      21.000000    35.000000     3.0\n",
       "50%      24.000000    41.000000     3.0\n",
       "75%      28.000000    46.000000     3.0\n",
       "max      44.000000    74.000000     3.0"
      ]
     },
     "execution_count": 63,
     "metadata": {},
     "output_type": "execute_result"
    }
   ],
   "source": [
    "shapes.describe()"
   ]
  },
  {
   "cell_type": "markdown",
   "metadata": {},
   "source": [
    "## pre-process mouth img. normalize"
   ]
  },
  {
   "cell_type": "code",
   "execution_count": 64,
   "metadata": {},
   "outputs": [],
   "source": [
    "from PIL import Image\n",
    "WIDTH, HEIGHT = 48, 28 # all mouth images will be resized to the same size\n",
    "dim = WIDTH * HEIGHT # dimension of feature vector"
   ]
  },
  {
   "cell_type": "code",
   "execution_count": 65,
   "metadata": {},
   "outputs": [],
   "source": [
    "def normalize_img(filename, is_grey=True, is_vectorize=False):\n",
    "    size = WIDTH, HEIGHT # (width, height)\n",
    "    im = Image.open(filename) \n",
    "    resized_im = im.resize(size, Image.ANTIALIAS) # resize image\n",
    "    result = np.array(resized_im)\n",
    "    if is_grey:\n",
    "        im_grey = resized_im.convert('L') # convert the image to *greyscale*\n",
    "        im_array = np.array(im_grey) # convert to np array\n",
    "        result = im_array\n",
    "    if is_vectorize:\n",
    "        oned_array = result.reshape(size[0] * size[1])\n",
    "        result = oned_array\n",
    "    return result#np.array(resized_im)#oned_array"
   ]
  },
  {
   "cell_type": "code",
   "execution_count": 66,
   "metadata": {},
   "outputs": [],
   "source": [
    "imgs = []\n",
    "for i_index in range(len(pd_face)):\n",
    "    img = normalize_img(pd_face.iloc[i_index].mpath, is_grey=True, is_vectorize=True)#False)\n",
    "    imgs.append(img)\n",
    "#     imshow(img)\n",
    "#     print(pd_face.iloc[i_index])\n",
    "imgs = np.array(imgs)"
   ]
  },
  {
   "cell_type": "code",
   "execution_count": 67,
   "metadata": {},
   "outputs": [],
   "source": [
    "pd_mouth_data = pd.DataFrame(imgs)"
   ]
  },
  {
   "cell_type": "code",
   "execution_count": 68,
   "metadata": {},
   "outputs": [],
   "source": [
    "# pd_mouth_data = pd_face.reset_index().join(pd_imgs_data, how='left')"
   ]
  },
  {
   "cell_type": "code",
   "execution_count": 69,
   "metadata": {},
   "outputs": [],
   "source": [
    "pd_mouth_data.to_csv('./data/face_mouth_data.csv', sep=',', quotechar='\"')"
   ]
  },
  {
   "cell_type": "markdown",
   "metadata": {},
   "source": [
    "## train model"
   ]
  },
  {
   "cell_type": "code",
   "execution_count": 70,
   "metadata": {},
   "outputs": [],
   "source": [
    "from sklearn.model_selection import train_test_split\n",
    "from keras.utils.np_utils import to_categorical\n",
    "\n",
    "from keras.models import Sequential\n",
    "from keras.layers import Dense, Dropout, Flatten, Conv2D, MaxPool2D, BatchNormalization\n",
    "from keras.optimizers import RMSprop\n",
    "from keras.preprocessing.image import ImageDataGenerator\n",
    "from keras.callbacks import ReduceLROnPlateau, EarlyStopping\n",
    "\n",
    "from sklearn.preprocessing import normalize"
   ]
  },
  {
   "cell_type": "code",
   "execution_count": 71,
   "metadata": {},
   "outputs": [],
   "source": [
    "data_img_vec = pd_mouth_data.values"
   ]
  },
  {
   "cell_type": "code",
   "execution_count": 72,
   "metadata": {},
   "outputs": [],
   "source": [
    "data_img_vec = pd.read_csv('./data/face_mouth_data.csv', index_col=0)"
   ]
  },
  {
   "cell_type": "code",
   "execution_count": 73,
   "metadata": {},
   "outputs": [],
   "source": [
    "pd_face = pd.read_csv('./data/face_mouth_data_index.csv', index_col=0)"
   ]
  },
  {
   "cell_type": "code",
   "execution_count": 74,
   "metadata": {},
   "outputs": [
    {
     "data": {
      "text/html": [
       "<div>\n",
       "<style scoped>\n",
       "    .dataframe tbody tr th:only-of-type {\n",
       "        vertical-align: middle;\n",
       "    }\n",
       "\n",
       "    .dataframe tbody tr th {\n",
       "        vertical-align: top;\n",
       "    }\n",
       "\n",
       "    .dataframe thead th {\n",
       "        text-align: right;\n",
       "    }\n",
       "</style>\n",
       "<table border=\"1\" class=\"dataframe\">\n",
       "  <thead>\n",
       "    <tr style=\"text-align: right;\">\n",
       "      <th></th>\n",
       "      <th>path</th>\n",
       "      <th>mpath</th>\n",
       "      <th>is_smile</th>\n",
       "    </tr>\n",
       "    <tr>\n",
       "      <th>index</th>\n",
       "      <th></th>\n",
       "      <th></th>\n",
       "      <th></th>\n",
       "    </tr>\n",
       "  </thead>\n",
       "  <tbody>\n",
       "    <tr>\n",
       "      <th>1</th>\n",
       "      <td>./tag_face/file0001.jpg</td>\n",
       "      <td>./mouths/smile/mouth0001.jpg</td>\n",
       "      <td>1</td>\n",
       "    </tr>\n",
       "    <tr>\n",
       "      <th>2</th>\n",
       "      <td>./tag_face/file0002.jpg</td>\n",
       "      <td>./mouths/smile/mouth0002.jpg</td>\n",
       "      <td>1</td>\n",
       "    </tr>\n",
       "    <tr>\n",
       "      <th>3</th>\n",
       "      <td>./tag_face/file0003.jpg</td>\n",
       "      <td>./mouths/smile/mouth0003.jpg</td>\n",
       "      <td>1</td>\n",
       "    </tr>\n",
       "    <tr>\n",
       "      <th>4</th>\n",
       "      <td>./tag_face/file0004.jpg</td>\n",
       "      <td>./mouths/smile/mouth0004.jpg</td>\n",
       "      <td>1</td>\n",
       "    </tr>\n",
       "    <tr>\n",
       "      <th>5</th>\n",
       "      <td>./tag_face/file0005.jpg</td>\n",
       "      <td>./mouths/smile/mouth0005.jpg</td>\n",
       "      <td>1</td>\n",
       "    </tr>\n",
       "  </tbody>\n",
       "</table>\n",
       "</div>"
      ],
      "text/plain": [
       "                          path                         mpath  is_smile\n",
       "index                                                                 \n",
       "1      ./tag_face/file0001.jpg  ./mouths/smile/mouth0001.jpg         1\n",
       "2      ./tag_face/file0002.jpg  ./mouths/smile/mouth0002.jpg         1\n",
       "3      ./tag_face/file0003.jpg  ./mouths/smile/mouth0003.jpg         1\n",
       "4      ./tag_face/file0004.jpg  ./mouths/smile/mouth0004.jpg         1\n",
       "5      ./tag_face/file0005.jpg  ./mouths/smile/mouth0005.jpg         1"
      ]
     },
     "execution_count": 74,
     "metadata": {},
     "output_type": "execute_result"
    }
   ],
   "source": [
    "pd_face.head()"
   ]
  },
  {
   "cell_type": "code",
   "execution_count": 75,
   "metadata": {},
   "outputs": [
    {
     "data": {
      "text/html": [
       "<div>\n",
       "<style scoped>\n",
       "    .dataframe tbody tr th:only-of-type {\n",
       "        vertical-align: middle;\n",
       "    }\n",
       "\n",
       "    .dataframe tbody tr th {\n",
       "        vertical-align: top;\n",
       "    }\n",
       "\n",
       "    .dataframe thead th {\n",
       "        text-align: right;\n",
       "    }\n",
       "</style>\n",
       "<table border=\"1\" class=\"dataframe\">\n",
       "  <thead>\n",
       "    <tr style=\"text-align: right;\">\n",
       "      <th></th>\n",
       "      <th>0</th>\n",
       "      <th>1</th>\n",
       "      <th>2</th>\n",
       "      <th>3</th>\n",
       "      <th>4</th>\n",
       "      <th>5</th>\n",
       "      <th>6</th>\n",
       "      <th>7</th>\n",
       "      <th>8</th>\n",
       "      <th>9</th>\n",
       "      <th>...</th>\n",
       "      <th>1334</th>\n",
       "      <th>1335</th>\n",
       "      <th>1336</th>\n",
       "      <th>1337</th>\n",
       "      <th>1338</th>\n",
       "      <th>1339</th>\n",
       "      <th>1340</th>\n",
       "      <th>1341</th>\n",
       "      <th>1342</th>\n",
       "      <th>1343</th>\n",
       "    </tr>\n",
       "  </thead>\n",
       "  <tbody>\n",
       "    <tr>\n",
       "      <th>0</th>\n",
       "      <td>131</td>\n",
       "      <td>131</td>\n",
       "      <td>133</td>\n",
       "      <td>138</td>\n",
       "      <td>143</td>\n",
       "      <td>144</td>\n",
       "      <td>139</td>\n",
       "      <td>136</td>\n",
       "      <td>138</td>\n",
       "      <td>146</td>\n",
       "      <td>...</td>\n",
       "      <td>142</td>\n",
       "      <td>137</td>\n",
       "      <td>135</td>\n",
       "      <td>134</td>\n",
       "      <td>134</td>\n",
       "      <td>133</td>\n",
       "      <td>134</td>\n",
       "      <td>135</td>\n",
       "      <td>137</td>\n",
       "      <td>139</td>\n",
       "    </tr>\n",
       "    <tr>\n",
       "      <th>1</th>\n",
       "      <td>64</td>\n",
       "      <td>69</td>\n",
       "      <td>76</td>\n",
       "      <td>80</td>\n",
       "      <td>79</td>\n",
       "      <td>71</td>\n",
       "      <td>61</td>\n",
       "      <td>56</td>\n",
       "      <td>55</td>\n",
       "      <td>59</td>\n",
       "      <td>...</td>\n",
       "      <td>75</td>\n",
       "      <td>78</td>\n",
       "      <td>80</td>\n",
       "      <td>78</td>\n",
       "      <td>73</td>\n",
       "      <td>70</td>\n",
       "      <td>69</td>\n",
       "      <td>71</td>\n",
       "      <td>73</td>\n",
       "      <td>73</td>\n",
       "    </tr>\n",
       "    <tr>\n",
       "      <th>2</th>\n",
       "      <td>104</td>\n",
       "      <td>106</td>\n",
       "      <td>111</td>\n",
       "      <td>115</td>\n",
       "      <td>118</td>\n",
       "      <td>118</td>\n",
       "      <td>115</td>\n",
       "      <td>113</td>\n",
       "      <td>110</td>\n",
       "      <td>107</td>\n",
       "      <td>...</td>\n",
       "      <td>73</td>\n",
       "      <td>66</td>\n",
       "      <td>57</td>\n",
       "      <td>49</td>\n",
       "      <td>43</td>\n",
       "      <td>40</td>\n",
       "      <td>38</td>\n",
       "      <td>39</td>\n",
       "      <td>41</td>\n",
       "      <td>42</td>\n",
       "    </tr>\n",
       "    <tr>\n",
       "      <th>3</th>\n",
       "      <td>153</td>\n",
       "      <td>151</td>\n",
       "      <td>148</td>\n",
       "      <td>145</td>\n",
       "      <td>146</td>\n",
       "      <td>148</td>\n",
       "      <td>150</td>\n",
       "      <td>150</td>\n",
       "      <td>147</td>\n",
       "      <td>145</td>\n",
       "      <td>...</td>\n",
       "      <td>141</td>\n",
       "      <td>145</td>\n",
       "      <td>150</td>\n",
       "      <td>155</td>\n",
       "      <td>158</td>\n",
       "      <td>160</td>\n",
       "      <td>160</td>\n",
       "      <td>157</td>\n",
       "      <td>155</td>\n",
       "      <td>154</td>\n",
       "    </tr>\n",
       "    <tr>\n",
       "      <th>4</th>\n",
       "      <td>210</td>\n",
       "      <td>210</td>\n",
       "      <td>210</td>\n",
       "      <td>212</td>\n",
       "      <td>215</td>\n",
       "      <td>217</td>\n",
       "      <td>219</td>\n",
       "      <td>219</td>\n",
       "      <td>214</td>\n",
       "      <td>210</td>\n",
       "      <td>...</td>\n",
       "      <td>220</td>\n",
       "      <td>217</td>\n",
       "      <td>216</td>\n",
       "      <td>218</td>\n",
       "      <td>220</td>\n",
       "      <td>222</td>\n",
       "      <td>221</td>\n",
       "      <td>220</td>\n",
       "      <td>218</td>\n",
       "      <td>216</td>\n",
       "    </tr>\n",
       "  </tbody>\n",
       "</table>\n",
       "<p>5 rows × 1344 columns</p>\n",
       "</div>"
      ],
      "text/plain": [
       "     0    1    2    3    4    5    6    7    8    9  ...   1334  1335  1336  \\\n",
       "0  131  131  133  138  143  144  139  136  138  146  ...    142   137   135   \n",
       "1   64   69   76   80   79   71   61   56   55   59  ...     75    78    80   \n",
       "2  104  106  111  115  118  118  115  113  110  107  ...     73    66    57   \n",
       "3  153  151  148  145  146  148  150  150  147  145  ...    141   145   150   \n",
       "4  210  210  210  212  215  217  219  219  214  210  ...    220   217   216   \n",
       "\n",
       "   1337  1338  1339  1340  1341  1342  1343  \n",
       "0   134   134   133   134   135   137   139  \n",
       "1    78    73    70    69    71    73    73  \n",
       "2    49    43    40    38    39    41    42  \n",
       "3   155   158   160   160   157   155   154  \n",
       "4   218   220   222   221   220   218   216  \n",
       "\n",
       "[5 rows x 1344 columns]"
      ]
     },
     "execution_count": 75,
     "metadata": {},
     "output_type": "execute_result"
    }
   ],
   "source": [
    "data_img_vec.head()"
   ]
  },
  {
   "cell_type": "code",
   "execution_count": 77,
   "metadata": {},
   "outputs": [],
   "source": [
    "data_img_vec_norm = data_img_vec / 255 #normalize(data_img_vec, norm='l2', axis=0)"
   ]
  },
  {
   "cell_type": "code",
   "execution_count": 78,
   "metadata": {},
   "outputs": [
    {
     "data": {
      "text/html": [
       "<div>\n",
       "<style scoped>\n",
       "    .dataframe tbody tr th:only-of-type {\n",
       "        vertical-align: middle;\n",
       "    }\n",
       "\n",
       "    .dataframe tbody tr th {\n",
       "        vertical-align: top;\n",
       "    }\n",
       "\n",
       "    .dataframe thead th {\n",
       "        text-align: right;\n",
       "    }\n",
       "</style>\n",
       "<table border=\"1\" class=\"dataframe\">\n",
       "  <thead>\n",
       "    <tr style=\"text-align: right;\">\n",
       "      <th></th>\n",
       "      <th>0</th>\n",
       "      <th>1</th>\n",
       "      <th>2</th>\n",
       "      <th>3</th>\n",
       "      <th>4</th>\n",
       "      <th>5</th>\n",
       "      <th>6</th>\n",
       "      <th>7</th>\n",
       "      <th>8</th>\n",
       "      <th>9</th>\n",
       "      <th>...</th>\n",
       "      <th>1334</th>\n",
       "      <th>1335</th>\n",
       "      <th>1336</th>\n",
       "      <th>1337</th>\n",
       "      <th>1338</th>\n",
       "      <th>1339</th>\n",
       "      <th>1340</th>\n",
       "      <th>1341</th>\n",
       "      <th>1342</th>\n",
       "      <th>1343</th>\n",
       "    </tr>\n",
       "  </thead>\n",
       "  <tbody>\n",
       "    <tr>\n",
       "      <th>0</th>\n",
       "      <td>0.513725</td>\n",
       "      <td>0.513725</td>\n",
       "      <td>0.521569</td>\n",
       "      <td>0.541176</td>\n",
       "      <td>0.560784</td>\n",
       "      <td>0.564706</td>\n",
       "      <td>0.545098</td>\n",
       "      <td>0.533333</td>\n",
       "      <td>0.541176</td>\n",
       "      <td>0.572549</td>\n",
       "      <td>...</td>\n",
       "      <td>0.556863</td>\n",
       "      <td>0.537255</td>\n",
       "      <td>0.529412</td>\n",
       "      <td>0.525490</td>\n",
       "      <td>0.525490</td>\n",
       "      <td>0.521569</td>\n",
       "      <td>0.525490</td>\n",
       "      <td>0.529412</td>\n",
       "      <td>0.537255</td>\n",
       "      <td>0.545098</td>\n",
       "    </tr>\n",
       "    <tr>\n",
       "      <th>1</th>\n",
       "      <td>0.250980</td>\n",
       "      <td>0.270588</td>\n",
       "      <td>0.298039</td>\n",
       "      <td>0.313725</td>\n",
       "      <td>0.309804</td>\n",
       "      <td>0.278431</td>\n",
       "      <td>0.239216</td>\n",
       "      <td>0.219608</td>\n",
       "      <td>0.215686</td>\n",
       "      <td>0.231373</td>\n",
       "      <td>...</td>\n",
       "      <td>0.294118</td>\n",
       "      <td>0.305882</td>\n",
       "      <td>0.313725</td>\n",
       "      <td>0.305882</td>\n",
       "      <td>0.286275</td>\n",
       "      <td>0.274510</td>\n",
       "      <td>0.270588</td>\n",
       "      <td>0.278431</td>\n",
       "      <td>0.286275</td>\n",
       "      <td>0.286275</td>\n",
       "    </tr>\n",
       "    <tr>\n",
       "      <th>2</th>\n",
       "      <td>0.407843</td>\n",
       "      <td>0.415686</td>\n",
       "      <td>0.435294</td>\n",
       "      <td>0.450980</td>\n",
       "      <td>0.462745</td>\n",
       "      <td>0.462745</td>\n",
       "      <td>0.450980</td>\n",
       "      <td>0.443137</td>\n",
       "      <td>0.431373</td>\n",
       "      <td>0.419608</td>\n",
       "      <td>...</td>\n",
       "      <td>0.286275</td>\n",
       "      <td>0.258824</td>\n",
       "      <td>0.223529</td>\n",
       "      <td>0.192157</td>\n",
       "      <td>0.168627</td>\n",
       "      <td>0.156863</td>\n",
       "      <td>0.149020</td>\n",
       "      <td>0.152941</td>\n",
       "      <td>0.160784</td>\n",
       "      <td>0.164706</td>\n",
       "    </tr>\n",
       "    <tr>\n",
       "      <th>3</th>\n",
       "      <td>0.600000</td>\n",
       "      <td>0.592157</td>\n",
       "      <td>0.580392</td>\n",
       "      <td>0.568627</td>\n",
       "      <td>0.572549</td>\n",
       "      <td>0.580392</td>\n",
       "      <td>0.588235</td>\n",
       "      <td>0.588235</td>\n",
       "      <td>0.576471</td>\n",
       "      <td>0.568627</td>\n",
       "      <td>...</td>\n",
       "      <td>0.552941</td>\n",
       "      <td>0.568627</td>\n",
       "      <td>0.588235</td>\n",
       "      <td>0.607843</td>\n",
       "      <td>0.619608</td>\n",
       "      <td>0.627451</td>\n",
       "      <td>0.627451</td>\n",
       "      <td>0.615686</td>\n",
       "      <td>0.607843</td>\n",
       "      <td>0.603922</td>\n",
       "    </tr>\n",
       "    <tr>\n",
       "      <th>4</th>\n",
       "      <td>0.823529</td>\n",
       "      <td>0.823529</td>\n",
       "      <td>0.823529</td>\n",
       "      <td>0.831373</td>\n",
       "      <td>0.843137</td>\n",
       "      <td>0.850980</td>\n",
       "      <td>0.858824</td>\n",
       "      <td>0.858824</td>\n",
       "      <td>0.839216</td>\n",
       "      <td>0.823529</td>\n",
       "      <td>...</td>\n",
       "      <td>0.862745</td>\n",
       "      <td>0.850980</td>\n",
       "      <td>0.847059</td>\n",
       "      <td>0.854902</td>\n",
       "      <td>0.862745</td>\n",
       "      <td>0.870588</td>\n",
       "      <td>0.866667</td>\n",
       "      <td>0.862745</td>\n",
       "      <td>0.854902</td>\n",
       "      <td>0.847059</td>\n",
       "    </tr>\n",
       "  </tbody>\n",
       "</table>\n",
       "<p>5 rows × 1344 columns</p>\n",
       "</div>"
      ],
      "text/plain": [
       "          0         1         2         3         4         5         6  \\\n",
       "0  0.513725  0.513725  0.521569  0.541176  0.560784  0.564706  0.545098   \n",
       "1  0.250980  0.270588  0.298039  0.313725  0.309804  0.278431  0.239216   \n",
       "2  0.407843  0.415686  0.435294  0.450980  0.462745  0.462745  0.450980   \n",
       "3  0.600000  0.592157  0.580392  0.568627  0.572549  0.580392  0.588235   \n",
       "4  0.823529  0.823529  0.823529  0.831373  0.843137  0.850980  0.858824   \n",
       "\n",
       "          7         8         9    ...         1334      1335      1336  \\\n",
       "0  0.533333  0.541176  0.572549    ...     0.556863  0.537255  0.529412   \n",
       "1  0.219608  0.215686  0.231373    ...     0.294118  0.305882  0.313725   \n",
       "2  0.443137  0.431373  0.419608    ...     0.286275  0.258824  0.223529   \n",
       "3  0.588235  0.576471  0.568627    ...     0.552941  0.568627  0.588235   \n",
       "4  0.858824  0.839216  0.823529    ...     0.862745  0.850980  0.847059   \n",
       "\n",
       "       1337      1338      1339      1340      1341      1342      1343  \n",
       "0  0.525490  0.525490  0.521569  0.525490  0.529412  0.537255  0.545098  \n",
       "1  0.305882  0.286275  0.274510  0.270588  0.278431  0.286275  0.286275  \n",
       "2  0.192157  0.168627  0.156863  0.149020  0.152941  0.160784  0.164706  \n",
       "3  0.607843  0.619608  0.627451  0.627451  0.615686  0.607843  0.603922  \n",
       "4  0.854902  0.862745  0.870588  0.866667  0.862745  0.854902  0.847059  \n",
       "\n",
       "[5 rows x 1344 columns]"
      ]
     },
     "execution_count": 78,
     "metadata": {},
     "output_type": "execute_result"
    }
   ],
   "source": [
    "data_img_vec_norm.head()"
   ]
  },
  {
   "cell_type": "code",
   "execution_count": 79,
   "metadata": {},
   "outputs": [],
   "source": [
    "data_imgs = data_img_vec_norm.values.reshape(-1, HEIGHT, WIDTH, 1)"
   ]
  },
  {
   "cell_type": "code",
   "execution_count": 80,
   "metadata": {},
   "outputs": [
    {
     "data": {
      "text/plain": [
       "1    1808\n",
       "0    1413\n",
       "Name: is_smile, dtype: int64"
      ]
     },
     "execution_count": 80,
     "metadata": {},
     "output_type": "execute_result"
    }
   ],
   "source": [
    "pd_face['is_smile'].value_counts()"
   ]
  },
  {
   "cell_type": "code",
   "execution_count": 81,
   "metadata": {},
   "outputs": [],
   "source": [
    "data_labels = to_categorical(pd_face['is_smile'].values, num_classes=2)"
   ]
  },
  {
   "cell_type": "code",
   "execution_count": 82,
   "metadata": {},
   "outputs": [
    {
     "data": {
      "text/plain": [
       "array([[0., 1.],\n",
       "       [0., 1.],\n",
       "       [0., 1.],\n",
       "       ...,\n",
       "       [1., 0.],\n",
       "       [1., 0.],\n",
       "       [1., 0.]], dtype=float32)"
      ]
     },
     "execution_count": 82,
     "metadata": {},
     "output_type": "execute_result"
    }
   ],
   "source": [
    "data_labels"
   ]
  },
  {
   "cell_type": "code",
   "execution_count": 106,
   "metadata": {},
   "outputs": [
    {
     "data": {
      "text/plain": [
       "(3221, 28, 48, 1)"
      ]
     },
     "execution_count": 106,
     "metadata": {},
     "output_type": "execute_result"
    }
   ],
   "source": [
    "data_imgs.shape"
   ]
  },
  {
   "cell_type": "code",
   "execution_count": 91,
   "metadata": {},
   "outputs": [],
   "source": [
    "random_seed = 5012\n",
    "X_train, X_val, Y_train, Y_val = train_test_split(data_imgs, data_labels, test_size=0.1, random_state=random_seed)"
   ]
  },
  {
   "cell_type": "code",
   "execution_count": 98,
   "metadata": {},
   "outputs": [],
   "source": [
    "model = Sequential()\n",
    "model.add(Conv2D(filters=32, kernel_size=(3,3), padding='Same',\n",
    "                activation='relu', input_shape=(HEIGHT, WIDTH, 1)))\n",
    "model.add(BatchNormalization())\n",
    "model.add(Conv2D(filters=32, kernel_size=(3,3), padding='Same',\n",
    "                activation='relu'))\n",
    "model.add(BatchNormalization())\n",
    "model.add(MaxPool2D(pool_size=(2,2)))\n",
    "model.add(Dropout(0.25))\n",
    "\n",
    "model.add(Conv2D(filters=64, kernel_size=(2,2), padding='Same',\n",
    "                activation='relu'))\n",
    "model.add(BatchNormalization())\n",
    "model.add(Conv2D(filters=64, kernel_size=(2,2), padding='Same',\n",
    "                activation='relu'))\n",
    "model.add(BatchNormalization())\n",
    "model.add(MaxPool2D(pool_size=(2,2), strides=(1,1)))\n",
    "model.add(Dropout(0.25))\n",
    "\n",
    "model.add(Flatten())\n",
    "model.add(Dense(256, activation='relu'))#, kernel_initializer='random_uniform'))\n",
    "model.add(Dropout(0.5))\n",
    "model.add(Dense(2, activation='softmax'))"
   ]
  },
  {
   "cell_type": "code",
   "execution_count": 99,
   "metadata": {},
   "outputs": [
    {
     "name": "stdout",
     "output_type": "stream",
     "text": [
      "_________________________________________________________________\n",
      "Layer (type)                 Output Shape              Param #   \n",
      "=================================================================\n",
      "conv2d_13 (Conv2D)           (None, 28, 48, 32)        320       \n",
      "_________________________________________________________________\n",
      "batch_normalization_13 (Batc (None, 28, 48, 32)        128       \n",
      "_________________________________________________________________\n",
      "conv2d_14 (Conv2D)           (None, 28, 48, 32)        9248      \n",
      "_________________________________________________________________\n",
      "batch_normalization_14 (Batc (None, 28, 48, 32)        128       \n",
      "_________________________________________________________________\n",
      "max_pooling2d_7 (MaxPooling2 (None, 14, 24, 32)        0         \n",
      "_________________________________________________________________\n",
      "dropout_10 (Dropout)         (None, 14, 24, 32)        0         \n",
      "_________________________________________________________________\n",
      "conv2d_15 (Conv2D)           (None, 14, 24, 64)        8256      \n",
      "_________________________________________________________________\n",
      "batch_normalization_15 (Batc (None, 14, 24, 64)        256       \n",
      "_________________________________________________________________\n",
      "conv2d_16 (Conv2D)           (None, 14, 24, 64)        16448     \n",
      "_________________________________________________________________\n",
      "batch_normalization_16 (Batc (None, 14, 24, 64)        256       \n",
      "_________________________________________________________________\n",
      "max_pooling2d_8 (MaxPooling2 (None, 13, 23, 64)        0         \n",
      "_________________________________________________________________\n",
      "dropout_11 (Dropout)         (None, 13, 23, 64)        0         \n",
      "_________________________________________________________________\n",
      "flatten_4 (Flatten)          (None, 19136)             0         \n",
      "_________________________________________________________________\n",
      "dense_7 (Dense)              (None, 256)               4899072   \n",
      "_________________________________________________________________\n",
      "dropout_12 (Dropout)         (None, 256)               0         \n",
      "_________________________________________________________________\n",
      "dense_8 (Dense)              (None, 2)                 514       \n",
      "=================================================================\n",
      "Total params: 4,934,626\n",
      "Trainable params: 4,934,242\n",
      "Non-trainable params: 384\n",
      "_________________________________________________________________\n"
     ]
    }
   ],
   "source": [
    "# define the optimizer\n",
    "optimizer = RMSprop(lr=0.001, rho=0.9, epsilon=1e-08, decay=0.0)\n",
    "# compile the model\n",
    "model.compile(optimizer=optimizer, loss='categorical_crossentropy', metrics=['accuracy'])\n",
    "\n",
    "model.summary()"
   ]
  },
  {
   "cell_type": "code",
   "execution_count": 100,
   "metadata": {},
   "outputs": [],
   "source": [
    "datagen = ImageDataGenerator(featurewise_center=False,\n",
    "                            samplewise_center=False,\n",
    "                            featurewise_std_normalization=False,\n",
    "                            samplewise_std_normalization=False,\n",
    "                            zca_whitening=False,\n",
    "                            rotation_range=10,\n",
    "                            zoom_range=0.1,\n",
    "                            width_shift_range=0.1,\n",
    "                            height_shift_range=0.1,\n",
    "                            horizontal_flip=False,\n",
    "                            vertical_flip=False)\n",
    "datagen.fit(X_train)"
   ]
  },
  {
   "cell_type": "code",
   "execution_count": 101,
   "metadata": {},
   "outputs": [],
   "source": [
    "# set a early stopping\n",
    "early_stopping = EarlyStopping(monitor='val_loss', patience=50, verbose=2)\n",
    "# set a learning rate annealer\n",
    "learning_rate_reduction = ReduceLROnPlateau(monitor='val_acc',\n",
    "                                           patience=3,\n",
    "                                           verbose=1,\n",
    "                                           factor=0.5,\n",
    "                                           min_lr=0.0001)\n",
    "epochs = 30\n",
    "batch_size = 170"
   ]
  },
  {
   "cell_type": "code",
   "execution_count": 102,
   "metadata": {},
   "outputs": [
    {
     "name": "stdout",
     "output_type": "stream",
     "text": [
      "Epoch 1/30\n",
      " - 22s - loss: 4.5759 - acc: 0.6610 - val_loss: 4.0299 - val_acc: 0.7307\n",
      "Epoch 2/30\n",
      " - 20s - loss: 3.1031 - acc: 0.7836 - val_loss: 3.1100 - val_acc: 0.7895\n",
      "Epoch 3/30\n",
      " - 20s - loss: 3.0086 - acc: 0.7918 - val_loss: 2.7689 - val_acc: 0.8050\n",
      "Epoch 4/30\n",
      " - 20s - loss: 2.8770 - acc: 0.7928 - val_loss: 2.7159 - val_acc: 0.8173\n",
      "Epoch 5/30\n",
      " - 21s - loss: 2.5110 - acc: 0.8266 - val_loss: 2.2640 - val_acc: 0.8483\n",
      "Epoch 6/30\n",
      " - 21s - loss: 2.9690 - acc: 0.7898 - val_loss: 4.0296 - val_acc: 0.7214\n",
      "Epoch 7/30\n",
      " - 20s - loss: 2.3957 - acc: 0.8394 - val_loss: 2.1857 - val_acc: 0.8483\n",
      "Epoch 8/30\n",
      " - 20s - loss: 2.1724 - acc: 0.8577 - val_loss: 3.3139 - val_acc: 0.7616\n",
      "\n",
      "Epoch 00008: ReduceLROnPlateau reducing learning rate to 0.0005000000237487257.\n",
      "Epoch 9/30\n",
      " - 20s - loss: 2.3525 - acc: 0.8412 - val_loss: 2.4058 - val_acc: 0.8390\n",
      "Epoch 10/30\n",
      " - 19s - loss: 1.9569 - acc: 0.8673 - val_loss: 1.8145 - val_acc: 0.8421\n",
      "Epoch 11/30\n",
      " - 19s - loss: 2.0753 - acc: 0.8571 - val_loss: 1.9598 - val_acc: 0.8731\n",
      "Epoch 12/30\n",
      " - 19s - loss: 1.9194 - acc: 0.8709 - val_loss: 1.9847 - val_acc: 0.8638\n",
      "Epoch 13/30\n",
      " - 19s - loss: 1.8652 - acc: 0.8721 - val_loss: 2.0373 - val_acc: 0.8638\n",
      "Epoch 14/30\n",
      " - 19s - loss: 2.0838 - acc: 0.8557 - val_loss: 2.1169 - val_acc: 0.8483\n",
      "\n",
      "Epoch 00014: ReduceLROnPlateau reducing learning rate to 0.0002500000118743628.\n",
      "Epoch 15/30\n",
      " - 20s - loss: 1.9079 - acc: 0.8728 - val_loss: 1.7889 - val_acc: 0.8731\n",
      "Epoch 16/30\n",
      " - 20s - loss: 1.7313 - acc: 0.8800 - val_loss: 1.6367 - val_acc: 0.8824\n",
      "Epoch 17/30\n",
      " - 20s - loss: 1.7138 - acc: 0.8823 - val_loss: 1.7809 - val_acc: 0.8762\n",
      "Epoch 18/30\n",
      " - 19s - loss: 1.8187 - acc: 0.8738 - val_loss: 1.8998 - val_acc: 0.8669\n",
      "Epoch 19/30\n",
      " - 19s - loss: 1.7105 - acc: 0.8833 - val_loss: 1.7861 - val_acc: 0.8793\n",
      "\n",
      "Epoch 00019: ReduceLROnPlateau reducing learning rate to 0.0001250000059371814.\n",
      "Epoch 20/30\n",
      " - 20s - loss: 1.7155 - acc: 0.8803 - val_loss: 1.8231 - val_acc: 0.8731\n",
      "Epoch 21/30\n",
      " - 20s - loss: 1.8703 - acc: 0.8737 - val_loss: 1.7663 - val_acc: 0.8854\n",
      "Epoch 22/30\n",
      " - 19s - loss: 1.6458 - acc: 0.8843 - val_loss: 1.7865 - val_acc: 0.8762\n",
      "Epoch 23/30\n",
      " - 20s - loss: 1.6204 - acc: 0.8859 - val_loss: 1.8179 - val_acc: 0.8762\n",
      "Epoch 24/30\n",
      " - 19s - loss: 1.8038 - acc: 0.8760 - val_loss: 1.7411 - val_acc: 0.8854\n",
      "\n",
      "Epoch 00024: ReduceLROnPlateau reducing learning rate to 0.0001.\n",
      "Epoch 25/30\n",
      " - 19s - loss: 1.5323 - acc: 0.8905 - val_loss: 1.7317 - val_acc: 0.8854\n",
      "Epoch 26/30\n",
      " - 20s - loss: 1.5128 - acc: 0.8918 - val_loss: 1.7674 - val_acc: 0.8824\n",
      "Epoch 27/30\n",
      " - 20s - loss: 1.3591 - acc: 0.9040 - val_loss: 1.7678 - val_acc: 0.8762\n",
      "Epoch 28/30\n",
      " - 20s - loss: 1.4207 - acc: 0.8991 - val_loss: 1.6687 - val_acc: 0.8854\n",
      "Epoch 29/30\n",
      " - 20s - loss: 1.7634 - acc: 0.8704 - val_loss: 1.8643 - val_acc: 0.8731\n",
      "Epoch 30/30\n",
      " - 20s - loss: 1.4801 - acc: 0.8954 - val_loss: 1.6891 - val_acc: 0.8793\n"
     ]
    }
   ],
   "source": [
    "# # without data augmentation\n",
    "# history = model.fit(X_train, Y_train, batch_size=batch_size,\n",
    "#                     epochs=epochs, validation_data=(X_val, Y_val), verbose=2)\n",
    "# with data augmentation\n",
    "history = model.fit_generator(datagen.flow(X_train, Y_train, batch_size=batch_size), \n",
    "                              epochs=epochs, \n",
    "                              validation_data=(X_val, Y_val), \n",
    "                              verbose=2, \n",
    "#                               steps_per_epoch=X_train[0], \n",
    "                              callbacks=[learning_rate_reduction])"
   ]
  },
  {
   "cell_type": "code",
   "execution_count": 103,
   "metadata": {},
   "outputs": [
    {
     "data": {
      "image/png": "[encoded data removed]",
      "text/plain": [
       "<Figure size 432x288 with 2 Axes>"
      ]
     },
     "metadata": {
      "needs_background": "light"
     },
     "output_type": "display_data"
    }
   ],
   "source": [
    "fig, ax = plt.subplots(2,1)\n",
    "ax[0].plot(history.history['loss'], color='b', label='Traning loss')\n",
    "ax[0].plot(history.history['val_loss'], color='r', label='Validation loss', axes=ax[0])\n",
    "legend = ax[0].legend(loc='best', shadow=True)\n",
    "\n",
    "ax[1].plot(history.history['acc'], color='b', label='Training accuracy')\n",
    "ax[1].plot(history.history['val_acc'], color='r', label='Validation accuracy')\n",
    "legend = ax[1].legend(loc='best', shadow=True)\n",
    "fig.show()"
   ]
  },
  {
   "cell_type": "code",
   "execution_count": 104,
   "metadata": {},
   "outputs": [],
   "source": [
    "model.save('./model/model_smile_rec_by_nn.h5')"
   ]
  },
  {
   "cell_type": "markdown",
   "metadata": {},
   "source": [
    "## other approches attemps"
   ]
  },
  {
   "cell_type": "code",
   "execution_count": 292,
   "metadata": {},
   "outputs": [
    {
     "data": {
      "text/plain": [
       "<matplotlib.image.AxesImage at 0x1c60ff4d30>"
      ]
     },
     "execution_count": 292,
     "metadata": {},
     "output_type": "execute_result"
    },
    {
     "data": {
      "image/png": "[encoded data removed]",
      "text/plain": [
       "<Figure size 432x288 with 1 Axes>"
      ]
     },
     "metadata": {},
     "output_type": "display_data"
    }
   ],
   "source": [
    "index = 800\n",
    "t = data_img_vec[index].copy()\n",
    "t.shape\n",
    "imshow(t.reshape(HEIGHT, WIDTH))"
   ]
  },
  {
   "cell_type": "code",
   "execution_count": 293,
   "metadata": {},
   "outputs": [
    {
     "data": {
      "text/plain": [
       "<matplotlib.image.AxesImage at 0x1c61253828>"
      ]
     },
     "execution_count": 293,
     "metadata": {},
     "output_type": "execute_result"
    },
    {
     "data": {
      "image/png": "[encoded data removed]",
      "text/plain": [
       "<Figure size 432x288 with 1 Axes>"
      ]
     },
     "metadata": {},
     "output_type": "display_data"
    }
   ],
   "source": [
    "im_t = t.reshape(HEIGHT, WIDTH)\n",
    "img = cv.GaussianBlur(im_t,(3,3),0)\n",
    "imshow(img)"
   ]
  },
  {
   "cell_type": "code",
   "execution_count": 294,
   "metadata": {},
   "outputs": [
    {
     "data": {
      "text/plain": [
       "<matplotlib.image.AxesImage at 0x1c612820f0>"
      ]
     },
     "execution_count": 294,
     "metadata": {},
     "output_type": "execute_result"
    },
    {
     "data": {
      "image/png": "[encoded data removed]",
      "text/plain": [
       "<Figure size 432x288 with 1 Axes>"
      ]
     },
     "metadata": {},
     "output_type": "display_data"
    }
   ],
   "source": [
    "imshow(cv.Canny(img, 50, 150))"
   ]
  },
  {
   "cell_type": "code",
   "execution_count": 269,
   "metadata": {},
   "outputs": [
    {
     "data": {
      "text/plain": [
       "(1344,)"
      ]
     },
     "execution_count": 269,
     "metadata": {},
     "output_type": "execute_result"
    }
   ],
   "source": [
    "t.shape"
   ]
  },
  {
   "cell_type": "code",
   "execution_count": 132,
   "metadata": {},
   "outputs": [],
   "source": [
    "t_vec = normalize(t.reshape(10, 28), norm='l2', axis=1).reshape(-1,10,28,1)"
   ]
  },
  {
   "cell_type": "code",
   "execution_count": 134,
   "metadata": {},
   "outputs": [
    {
     "data": {
      "text/plain": [
       "(1, 10, 28, 1)"
      ]
     },
     "execution_count": 134,
     "metadata": {},
     "output_type": "execute_result"
    }
   ],
   "source": [
    "t_vec.shape"
   ]
  },
  {
   "cell_type": "code",
   "execution_count": 107,
   "metadata": {},
   "outputs": [],
   "source": [
    "result = model.predict(t_vec)"
   ]
  },
  {
   "cell_type": "code",
   "execution_count": 108,
   "metadata": {},
   "outputs": [
    {
     "data": {
      "text/plain": [
       "0.9808818"
      ]
     },
     "execution_count": 108,
     "metadata": {},
     "output_type": "execute_result"
    }
   ],
   "source": [
    "result[0][1]"
   ]
  },
  {
   "cell_type": "code",
   "execution_count": 155,
   "metadata": {},
   "outputs": [
    {
     "data": {
      "image/png": "[encoded data removed]",
      "text/plain": [
       "<PIL.JpegImagePlugin.JpegImageFile image mode=RGB size=33x20 at 0x1C2F077B70>"
      ]
     },
     "execution_count": 155,
     "metadata": {},
     "output_type": "execute_result"
    }
   ],
   "source": [
    "Image.open('./data/mouths/smile/mouth0002.jpg')"
   ]
  },
  {
   "cell_type": "code",
   "execution_count": 182,
   "metadata": {},
   "outputs": [
    {
     "data": {
      "image/png": "[encoded data removed]",
      "text/plain": [
       "<PIL.Image.Image image mode=RGB size=48x28 at 0x1C2F0D0C18>"
      ]
     },
     "execution_count": 182,
     "metadata": {},
     "output_type": "execute_result"
    }
   ],
   "source": [
    "Image.open('./data/mouths/smile/mouth0002.jpg').resize((48, 28), Image.ANTIALIAS) # resize image"
   ]
  },
  {
   "cell_type": "code",
   "execution_count": null,
   "metadata": {},
   "outputs": [],
   "source": []
  }
 ],
 "metadata": {
  "kernelspec": {
   "display_name": "Python 3",
   "language": "python",
   "name": "python3"
  },
  "language_info": {
   "codemirror_mode": {
    "name": "ipython",
    "version": 3
   },
   "file_extension": ".py",
   "mimetype": "text/x-python",
   "name": "python",
   "nbconvert_exporter": "python",
   "pygments_lexer": "ipython3",
   "version": "3.6.6"
  }
 },
 "nbformat": 4,
 "nbformat_minor": 2
}
