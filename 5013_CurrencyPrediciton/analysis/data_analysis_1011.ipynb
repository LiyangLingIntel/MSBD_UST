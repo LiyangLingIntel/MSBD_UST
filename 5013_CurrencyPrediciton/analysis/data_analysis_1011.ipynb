{
 "cells": [
  {
   "cell_type": "code",
   "execution_count": 1,
   "metadata": {},
   "outputs": [],
   "source": [
    "%matplotlib inline\n",
    "\n",
    "import warnings\n",
    "warnings.filterwarnings('ignore')\n",
    "\n",
    "import h5py\n",
    "import pandas as pd\n",
    "import numpy as np\n",
    "import copy\n",
    "import os\n",
    "import sys\n",
    "import matplotlib.pyplot as plt"
   ]
  },
  {
   "cell_type": "code",
   "execution_count": 3,
   "metadata": {},
   "outputs": [
    {
     "name": "stdout",
     "output_type": "stream",
     "text": [
      "['data_format1_201808.h5', 'data_format1_201806.h5', 'data_format1_201802.h5', 'data_format1_201803.h5', 'data_format1_201807.h5', 'data_format1_201804.h5', 'data_format1_201805.h5', 'data_format1_201801.h5']\n",
      "['data_format2_201804.h5', 'data_format2_201805.h5', 'data_format2_201801.h5', 'data_format2_201806.h5', 'data_format2_201802.h5', 'data_format2_201803.h5', 'data_format2_201807.h5', 'data_format2_201808.h5']\n"
     ]
    }
   ],
   "source": [
    "# load data file names\n",
    "working_folder = \"..\"\n",
    "data_folder = os.path.join(working_folder, 'data')\n",
    "format1_files_name = []#['data_format1_201807.h5', 'data_format1_201808.h5']\n",
    "format2_files_name = []#['data_format2_201807.h5', 'data_format2_201808.h5']\n",
    "\n",
    "for f in os.listdir(data_folder):\n",
    "    if len(f) == 22:\n",
    "        if 'format1' in f:\n",
    "            format1_files.append(f)\n",
    "        elif 'format2' in f:\n",
    "            format2_files.append(f)\n",
    "\n",
    "sorted(format1_files)\n",
    "sorted(format2_files)\n",
    "print(format1_files)\n",
    "print(format2_files)"
   ]
  },
  {
   "cell_type": "code",
   "execution_count": null,
   "metadata": {},
   "outputs": [],
   "source": []
  }
 ],
 "metadata": {
  "kernelspec": {
   "display_name": "scientific",
   "language": "python",
   "name": "scientific"
  },
  "language_info": {
   "codemirror_mode": {
    "name": "ipython",
    "version": 3
   },
   "file_extension": ".py",
   "mimetype": "text/x-python",
   "name": "python",
   "nbconvert_exporter": "python",
   "pygments_lexer": "ipython3",
   "version": "3.7.0"
  }
 },
 "nbformat": 4,
 "nbformat_minor": 2
}
