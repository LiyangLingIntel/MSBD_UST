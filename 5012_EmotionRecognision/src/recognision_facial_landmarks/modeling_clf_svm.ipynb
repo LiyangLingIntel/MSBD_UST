{
 "cells": [
  {
   "cell_type": "code",
   "execution_count": 48,
   "metadata": {},
   "outputs": [],
   "source": [
    "%matplotlib inline\n",
    "import os\n",
    "import numpy as np\n",
    "import pandas as pd\n",
    "from os.path import join as pjoin\n",
    "\n",
    "import matplotlib.pyplot as plt\n",
    "import cv2 as cv\n",
    "# from skimage.io import imshow, imread, imsave\n",
    "\n",
    "import warnings\n",
    "warnings.filterwarnings('ignore')\n"
   ]
  },
  {
   "cell_type": "markdown",
   "metadata": {},
   "source": [
    "## train model"
   ]
  },
  {
   "cell_type": "code",
   "execution_count": 80,
   "metadata": {},
   "outputs": [],
   "source": [
    "from sklearn.model_selection import train_test_split\n",
    "from sklearn.preprocessing import normalize\n",
    "from sklearn.metrics import accuracy_score\n",
    "from sklearn.externals import joblib\n",
    "\n",
    "from sklearn.linear_model import LogisticRegression\n",
    "from sklearn import svm\n",
    "\n",
    "from keras.utils.np_utils import to_categorical\n",
    "\n",
    "# import pickle"
   ]
  },
  {
   "cell_type": "code",
   "execution_count": 50,
   "metadata": {},
   "outputs": [],
   "source": [
    "mouth_data = pd.read_csv('../01_dataset_GENKI_4K/face_mouth_data.csv')\n",
    "mouth_tag = pd.read_csv('../01_dataset_GENKI_4K/face_mouth_data_index.csv')[['is_smile']]\n",
    "\n",
    "WIDTH, HEIGHT = 48, 28 # all mouth images will be resized to the same size\n",
    "dim = WIDTH * HEIGHT # dimension of feature vector"
   ]
  },
  {
   "cell_type": "code",
   "execution_count": 51,
   "metadata": {},
   "outputs": [],
   "source": [
    "data_labels = to_categorical(mouth_tag.is_smile.values, num_classes=2)\n",
    "\n",
    "mouth_data.set_index(['Unnamed: 0'], inplace=True)\n",
    "mouth_data_norm = mouth_data.values / 255\n",
    "# data_imgs = mouth_data_norm.reshape(-1, HEIGHT, WIDTH, 1)\n",
    "data_imgs = mouth_data_norm\n"
   ]
  },
  {
   "cell_type": "code",
   "execution_count": null,
   "metadata": {},
   "outputs": [],
   "source": []
  },
  {
   "cell_type": "code",
   "execution_count": 85,
   "metadata": {},
   "outputs": [],
   "source": [
    "X_train, X_val, Y_train, Y_val = train_test_split(data_imgs, mouth_tag, test_size=0.3)"
   ]
  },
  {
   "cell_type": "code",
   "execution_count": 86,
   "metadata": {},
   "outputs": [
    {
     "name": "stderr",
     "output_type": "stream",
     "text": [
      "[Parallel(n_jobs=1)]: Done   1 out of   1 | elapsed:    0.6s finished\n"
     ]
    },
    {
     "data": {
      "text/plain": [
       "0.8655635987590486"
      ]
     },
     "execution_count": 86,
     "metadata": {},
     "output_type": "execute_result"
    }
   ],
   "source": [
    "# Logistic Regession\n",
    "logistic_model = LogisticRegression(random_state=0, solver='lbfgs', multi_class='multinomial', verbose=1).fit(X_train, Y_train)\n",
    "accuracy_score(y_true=Y_val, y_pred=logistic_model.predict(X_val))\n",
    "\n",
    "# joblib.dump(logistic_model, './logistic.joblib') \n",
    "# logistic_model.predict(X_val)"
   ]
  },
  {
   "cell_type": "code",
   "execution_count": 55,
   "metadata": {},
   "outputs": [
    {
     "data": {
      "text/plain": [
       "0.8841778697001034"
      ]
     },
     "execution_count": 55,
     "metadata": {},
     "output_type": "execute_result"
    }
   ],
   "source": [
    "accuracy_score(y_true=Y_val, y_pred=logistic_model.predict(X_val))"
   ]
  },
  {
   "cell_type": "code",
   "execution_count": 99,
   "metadata": {},
   "outputs": [
    {
     "name": "stdout",
     "output_type": "stream",
     "text": [
      "[LibSVM]"
     ]
    },
    {
     "data": {
      "text/plain": [
       "0.8314374353671148"
      ]
     },
     "execution_count": 99,
     "metadata": {},
     "output_type": "execute_result"
    }
   ],
   "source": [
    "# SVM classification\n",
    "svm_model = svm.SVC(kernel='sigmoid', degree=3, tol=1e-6, verbose=True).fit(X_train, Y_train)\n",
    "# svm_model = svm.LinearSVC(multi_class='ovr', penalty='l2', tol=1e-6, verbose=1).fit(X_train, Y_train)\n",
    "\n",
    "accuracy_score(y_true=Y_val, y_pred=svm_model.predict(X_val))\n",
    "\n"
   ]
  }
 ],
 "metadata": {
  "kernelspec": {
   "display_name": "scientific",
   "language": "python",
   "name": "scientific"
  },
  "language_info": {
   "codemirror_mode": {
    "name": "ipython",
    "version": 3
   },
   "file_extension": ".py",
   "mimetype": "text/x-python",
   "name": "python",
   "nbconvert_exporter": "python",
   "pygments_lexer": "ipython3",
   "version": "3.7.0"
  }
 },
 "nbformat": 4,
 "nbformat_minor": 2
}
