{
 "cells": [
  {
   "cell_type": "code",
   "execution_count": 1,
   "metadata": {
    "colab": {
     "base_uri": "https://localhost:8080/",
     "height": 360
    },
    "colab_type": "code",
    "id": "zHr79-_jE4lc",
    "outputId": "13bc7254-9912-42d8-fcaa-ff8fe2d19eed"
   },
   "outputs": [
    {
     "name": "stdout",
     "output_type": "stream",
     "text": [
      "E: Package 'python-software-properties' has no installation candidate\n",
      "Selecting previously unselected package libfuse2:amd64.\n",
      "(Reading database ... 22280 files and directories currently installed.)\n",
      "Preparing to unpack .../libfuse2_2.9.7-1ubuntu1_amd64.deb ...\n",
      "Unpacking libfuse2:amd64 (2.9.7-1ubuntu1) ...\n",
      "Selecting previously unselected package fuse.\n",
      "Preparing to unpack .../fuse_2.9.7-1ubuntu1_amd64.deb ...\n",
      "Unpacking fuse (2.9.7-1ubuntu1) ...\n",
      "Selecting previously unselected package google-drive-ocamlfuse.\n",
      "Preparing to unpack .../google-drive-ocamlfuse_0.7.0-0ubuntu1~ubuntu18.04.1_amd64.deb ...\n",
      "Unpacking google-drive-ocamlfuse (0.7.0-0ubuntu1~ubuntu18.04.1) ...\n",
      "Setting up libfuse2:amd64 (2.9.7-1ubuntu1) ...\n",
      "Processing triggers for libc-bin (2.27-3ubuntu1) ...\n",
      "Setting up fuse (2.9.7-1ubuntu1) ...\n",
      "Setting up google-drive-ocamlfuse (0.7.0-0ubuntu1~ubuntu18.04.1) ...\n",
      "Please, open the following URL in a web browser: https://accounts.google.com/o/oauth2/auth?client_id=32555940559.apps.googleusercontent.com&redirect_uri=urn%3Aietf%3Awg%3Aoauth%3A2.0%3Aoob&scope=https%3A%2F%2Fwww.googleapis.com%2Fauth%2Fdrive&response_type=code&access_type=offline&approval_prompt=force\n",
      "··········\n",
      "Please, open the following URL in a web browser: https://accounts.google.com/o/oauth2/auth?client_id=32555940559.apps.googleusercontent.com&redirect_uri=urn%3Aietf%3Awg%3Aoauth%3A2.0%3Aoob&scope=https%3A%2F%2Fwww.googleapis.com%2Fauth%2Fdrive&response_type=code&access_type=offline&approval_prompt=force\n",
      "Please enter the verification code: Access token retrieved correctly.\n"
     ]
    }
   ],
   "source": [
    "# install necessary packages to access google drive.\n",
    "!apt-get install -y -qq software-properties-common python-software-properties module-init-tools\n",
    "!add-apt-repository -y ppa:alessandro-strada/ppa 2>&1 > /dev/null\n",
    "!apt-get update -qq 2>&1 > /dev/null\n",
    "!apt-get -y install -qq google-drive-ocamlfuse fuse\n",
    "\n",
    "from google.colab import auth\n",
    "auth.authenticate_user()\n",
    "from oauth2client.client import GoogleCredentials\n",
    "creds = GoogleCredentials.get_application_default()\n",
    "import getpass\n",
    "!google-drive-ocamlfuse -headless -id={creds.client_id} -secret={creds.client_secret} < /dev/null 2>&1 | grep URL\n",
    "vcode = getpass.getpass()\n",
    "!echo {vcode} | google-drive-ocamlfuse -headless -id={creds.client_id} -secret={creds.client_secret}\n",
    "\n",
    "!mkdir -p drive\n",
    "!google-drive-ocamlfuse drive"
   ]
  },
  {
   "cell_type": "code",
   "execution_count": 2,
   "metadata": {
    "_cell_guid": "b1076dfc-b9ad-4769-8c92-a6c4dae69d19",
    "_uuid": "8f2839f25d086af736a60e9eeb907d3b93b6e0e5",
    "colab": {
     "base_uri": "https://localhost:8080/",
     "height": 34
    },
    "colab_type": "code",
    "id": "B8T_lTd1Ev7b",
    "outputId": "03ab9fd5-9f4b-4c9e-e542-bed5a2854518",
    "scrolled": false
   },
   "outputs": [
    {
     "name": "stdout",
     "output_type": "stream",
     "text": [
      "['train_V2.csv.zip']\n"
     ]
    }
   ],
   "source": [
    "%matplotlib inline\n",
    "import warnings\n",
    "warnings.filterwarnings('ignore')\n",
    "import numpy as np # linear algebra\n",
    "import pandas as pd # data processing, CSV file I/O (e.g. pd.read_csv)\n",
    "import os\n",
    "import seaborn as sns \n",
    "import matplotlib.pyplot as plt\n",
    "import math\n",
    "from itertools import chain\n",
    "\n",
    "data_dir = \"drive/5001/project/\"\n",
    "print(os.listdir(data_dir))"
   ]
  },
  {
   "cell_type": "code",
   "execution_count": 0,
   "metadata": {
    "colab": {},
    "colab_type": "code",
    "id": "di6Z2MyCEv7n"
   },
   "outputs": [],
   "source": []
  },
  {
   "cell_type": "markdown",
   "metadata": {
    "colab_type": "text",
    "id": "V3WwkBaVEv7p"
   },
   "source": [
    "## 0. Initial"
   ]
  },
  {
   "cell_type": "code",
   "execution_count": 0,
   "metadata": {
    "_uuid": "f4c75f6b5a01a24b98c46a1f8d990266c3c74ea3",
    "colab": {},
    "colab_type": "code",
    "id": "OY9fiogAEv7q"
   },
   "outputs": [],
   "source": [
    "data = pd.read_csv(data_dir + 'train_V2.csv.zip')\n",
    "# print(len(data))"
   ]
  },
  {
   "cell_type": "code",
   "execution_count": 4,
   "metadata": {
    "colab": {
     "base_uri": "https://localhost:8080/",
     "height": 34
    },
    "colab_type": "code",
    "id": "fVYZj-1dEv7u",
    "outputId": "03796893-e006-4eea-d6e4-4014f5c51096"
   },
   "outputs": [
    {
     "name": "stdout",
     "output_type": "stream",
     "text": [
      "4446966\n"
     ]
    }
   ],
   "source": [
    "print(len(data))"
   ]
  },
  {
   "cell_type": "code",
   "execution_count": 0,
   "metadata": {
    "colab": {},
    "colab_type": "code",
    "id": "6i7yglNREv7y",
    "outputId": "45f01cac-641c-4ba4-d1d1-48ed48949303"
   },
   "outputs": [
    {
     "data": {
      "text/plain": [
       "array(['Id', 'groupId', 'matchId', 'assists', 'boosts', 'damageDealt',\n",
       "       'DBNOs', 'headshotKills', 'heals', 'killPlace', 'killPoints',\n",
       "       'kills', 'killStreaks', 'longestKill', 'matchDuration',\n",
       "       'matchType', 'maxPlace', 'numGroups', 'rankPoints', 'revives',\n",
       "       'rideDistance', 'roadKills', 'swimDistance', 'teamKills',\n",
       "       'vehicleDestroys', 'walkDistance', 'weaponsAcquired', 'winPoints',\n",
       "       'winPlacePerc'], dtype=object)"
      ]
     },
     "execution_count": 125,
     "metadata": {
      "tags": []
     },
     "output_type": "execute_result"
    }
   ],
   "source": [
    "data.columns.values"
   ]
  },
  {
   "cell_type": "code",
   "execution_count": 0,
   "metadata": {
    "colab": {},
    "colab_type": "code",
    "id": "dSLyCo9-Ev73"
   },
   "outputs": [],
   "source": [
    "# df_train.hist(bins=10, figsize=(30, 30))"
   ]
  },
  {
   "cell_type": "markdown",
   "metadata": {
    "_cell_guid": "79c7e3d0-c299-4dcb-8224-4455121ee9b0",
    "_kg_hide-output": false,
    "_uuid": "d629ff2d2480ee46fbb7e2d37f6b5fab8052498a",
    "colab_type": "text",
    "id": "q0g_H7c9Ev75",
    "scrolled": true
   },
   "source": [
    "## 1.1. First step of Filtering "
   ]
  },
  {
   "cell_type": "code",
   "execution_count": 3,
   "metadata": {
    "colab": {
     "base_uri": "https://localhost:8080/",
     "height": 34
    },
    "colab_type": "code",
    "id": "gn0wZ9keEv76",
    "outputId": "2dc6b24e-a1fd-47a4-f206-090a67ee889a"
   },
   "outputs": [
    {
     "name": "stdout",
     "output_type": "stream",
     "text": [
      "1 groups\n"
     ]
    }
   ],
   "source": [
    "relevant = data[data.isnull().values==True]['groupId'].values\n",
    "print(len(relevant),'groups')"
   ]
  },
  {
   "cell_type": "code",
   "execution_count": 4,
   "metadata": {
    "colab": {
     "base_uri": "https://localhost:8080/",
     "height": 34
    },
    "colab_type": "code",
    "id": "DD_N9wsHEv7_",
    "outputId": "d0819fda-54a0-47f3-d42a-d6b04b908c30"
   },
   "outputs": [
    {
     "name": "stdout",
     "output_type": "stream",
     "text": [
      "4446965\n"
     ]
    }
   ],
   "source": [
    "for group in relevant:\n",
    "#     print(len(data[data['groupId'] == group]))\n",
    "    data.drop(data[data['groupId'] == group].index, inplace=True)\n",
    "print(len(data))"
   ]
  },
  {
   "cell_type": "code",
   "execution_count": 0,
   "metadata": {
    "colab": {},
    "colab_type": "code",
    "id": "tWKN6421Ev8C",
    "outputId": "babf58a7-c73a-481c-cc94-f8b931961267"
   },
   "outputs": [
    {
     "data": {
      "text/plain": [
       "squad-fpp           1756186\n",
       "duo-fpp              996691\n",
       "squad                626526\n",
       "solo-fpp             536762\n",
       "duo                  313591\n",
       "solo                 181943\n",
       "normal-squad-fpp      17174\n",
       "crashfpp               6287\n",
       "normal-duo-fpp         5489\n",
       "flaretpp               2505\n",
       "normal-solo-fpp        1682\n",
       "flarefpp                718\n",
       "normal-squad            516\n",
       "crashtpp                371\n",
       "normal-solo             326\n",
       "normal-duo              199\n",
       "Name: matchType, dtype: int64"
      ]
     },
     "execution_count": 130,
     "metadata": {
      "tags": []
     },
     "output_type": "execute_result"
    }
   ],
   "source": [
    "data['matchType'].value_counts()"
   ]
  },
  {
   "cell_type": "code",
   "execution_count": 5,
   "metadata": {
    "colab": {
     "base_uri": "https://localhost:8080/",
     "height": 34
    },
    "colab_type": "code",
    "id": "lcCiLdkxEv8G",
    "outputId": "4a219e6b-3155-407f-85ef-6a4dab8ebf2e"
   },
   "outputs": [
    {
     "name": "stdout",
     "output_type": "stream",
     "text": [
      "4417386\n"
     ]
    }
   ],
   "source": [
    "data.drop(data[data['matchType'] == 'normal-squad-fpp'].index, inplace=True)\n",
    "data.drop(data[data['matchType'] == 'crashfpp'].index, inplace=True)\n",
    "data.drop(data[data['matchType'] == 'normal-duo-fpp '].index, inplace=True)\n",
    "data.drop(data[data['matchType'] == 'flaretpp'].index, inplace=True)\n",
    "data.drop(data[data['matchType'] == 'normal-solo-fpp'].index, inplace=True)\n",
    "data.drop(data[data['matchType'] == 'flarefpp'].index, inplace=True)\n",
    "data.drop(data[data['matchType'] == 'normal-squad'].index, inplace=True)\n",
    "data.drop(data[data['matchType'] == 'crashtpp'].index, inplace=True)\n",
    "data.drop(data[data['matchType'] == 'normal-solo'].index, inplace=True)\n",
    "data.drop(data[data['matchType'] == 'normal-duo '].index, inplace=True)\n",
    "print(len(data))"
   ]
  },
  {
   "cell_type": "code",
   "execution_count": 11,
   "metadata": {
    "colab": {
     "base_uri": "https://localhost:8080/",
     "height": 54
    },
    "colab_type": "code",
    "id": "MTdQvQnXJKo1",
    "outputId": "c8b4ee5b-cbae-4f8f-cfe3-965911537482"
   },
   "outputs": [
    {
     "name": "stdout",
     "output_type": "stream",
     "text": [
      "Requirement already satisfied: tqdm in /usr/local/lib/python3.6/dist-packages (4.28.1)\n"
     ]
    }
   ],
   "source": []
  },
  {
   "cell_type": "code",
   "execution_count": 0,
   "metadata": {
    "colab": {},
    "colab_type": "code",
    "id": "Lf9DHnK_I-Ky"
   },
   "outputs": [],
   "source": [
    "# from tqdm._tqdm_notebook import tnrange"
   ]
  },
  {
   "cell_type": "code",
   "execution_count": 6,
   "metadata": {
    "colab": {
     "base_uri": "https://localhost:8080/",
     "height": 34
    },
    "colab_type": "code",
    "id": "Pm7gOhqlEv8U",
    "outputId": "d53334ae-54d1-44d2-cf42-11420a5add3c"
   },
   "outputs": [
    {
     "name": "stdout",
     "output_type": "stream",
     "text": [
      "5598 groups\n"
     ]
    }
   ],
   "source": [
    "temp = data[data['matchType'] == 'solo']\n",
    "group_data = temp.groupby(['groupId'])\n",
    "stat = group_data['Id'].count()\n",
    "stat = pd.DataFrame(stat)\n",
    "relevant = stat[stat['Id'] > 1].index.values\n",
    "print(len(relevant),'groups')"
   ]
  },
  {
   "cell_type": "code",
   "execution_count": 0,
   "metadata": {
    "colab": {},
    "colab_type": "code",
    "id": "6nYvPFv_L9V4"
   },
   "outputs": [],
   "source": [
    "# data.reset_index()"
   ]
  },
  {
   "cell_type": "code",
   "execution_count": 0,
   "metadata": {
    "colab": {},
    "colab_type": "code",
    "id": "r7WB3jLmMl79"
   },
   "outputs": [],
   "source": [
    "indexes_to_keep = set(range(data.shape[0])) #- set(indexes_to_drop)"
   ]
  },
  {
   "cell_type": "code",
   "execution_count": 0,
   "metadata": {
    "colab": {},
    "colab_type": "code",
    "id": "-uZvZXWzEv8X"
   },
   "outputs": [],
   "source": [
    "\n",
    "for group in relevant:\n",
    "#     print(len(data[data['groupId'] == group]))\n",
    "#     data.drop(data[data['groupId'] == group].index, inplace=True)\n",
    "  indexes_to_keep -= set(data[data['groupId'] == group].index)\n",
    "# print(len(data)"
   ]
  },
  {
   "cell_type": "code",
   "execution_count": 14,
   "metadata": {
    "colab": {
     "base_uri": "https://localhost:8080/",
     "height": 34
    },
    "colab_type": "code",
    "id": "P2j7yW-fM7Ym",
    "outputId": "8a49bf20-4564-4786-de0e-14a4717210a9"
   },
   "outputs": [
    {
     "name": "stdout",
     "output_type": "stream",
     "text": [
      "4398541\n"
     ]
    }
   ],
   "source": [
    "data = data.take(list(indexes_to_keep))\n",
    "print(len(data))\n"
   ]
  },
  {
   "cell_type": "code",
   "execution_count": 0,
   "metadata": {
    "colab": {},
    "colab_type": "code",
    "id": "rVhOMk_TT-x5"
   },
   "outputs": [],
   "source": [
    "data.to_csv('drive/temp1.csv')"
   ]
  },
  {
   "cell_type": "code",
   "execution_count": 0,
   "metadata": {
    "colab": {},
    "colab_type": "code",
    "id": "Ll8hoIY2YSti"
   },
   "outputs": [],
   "source": [
    "# data = pd.read_csv('drive/temp1.csv')"
   ]
  },
  {
   "cell_type": "code",
   "execution_count": 16,
   "metadata": {
    "colab": {
     "base_uri": "https://localhost:8080/",
     "height": 34
    },
    "colab_type": "code",
    "id": "iDmCHpEjEv8K",
    "outputId": "ea7c84f0-562b-4ae6-b289-3161cc83d974"
   },
   "outputs": [
    {
     "name": "stdout",
     "output_type": "stream",
     "text": [
      "11376 groups\n"
     ]
    }
   ],
   "source": [
    "temp = data[data['matchType'] == 'solo-fpp']\n",
    "group_data = temp.groupby(['groupId'])\n",
    "stat = group_data['Id'].count()\n",
    "stat = pd.DataFrame(stat)\n",
    "\n",
    "relevant = stat[stat['Id'] > 1].index.values\n",
    "print(len(relevant),'groups')"
   ]
  },
  {
   "cell_type": "code",
   "execution_count": 0,
   "metadata": {
    "colab": {},
    "colab_type": "code",
    "id": "2NIbP8BsOZFy"
   },
   "outputs": [],
   "source": [
    "data.reset_index()\n",
    "indexes_to_keep = set(range(data.shape[0]))"
   ]
  },
  {
   "cell_type": "code",
   "execution_count": 0,
   "metadata": {
    "colab": {},
    "colab_type": "code",
    "id": "ByD6X4uKEv8Q"
   },
   "outputs": [],
   "source": [
    "# max = 0\n",
    "for group in relevant[1:]:\n",
    "#     print(len(data[data['groupId'] == group]))\n",
    "# #     if len(data[data['groupId'] == group]) > max:\n",
    "#         max = len(data[data['groupId'] == group])\n",
    "#     data.drop(data[data['groupId'] == group].index, inplace=True)\n",
    "  indexes_to_keep -= set(data[data['groupId'] == group].index)\n",
    "# print(len(data))"
   ]
  },
  {
   "cell_type": "code",
   "execution_count": 22,
   "metadata": {
    "colab": {
     "base_uri": "https://localhost:8080/",
     "height": 34
    },
    "colab_type": "code",
    "id": "VJZ_WmtKEv8c",
    "outputId": "55754ee9-f77d-4e7b-db84-7b09a2f389f3"
   },
   "outputs": [
    {
     "name": "stdout",
     "output_type": "stream",
     "text": [
      "4374267\n"
     ]
    }
   ],
   "source": [
    "data = data.take(list(indexes_to_keep))\n",
    "print(len(data))"
   ]
  },
  {
   "cell_type": "code",
   "execution_count": 0,
   "metadata": {
    "colab": {},
    "colab_type": "code",
    "id": "0cSbOo0kW-yc"
   },
   "outputs": [],
   "source": [
    "data.to_csv('drive/temp2.csv')"
   ]
  },
  {
   "cell_type": "code",
   "execution_count": 0,
   "metadata": {
    "colab": {},
    "colab_type": "code",
    "id": "XYC2kd8xzjl0"
   },
   "outputs": [],
   "source": [
    "data = pd.read_csv('drive/temp2.csv')"
   ]
  },
  {
   "cell_type": "code",
   "execution_count": 0,
   "metadata": {
    "colab": {
     "base_uri": "https://localhost:8080/",
     "height": 34
    },
    "colab_type": "code",
    "id": "xiQL1qX34UEc",
    "outputId": "7193d6ac-52ac-482e-fbac-70a2111d01bc"
   },
   "outputs": [
    {
     "name": "stdout",
     "output_type": "stream",
     "text": [
      "4374267\n"
     ]
    }
   ],
   "source": [
    "print(len(data))"
   ]
  },
  {
   "cell_type": "markdown",
   "metadata": {
    "colab_type": "text",
    "id": "qHdQQw1jEv8g"
   },
   "source": [
    "## 1.2. Second step of Filtering "
   ]
  },
  {
   "cell_type": "code",
   "execution_count": 4,
   "metadata": {
    "colab": {
     "base_uri": "https://localhost:8080/",
     "height": 51
    },
    "colab_type": "code",
    "id": "CldoY8dBEv8h",
    "outputId": "b0012a49-5edb-4a6f-fb61-e7a45d70f8d6"
   },
   "outputs": [
    {
     "name": "stdout",
     "output_type": "stream",
     "text": [
      "6 groups\n",
      "4374251\n"
     ]
    }
   ],
   "source": [
    "relevant = data[data['longestKill'] >= 1000]['groupId'].values\n",
    "print(len(relevant),'groups')\n",
    "for group in relevant:\n",
    "#     print(len(data[data['groupId'] == group]))\n",
    "    data.drop(data[data['groupId'] == group].index, inplace=True)\n",
    "print(len(data))"
   ]
  },
  {
   "cell_type": "code",
   "execution_count": 5,
   "metadata": {
    "colab": {
     "base_uri": "https://localhost:8080/",
     "height": 51
    },
    "colab_type": "code",
    "id": "IFIWXY06Ev8w",
    "outputId": "d3d189a9-ee92-495e-a75f-d0f3ab068c2b"
   },
   "outputs": [
    {
     "name": "stdout",
     "output_type": "stream",
     "text": [
      "4 groups\n",
      "4374247\n"
     ]
    }
   ],
   "source": [
    "relevant = data[data['roadKills'] > 10]['groupId'].values\n",
    "print(len(relevant),'groups')\n",
    "for group in relevant:\n",
    "#     print(len(data[data['groupId'] == group]))\n",
    "    data.drop(data[data['groupId'] == group].index, inplace=True)\n",
    "print(len(data))"
   ]
  },
  {
   "cell_type": "code",
   "execution_count": 0,
   "metadata": {
    "colab": {},
    "colab_type": "code",
    "id": "GkN64S3GEv84"
   },
   "outputs": [],
   "source": [
    "#We try to identify cheaters by checking if people are getting kills without moving. \n",
    "data['totalDistance'] = data['rideDistance'] + data['walkDistance'] + data['swimDistance']\n",
    "data['killsWithoutMoving'] = ((data['kills'] > 0) & (data['totalDistance'] == 0))"
   ]
  },
  {
   "cell_type": "code",
   "execution_count": 7,
   "metadata": {
    "colab": {
     "base_uri": "https://localhost:8080/",
     "height": 34
    },
    "colab_type": "code",
    "id": "TnAhkSUNEv88",
    "outputId": "2405eddf-c320-4d92-ff8a-f41eb7af08d4"
   },
   "outputs": [
    {
     "name": "stdout",
     "output_type": "stream",
     "text": [
      "675 groups\n"
     ]
    }
   ],
   "source": [
    "relevants = []\n",
    "relevants.append(list(data[data['walkDistance'] >= 10000]['groupId'].values))\n",
    "relevants.append(list(data[data['rideDistance'] >= 20000]['groupId'].values))\n",
    "relevants.append(list(data[data['swimDistance'] >= 2000]['groupId'].values))\n",
    "relevants.append(list(data[data['killsWithoutMoving'] == True]['groupId'].values))\n",
    "relevants = list(chain.from_iterable(relevants))\n",
    "print(len(relevants),'groups')"
   ]
  },
  {
   "cell_type": "code",
   "execution_count": 0,
   "metadata": {
    "colab": {},
    "colab_type": "code",
    "id": "CRTh5SGv4fG0"
   },
   "outputs": [],
   "source": [
    "data.reset_index()\n",
    "indexes_to_keep = set(range(data.shape[0]))"
   ]
  },
  {
   "cell_type": "code",
   "execution_count": 9,
   "metadata": {
    "colab": {
     "base_uri": "https://localhost:8080/",
     "height": 34
    },
    "colab_type": "code",
    "id": "cMq9pmeFEv8_",
    "outputId": "c3e9f66e-1fb0-4134-8b19-decccdc3fc2d"
   },
   "outputs": [
    {
     "name": "stdout",
     "output_type": "stream",
     "text": [
      "4374247\n"
     ]
    }
   ],
   "source": [
    "for group in relevants:\n",
    "#     print(len(data[data['groupId'] == group]))\n",
    "#     data.drop(data[data['groupId'] == group].index, inplace=True)\n",
    "   indexes_to_keep -= set(data[data['groupId'] == group].index)\n",
    "print(len(data))"
   ]
  },
  {
   "cell_type": "code",
   "execution_count": 10,
   "metadata": {
    "colab": {
     "base_uri": "https://localhost:8080/",
     "height": 34
    },
    "colab_type": "code",
    "id": "Uo9X3nZ14k79",
    "outputId": "12ce23b4-5c47-4899-9a81-5f414504ab20"
   },
   "outputs": [
    {
     "name": "stdout",
     "output_type": "stream",
     "text": [
      "4373061\n"
     ]
    }
   ],
   "source": [
    "data = data.take(list(indexes_to_keep))\n",
    "print(len(data))"
   ]
  },
  {
   "cell_type": "code",
   "execution_count": 0,
   "metadata": {
    "colab": {},
    "colab_type": "code",
    "id": "i-NE-82xEv9B"
   },
   "outputs": [],
   "source": [
    "#The feature headshot_rate will also help us to catch cheaters.\n",
    "# Create headshot_rate feature\n",
    "data['headshot_rate'] = data['headshotKills'] / data['kills']\n",
    "data['headshot_rate'] = data['headshot_rate'].fillna(0)"
   ]
  },
  {
   "cell_type": "code",
   "execution_count": 12,
   "metadata": {
    "colab": {
     "base_uri": "https://localhost:8080/",
     "height": 34
    },
    "colab_type": "code",
    "id": "gZYLLdq3Ev9F",
    "outputId": "ae7481da-3883-4aaf-cb00-eb20221b895a"
   },
   "outputs": [
    {
     "name": "stdout",
     "output_type": "stream",
     "text": [
      "21 groups\n"
     ]
    }
   ],
   "source": [
    "relevant = data[(data['headshot_rate']==1) & (data['kills']>9)]['groupId'].values\n",
    "print(len(relevant),'groups')"
   ]
  },
  {
   "cell_type": "code",
   "execution_count": 13,
   "metadata": {
    "colab": {
     "base_uri": "https://localhost:8080/",
     "height": 34
    },
    "colab_type": "code",
    "id": "iLJKpYO4Ev9K",
    "outputId": "6353c52b-5aa5-48bb-8bec-fe8fc4ab21c2"
   },
   "outputs": [
    {
     "name": "stdout",
     "output_type": "stream",
     "text": [
      "4373006\n"
     ]
    }
   ],
   "source": [
    "for group in relevant:\n",
    "#     print(len(data[data['groupId'] == group]))\n",
    "    data.drop(data[data['groupId'] == group].index, inplace=True)\n",
    "print(len(data))"
   ]
  },
  {
   "cell_type": "code",
   "execution_count": 14,
   "metadata": {
    "colab": {
     "base_uri": "https://localhost:8080/",
     "height": 51
    },
    "colab_type": "code",
    "id": "sP5YZ9R1Ev9N",
    "outputId": "cbf8415f-cb19-4e69-b739-12d394b09e4f"
   },
   "outputs": [
    {
     "name": "stdout",
     "output_type": "stream",
     "text": [
      "14 groups\n",
      "4372962\n"
     ]
    }
   ],
   "source": [
    "relevant = data[data['weaponsAcquired'] >= 80]['groupId'].values\n",
    "print(len(relevant),'groups')\n",
    "for group in relevant:\n",
    "#     print(len(data[data['groupId'] == group]))\n",
    "    data.drop(data[data['groupId'] == group].index, inplace=True)\n",
    "print(len(data))"
   ]
  },
  {
   "cell_type": "code",
   "execution_count": 15,
   "metadata": {
    "colab": {
     "base_uri": "https://localhost:8080/",
     "height": 34
    },
    "colab_type": "code",
    "id": "Z2bv_KqHEv9P",
    "outputId": "10a4d9c8-56f0-4013-ea91-e52c5d1dbcee"
   },
   "outputs": [
    {
     "name": "stdout",
     "output_type": "stream",
     "text": [
      "133 groups\n"
     ]
    }
   ],
   "source": [
    "data.reset_index()\n",
    "indexes_to_keep = set(range(data.shape[0]))\n",
    "\n",
    "relevant = data[data['heals'] >= 40]['groupId'].values\n",
    "print(len(relevant),'groups')\n",
    "for group in relevant:\n",
    "#     print(len(data[data['groupId'] == group]))\n",
    "#     data.drop(data[data['groupId'] == group].index, inplace=True)\n",
    "  indexes_to_keep -= set(data[data['groupId'] == group].index)\n",
    "# print(len(data))"
   ]
  },
  {
   "cell_type": "code",
   "execution_count": 16,
   "metadata": {
    "colab": {
     "base_uri": "https://localhost:8080/",
     "height": 34
    },
    "colab_type": "code",
    "id": "ZPh4vNDdEv9b",
    "outputId": "54b5f06b-9853-4950-a96c-829ada0ddb6a"
   },
   "outputs": [
    {
     "name": "stdout",
     "output_type": "stream",
     "text": [
      "4372756\n"
     ]
    }
   ],
   "source": [
    "data = data.take(list(indexes_to_keep))\n",
    "print(len(data))"
   ]
  },
  {
   "cell_type": "code",
   "execution_count": 0,
   "metadata": {
    "colab": {},
    "colab_type": "code",
    "id": "-nAfpmca9f4a"
   },
   "outputs": [],
   "source": [
    "data.to_csv('drive/temp3.csv')"
   ]
  },
  {
   "cell_type": "markdown",
   "metadata": {
    "colab_type": "text",
    "id": "UNoHwElrEv9d"
   },
   "source": [
    "## 2. Group by data by group & match "
   ]
  },
  {
   "cell_type": "code",
   "execution_count": 0,
   "metadata": {
    "colab": {},
    "colab_type": "code",
    "id": "QnKcBm8iEv9f"
   },
   "outputs": [],
   "source": [
    "agg_funcs = {'assists':'sum',\n",
    "             'boosts':'sum',\n",
    "             'damageDealt':'sum',\n",
    "             'DBNOs':'sum',\n",
    "             'headshotKills':'sum',\n",
    "             'heals':'sum',\n",
    "             'killPlace':'min',\n",
    "             'killPoints':'sum',\n",
    "             'kills':'sum',\n",
    "             'killStreaks':'sum',\n",
    "             'longestKill':'max',\n",
    "             'matchDuration':'mean',\n",
    "             'matchType':'max', # new value\n",
    "             'maxPlace':'max', # may not equal to group num\n",
    "             'numGroups':'max',\n",
    "             'rankPoints':'sum', # depatured in next version\n",
    "             'revives':'sum',\n",
    "             'rideDistance':'sum',\n",
    "             'roadKills':'sum',\n",
    "             'swimDistance':'sum',\n",
    "             'teamKills':'sum',\n",
    "             'vehicleDestroys':'sum',\n",
    "             'walkDistance':'sum',\n",
    "             'weaponsAcquired':'sum',\n",
    "             'winPoints':'sum', # rankPoints where only win counts\n",
    "             'winPlacePerc':'max'} # 1 is best, 0 is last"
   ]
  },
  {
   "cell_type": "code",
   "execution_count": 0,
   "metadata": {
    "colab": {},
    "colab_type": "code",
    "id": "xWi1wEvBEv9g"
   },
   "outputs": [],
   "source": [
    "# group_match_data = data.groupby(['groupId', 'matchId'])"
   ]
  },
  {
   "cell_type": "code",
   "execution_count": 0,
   "metadata": {
    "colab": {},
    "colab_type": "code",
    "id": "pczLV3tsEv9k"
   },
   "outputs": [],
   "source": [
    "group_data = data.groupby(['groupId'])"
   ]
  },
  {
   "cell_type": "code",
   "execution_count": 0,
   "metadata": {
    "colab": {},
    "colab_type": "code",
    "id": "BzKda5sVEv9y"
   },
   "outputs": [],
   "source": [
    "group_data = group_data.agg(agg_funcs)"
   ]
  },
  {
   "cell_type": "code",
   "execution_count": 0,
   "metadata": {
    "colab": {},
    "colab_type": "code",
    "id": "kbasd6tDEv95"
   },
   "outputs": [],
   "source": [
    "# group_match_data = group_match_data.agg(agg_funcs)\n",
    "# group_match_data = group_match_data.sort_values(by=['matchId','winPlacePerc'],\n",
    "#                                                 ascending=False)\n",
    "# group_match_data = group_match_data.reset_index()\n",
    "# group_match_data = group_match_data.sort_values(by=['matchId', 'winPlacePerc'],\n",
    "#                                                 ascending=False)"
   ]
  },
  {
   "cell_type": "code",
   "execution_count": 27,
   "metadata": {
    "colab": {
     "base_uri": "https://localhost:8080/",
     "height": 34
    },
    "colab_type": "code",
    "id": "HeP-TLOlEv-B",
    "outputId": "5bc3a5ef-a085-4bae-cb65-6228f6ef1278"
   },
   "outputs": [
    {
     "data": {
      "text/plain": [
       "2008933"
      ]
     },
     "execution_count": 27,
     "metadata": {
      "tags": []
     },
     "output_type": "execute_result"
    }
   ],
   "source": [
    "len(group_data)"
   ]
  },
  {
   "cell_type": "code",
   "execution_count": 26,
   "metadata": {
    "colab": {
     "base_uri": "https://localhost:8080/",
     "height": 284
    },
    "colab_type": "code",
    "id": "Enz7KEEDEv98",
    "outputId": "7f0feb93-4292-42f2-ae2b-8bbece41d0b0"
   },
   "outputs": [
    {
     "data": {
      "text/html": [
       "<div>\n",
       "<style scoped>\n",
       "    .dataframe tbody tr th:only-of-type {\n",
       "        vertical-align: middle;\n",
       "    }\n",
       "\n",
       "    .dataframe tbody tr th {\n",
       "        vertical-align: top;\n",
       "    }\n",
       "\n",
       "    .dataframe thead th {\n",
       "        text-align: right;\n",
       "    }\n",
       "</style>\n",
       "<table border=\"1\" class=\"dataframe\">\n",
       "  <thead>\n",
       "    <tr style=\"text-align: right;\">\n",
       "      <th></th>\n",
       "      <th>assists</th>\n",
       "      <th>boosts</th>\n",
       "      <th>damageDealt</th>\n",
       "      <th>DBNOs</th>\n",
       "      <th>headshotKills</th>\n",
       "      <th>heals</th>\n",
       "      <th>killPlace</th>\n",
       "      <th>killPoints</th>\n",
       "      <th>kills</th>\n",
       "      <th>killStreaks</th>\n",
       "      <th>...</th>\n",
       "      <th>revives</th>\n",
       "      <th>rideDistance</th>\n",
       "      <th>roadKills</th>\n",
       "      <th>swimDistance</th>\n",
       "      <th>teamKills</th>\n",
       "      <th>vehicleDestroys</th>\n",
       "      <th>walkDistance</th>\n",
       "      <th>weaponsAcquired</th>\n",
       "      <th>winPoints</th>\n",
       "      <th>winPlacePerc</th>\n",
       "    </tr>\n",
       "    <tr>\n",
       "      <th>groupId</th>\n",
       "      <th></th>\n",
       "      <th></th>\n",
       "      <th></th>\n",
       "      <th></th>\n",
       "      <th></th>\n",
       "      <th></th>\n",
       "      <th></th>\n",
       "      <th></th>\n",
       "      <th></th>\n",
       "      <th></th>\n",
       "      <th></th>\n",
       "      <th></th>\n",
       "      <th></th>\n",
       "      <th></th>\n",
       "      <th></th>\n",
       "      <th></th>\n",
       "      <th></th>\n",
       "      <th></th>\n",
       "      <th></th>\n",
       "      <th></th>\n",
       "      <th></th>\n",
       "    </tr>\n",
       "  </thead>\n",
       "  <tbody>\n",
       "    <tr>\n",
       "      <th>00000c08b5be36</th>\n",
       "      <td>0</td>\n",
       "      <td>1</td>\n",
       "      <td>741.50</td>\n",
       "      <td>5</td>\n",
       "      <td>1</td>\n",
       "      <td>1</td>\n",
       "      <td>35</td>\n",
       "      <td>0</td>\n",
       "      <td>2</td>\n",
       "      <td>2</td>\n",
       "      <td>...</td>\n",
       "      <td>0</td>\n",
       "      <td>0.0</td>\n",
       "      <td>0</td>\n",
       "      <td>0.00</td>\n",
       "      <td>0</td>\n",
       "      <td>0</td>\n",
       "      <td>814.60</td>\n",
       "      <td>7</td>\n",
       "      <td>0</td>\n",
       "      <td>0.2000</td>\n",
       "    </tr>\n",
       "    <tr>\n",
       "      <th>00000d1cbbc340</th>\n",
       "      <td>0</td>\n",
       "      <td>0</td>\n",
       "      <td>173.70</td>\n",
       "      <td>0</td>\n",
       "      <td>0</td>\n",
       "      <td>0</td>\n",
       "      <td>40</td>\n",
       "      <td>0</td>\n",
       "      <td>1</td>\n",
       "      <td>1</td>\n",
       "      <td>...</td>\n",
       "      <td>0</td>\n",
       "      <td>0.0</td>\n",
       "      <td>0</td>\n",
       "      <td>0.00</td>\n",
       "      <td>0</td>\n",
       "      <td>0</td>\n",
       "      <td>135.80</td>\n",
       "      <td>3</td>\n",
       "      <td>0</td>\n",
       "      <td>0.1154</td>\n",
       "    </tr>\n",
       "    <tr>\n",
       "      <th>000025a09dd1d7</th>\n",
       "      <td>0</td>\n",
       "      <td>0</td>\n",
       "      <td>0.00</td>\n",
       "      <td>0</td>\n",
       "      <td>0</td>\n",
       "      <td>0</td>\n",
       "      <td>72</td>\n",
       "      <td>0</td>\n",
       "      <td>0</td>\n",
       "      <td>0</td>\n",
       "      <td>...</td>\n",
       "      <td>0</td>\n",
       "      <td>0.0</td>\n",
       "      <td>0</td>\n",
       "      <td>0.00</td>\n",
       "      <td>0</td>\n",
       "      <td>0</td>\n",
       "      <td>110.80</td>\n",
       "      <td>2</td>\n",
       "      <td>0</td>\n",
       "      <td>0.2000</td>\n",
       "    </tr>\n",
       "    <tr>\n",
       "      <th>000038ec4dff53</th>\n",
       "      <td>1</td>\n",
       "      <td>5</td>\n",
       "      <td>211.57</td>\n",
       "      <td>1</td>\n",
       "      <td>1</td>\n",
       "      <td>7</td>\n",
       "      <td>9</td>\n",
       "      <td>0</td>\n",
       "      <td>3</td>\n",
       "      <td>2</td>\n",
       "      <td>...</td>\n",
       "      <td>2</td>\n",
       "      <td>0.0</td>\n",
       "      <td>0</td>\n",
       "      <td>152.09</td>\n",
       "      <td>0</td>\n",
       "      <td>0</td>\n",
       "      <td>4185.00</td>\n",
       "      <td>10</td>\n",
       "      <td>0</td>\n",
       "      <td>0.9615</td>\n",
       "    </tr>\n",
       "    <tr>\n",
       "      <th>00003a54230763</th>\n",
       "      <td>1</td>\n",
       "      <td>0</td>\n",
       "      <td>100.00</td>\n",
       "      <td>1</td>\n",
       "      <td>1</td>\n",
       "      <td>0</td>\n",
       "      <td>34</td>\n",
       "      <td>2026</td>\n",
       "      <td>1</td>\n",
       "      <td>1</td>\n",
       "      <td>...</td>\n",
       "      <td>0</td>\n",
       "      <td>0.0</td>\n",
       "      <td>0</td>\n",
       "      <td>0.00</td>\n",
       "      <td>0</td>\n",
       "      <td>0</td>\n",
       "      <td>185.35</td>\n",
       "      <td>5</td>\n",
       "      <td>3002</td>\n",
       "      <td>0.1395</td>\n",
       "    </tr>\n",
       "  </tbody>\n",
       "</table>\n",
       "<p>5 rows × 26 columns</p>\n",
       "</div>"
      ],
      "text/plain": [
       "                assists  boosts  damageDealt  DBNOs  headshotKills  heals  \\\n",
       "groupId                                                                     \n",
       "00000c08b5be36        0       1       741.50      5              1      1   \n",
       "00000d1cbbc340        0       0       173.70      0              0      0   \n",
       "000025a09dd1d7        0       0         0.00      0              0      0   \n",
       "000038ec4dff53        1       5       211.57      1              1      7   \n",
       "00003a54230763        1       0       100.00      1              1      0   \n",
       "\n",
       "                killPlace  killPoints  kills  killStreaks      ...       \\\n",
       "groupId                                                        ...        \n",
       "00000c08b5be36         35           0      2            2      ...        \n",
       "00000d1cbbc340         40           0      1            1      ...        \n",
       "000025a09dd1d7         72           0      0            0      ...        \n",
       "000038ec4dff53          9           0      3            2      ...        \n",
       "00003a54230763         34        2026      1            1      ...        \n",
       "\n",
       "                revives  rideDistance roadKills  swimDistance  teamKills  \\\n",
       "groupId                                                                    \n",
       "00000c08b5be36        0           0.0         0          0.00          0   \n",
       "00000d1cbbc340        0           0.0         0          0.00          0   \n",
       "000025a09dd1d7        0           0.0         0          0.00          0   \n",
       "000038ec4dff53        2           0.0         0        152.09          0   \n",
       "00003a54230763        0           0.0         0          0.00          0   \n",
       "\n",
       "                vehicleDestroys  walkDistance  weaponsAcquired  winPoints  \\\n",
       "groupId                                                                     \n",
       "00000c08b5be36                0        814.60                7          0   \n",
       "00000d1cbbc340                0        135.80                3          0   \n",
       "000025a09dd1d7                0        110.80                2          0   \n",
       "000038ec4dff53                0       4185.00               10          0   \n",
       "00003a54230763                0        185.35                5       3002   \n",
       "\n",
       "                winPlacePerc  \n",
       "groupId                       \n",
       "00000c08b5be36        0.2000  \n",
       "00000d1cbbc340        0.1154  \n",
       "000025a09dd1d7        0.2000  \n",
       "000038ec4dff53        0.9615  \n",
       "00003a54230763        0.1395  \n",
       "\n",
       "[5 rows x 26 columns]"
      ]
     },
     "execution_count": 26,
     "metadata": {
      "tags": []
     },
     "output_type": "execute_result"
    }
   ],
   "source": [
    "group_data.head()"
   ]
  },
  {
   "cell_type": "code",
   "execution_count": 0,
   "metadata": {
    "colab": {},
    "colab_type": "code",
    "id": "ttGkpBTXEv-C"
   },
   "outputs": [],
   "source": [
    "group_data.to_csv('drive/group_data.csv')"
   ]
  },
  {
   "cell_type": "markdown",
   "metadata": {
    "colab_type": "text",
    "id": "fEfPc1JjEv-O"
   },
   "source": [
    "**save group match data. because groupby is very slow.**"
   ]
  },
  {
   "cell_type": "code",
   "execution_count": 0,
   "metadata": {
    "colab": {},
    "colab_type": "code",
    "id": "Gp02abnIAwHs"
   },
   "outputs": [],
   "source": []
  },
  {
   "cell_type": "code",
   "execution_count": 29,
   "metadata": {
    "colab": {
     "base_uri": "https://localhost:8080/",
     "height": 119
    },
    "colab_type": "code",
    "id": "pmXc44IFBF9Y",
    "outputId": "b6fa43a5-0dde-499b-c2cb-0aee732e387a"
   },
   "outputs": [
    {
     "data": {
      "text/plain": [
       "array(['assists', 'boosts', 'damageDealt', 'DBNOs', 'headshotKills',\n",
       "       'heals', 'killPlace', 'killPoints', 'kills', 'killStreaks',\n",
       "       'longestKill', 'matchDuration', 'matchType', 'maxPlace',\n",
       "       'numGroups', 'rankPoints', 'revives', 'rideDistance', 'roadKills',\n",
       "       'swimDistance', 'teamKills', 'vehicleDestroys', 'walkDistance',\n",
       "       'weaponsAcquired', 'winPoints', 'winPlacePerc'], dtype=object)"
      ]
     },
     "execution_count": 29,
     "metadata": {
      "tags": []
     },
     "output_type": "execute_result"
    }
   ],
   "source": [
    "group_data.columns.values"
   ]
  },
  {
   "cell_type": "markdown",
   "metadata": {
    "colab_type": "text",
    "id": "SkJ6x-s1Ev_o"
   },
   "source": [
    "## Preparation for Machine Learning "
   ]
  },
  {
   "cell_type": "code",
   "execution_count": 0,
   "metadata": {
    "colab": {},
    "colab_type": "code",
    "id": "tGtK0Hc-Ev_p"
   },
   "outputs": [],
   "source": [
    "train = group_data[group_data['matchType'] == 'solo']"
   ]
  },
  {
   "cell_type": "code",
   "execution_count": 0,
   "metadata": {
    "colab": {},
    "colab_type": "code",
    "id": "Cmtb0v58Ev_s"
   },
   "outputs": [],
   "source": [
    "from sklearn.ensemble import RandomForestRegressor\n",
    "\n",
    "regr = RandomForestRegressor(max_depth=8, random_state=0, n_estimators=100)\n"
   ]
  },
  {
   "cell_type": "code",
   "execution_count": 0,
   "metadata": {
    "colab": {},
    "colab_type": "code",
    "id": "SF4gxinPCKyV"
   },
   "outputs": [],
   "source": [
    "from sklearn.metrics import mean_absolute_error\n",
    "from sklearn.model_selection import cross_val_predict"
   ]
  },
  {
   "cell_type": "code",
   "execution_count": 0,
   "metadata": {
    "colab": {},
    "colab_type": "code",
    "id": "glzlqPOvCzqY"
   },
   "outputs": [],
   "source": [
    "train.drop(['matchType'],1,inplace=True)"
   ]
  },
  {
   "cell_type": "code",
   "execution_count": 41,
   "metadata": {
    "colab": {
     "base_uri": "https://localhost:8080/",
     "height": 34
    },
    "colab_type": "code",
    "id": "sbPxoc7FB-RS",
    "outputId": "0efe1ad6-1407-4388-9e11-be1320535a33"
   },
   "outputs": [
    {
     "name": "stdout",
     "output_type": "stream",
     "text": [
      "使用交叉验证的误差为: 0.058255162646404644\n"
     ]
    }
   ],
   "source": [
    "prediction = cross_val_predict(regr, train.values[:, :-1], train.values[:, -1], cv=10)\n",
    "\n",
    "print(\"使用交叉验证的误差为:\",mean_absolute_error(train.values[:, -1], prediction))"
   ]
  },
  {
   "cell_type": "code",
   "execution_count": 0,
   "metadata": {
    "colab": {},
    "colab_type": "code",
    "id": "AeKbULQLCcnP"
   },
   "outputs": [],
   "source": []
  }
 ],
 "metadata": {
  "accelerator": "GPU",
  "colab": {
   "name": "filtering_1112.ipynb",
   "provenance": [],
   "toc_visible": true,
   "version": "0.3.2"
  },
  "kernelspec": {
   "display_name": "Python 3",
   "language": "python",
   "name": "python3"
  },
  "language_info": {
   "codemirror_mode": {
    "name": "ipython",
    "version": 3
   },
   "file_extension": ".py",
   "mimetype": "text/x-python",
   "name": "python",
   "nbconvert_exporter": "python",
   "pygments_lexer": "ipython3",
   "version": "3.6.5"
  }
 },
 "nbformat": 4,
 "nbformat_minor": 1
}
