{
 "cells": [
  {
   "cell_type": "code",
   "execution_count": 1,
   "metadata": {},
   "outputs": [],
   "source": [
    "import numpy as np\n",
    "import pandas as pd\n",
    "from matplotlib import pyplot as plt\n",
    "import seaborn as sns\n",
    "\n",
    "import os\n",
    "from utils import *\n",
    "from settings import station_locale, data_root, output_folder, report_folder, station_dist, station_angle"
   ]
  },
  {
   "cell_type": "code",
   "execution_count": 2,
   "metadata": {},
   "outputs": [],
   "source": [
    "from sklearn.neighbors import KNeighborsRegressor\n",
    "from sklearn.preprocessing import LabelEncoder"
   ]
  },
  {
   "cell_type": "code",
   "execution_count": 3,
   "metadata": {},
   "outputs": [],
   "source": [
    "data_folder = '../outputs/'\n",
    "report_folder = '../report_rc/'\n",
    "model_folder = '../models/'"
   ]
  },
  {
   "cell_type": "markdown",
   "metadata": {},
   "source": [
    "## load data"
   ]
  },
  {
   "cell_type": "code",
   "execution_count": 4,
   "metadata": {},
   "outputs": [],
   "source": [
    "df = pd.read_csv(os.path.join(data_folder, 'train_set.zip'))\n",
    "df.drop(labels=['Unnamed: 0'], axis=1, inplace=True)"
   ]
  },
  {
   "cell_type": "code",
   "execution_count": 5,
   "metadata": {},
   "outputs": [],
   "source": [
    "# df['station_id'].unique()"
   ]
  },
  {
   "cell_type": "code",
   "execution_count": 6,
   "metadata": {
    "scrolled": true
   },
   "outputs": [],
   "source": [
    "df = df.query('datetime_label>5000')"
   ]
  },
  {
   "cell_type": "code",
   "execution_count": 7,
   "metadata": {},
   "outputs": [
    {
     "data": {
      "text/plain": [
       "Index(['station_id', 'PM2.5', 'PM10', 'NO2', 'CO', 'O3', 'SO2', 'longitude',\n",
       "       'latitude', 'local_time', 'date', 'time', 'solar_term', 'time_label',\n",
       "       'NearTraffic', 'Others', 'SubUrban', 'Urban', 'datetime_label',\n",
       "       'temperature', 'pressure', 'humidity', 'wind_direction', 'wind_speed'],\n",
       "      dtype='object')"
      ]
     },
     "execution_count": 7,
     "metadata": {},
     "output_type": "execute_result"
    }
   ],
   "source": [
    "df.columns"
   ]
  },
  {
   "cell_type": "code",
   "execution_count": 8,
   "metadata": {
    "scrolled": true
   },
   "outputs": [
    {
     "name": "stdout",
     "output_type": "stream",
     "text": [
      "aotizhongxin_aq: 6551\n",
      "badaling_aq: 6551\n",
      "beibuxinqu_aq: 6551\n",
      "daxing_aq: 6551\n",
      "dingling_aq: 6551\n",
      "donggaocun_aq: 6551\n",
      "dongsi_aq: 6551\n",
      "dongsihuan_aq: 6551\n",
      "fangshan_aq: 6551\n",
      "fengtaihuayuan_aq: 6551\n",
      "guanyuan_aq: 6551\n",
      "gucheng_aq: 6551\n",
      "huairou_aq: 6551\n",
      "liulihe_aq: 6551\n",
      "mentougou_aq: 6551\n",
      "miyun_aq: 6551\n",
      "miyunshuiku_aq: 6551\n",
      "nansanhuan_aq: 6551\n",
      "nongzhanguan_aq: 6551\n",
      "pingchang_aq: 6551\n",
      "pinggu_aq: 6551\n",
      "qianmen_aq: 6551\n",
      "shunyi_aq: 6551\n",
      "tiantan_aq: 6551\n",
      "tongzhou_aq: 6551\n",
      "wanliu_aq: 6551\n",
      "wanshouxigong_aq: 6551\n",
      "xizhimenbei_aq: 6551\n",
      "yanqin_aq: 6551\n",
      "yizhuang_aq: 6551\n",
      "yongdingmennei_aq: 6551\n",
      "yongledian_aq: 6551\n",
      "yufa_aq: 6551\n",
      "yungang_aq: 6551\n",
      "zhiwuyuan_aq: 6551\n"
     ]
    }
   ],
   "source": [
    "for i in df['station_id'].unique():\n",
    "    qry = f'station_id==\"{i}\"'\n",
    "    print(f'{i}:', len(df.query(qry)))"
   ]
  },
  {
   "cell_type": "markdown",
   "metadata": {},
   "source": [
    "## Feature Engineering"
   ]
  },
  {
   "cell_type": "code",
   "execution_count": 9,
   "metadata": {},
   "outputs": [],
   "source": [
    "df['periodic_solar_term'] = df['date'].map(lambda x: get_solar_term(x, periodicity=True))\n",
    "df['periodic_time'] = df['time'].map(lambda x: get_periodic_time_label(x))"
   ]
  },
  {
   "cell_type": "code",
   "execution_count": 10,
   "metadata": {},
   "outputs": [
    {
     "data": {
      "text/plain": [
       "Index(['station_id', 'PM2.5', 'PM10', 'NO2', 'CO', 'O3', 'SO2', 'longitude',\n",
       "       'latitude', 'local_time', 'date', 'time', 'solar_term', 'time_label',\n",
       "       'NearTraffic', 'Others', 'SubUrban', 'Urban', 'datetime_label',\n",
       "       'temperature', 'pressure', 'humidity', 'wind_direction', 'wind_speed',\n",
       "       'periodic_solar_term', 'periodic_time'],\n",
       "      dtype='object')"
      ]
     },
     "execution_count": 10,
     "metadata": {},
     "output_type": "execute_result"
    }
   ],
   "source": [
    "df.columns"
   ]
  },
  {
   "cell_type": "code",
   "execution_count": 11,
   "metadata": {
    "scrolled": true
   },
   "outputs": [],
   "source": [
    "# temp = df.query(qry)[useful_cols]\n",
    "# temp"
   ]
  },
  {
   "cell_type": "markdown",
   "metadata": {},
   "source": [
    "#### build trainset for each station"
   ]
  },
  {
   "cell_type": "code",
   "execution_count": 11,
   "metadata": {},
   "outputs": [],
   "source": [
    "stations = df['station_id'].unique()"
   ]
  },
  {
   "cell_type": "code",
   "execution_count": 12,
   "metadata": {},
   "outputs": [],
   "source": [
    "# use aotizhongxin as example to do analisis\n",
    "## only use datetime_label > 5000 to avoid too much missing data noise"
   ]
  },
  {
   "cell_type": "code",
   "execution_count": 13,
   "metadata": {},
   "outputs": [],
   "source": [
    "input_cols = ['temperature', 'pressure', 'humidity',\n",
    "              'periodic_solar_term', 'periodic_time',\n",
    "              'NearTraffic', 'Others', 'SubUrban', 'Urban',\n",
    "              'wind_speed']\n",
    "output_cols = ['PM2.5', 'PM10', 'O3']\n",
    "useful_cols = ['temperature', 'pressure', 'humidity',\n",
    "               'wind_speed', 'wind_direction']"
   ]
  },
  {
   "cell_type": "code",
   "execution_count": 14,
   "metadata": {},
   "outputs": [],
   "source": [
    "def get_max_dist(station, stations):\n",
    "    stations = [i for i in stations if i != station]\n",
    "    station_pairs = [sorted([station, i]) for i in stations]\n",
    "    station_dists = [station_dist[f'{i[0]}-{i[1]}'] for i in station_pairs]\n",
    "    return max(station_dists)"
   ]
  },
  {
   "cell_type": "code",
   "execution_count": 15,
   "metadata": {},
   "outputs": [],
   "source": [
    "base_df = df.query('station_id==\"fangshan_aq\"')[input_cols]\n",
    "base_df = base_df.reset_index().drop('index', axis=1)     # index other_df will make column cannot be combined\n",
    "base_ouputs = df.query('station_id==\"aotizhongxin_aq\"')[output_cols]\n",
    "target_station = 'aotizhongxin_aq'\n",
    "\n",
    "max_dist = get_max_dist(target_station, stations)\n",
    "for station in stations:\n",
    "    if station == target_station:\n",
    "        continue\n",
    "    short_stt = station.split('_')[0]\n",
    "    station_pair = sorted([target_station, station])\n",
    "    dist = station_dist[f'{station_pair[0]}-{station_pair[1]}']\n",
    "    dist_rate = 1 - (dist/max_dist)\n",
    "    \n",
    "    qry = f'station_id==\"{station}\"'\n",
    "    other_df = df.query(qry)[useful_cols]\n",
    "    other_df = other_df.reset_index().drop('index', axis=1)\n",
    "    \n",
    "    base_df[f'{short_stt}_temperature'] = other_df['temperature'] * dist_rate\n",
    "    base_df[f'{short_stt}_pressure'] = other_df['pressure'] * dist_rate\n",
    "    base_df[f'{short_stt}_humidity'] = other_df['humidity'] * dist_rate\n",
    "    \n",
    "    wind_info = other_df[['wind_speed', 'wind_direction']].values.tolist()\n",
    "    wind_info = [cal_wind_projection(station, target_station, x[0], x[1])*dist_rate for x in wind_info]\n",
    "    base_df[f'{short_stt}_wind'] = np.array(wind_info) "
   ]
  },
  {
   "cell_type": "code",
   "execution_count": 18,
   "metadata": {},
   "outputs": [
    {
     "data": {
      "text/html": [
       "<div>\n",
       "<style scoped>\n",
       "    .dataframe tbody tr th:only-of-type {\n",
       "        vertical-align: middle;\n",
       "    }\n",
       "\n",
       "    .dataframe tbody tr th {\n",
       "        vertical-align: top;\n",
       "    }\n",
       "\n",
       "    .dataframe thead th {\n",
       "        text-align: right;\n",
       "    }\n",
       "</style>\n",
       "<table border=\"1\" class=\"dataframe\">\n",
       "  <thead>\n",
       "    <tr style=\"text-align: right;\">\n",
       "      <th></th>\n",
       "      <th>temperature</th>\n",
       "      <th>pressure</th>\n",
       "      <th>humidity</th>\n",
       "      <th>periodic_solar_term</th>\n",
       "      <th>periodic_time</th>\n",
       "      <th>NearTraffic</th>\n",
       "      <th>Others</th>\n",
       "      <th>SubUrban</th>\n",
       "      <th>Urban</th>\n",
       "      <th>wind_speed</th>\n",
       "      <th>...</th>\n",
       "      <th>yufa_humidity</th>\n",
       "      <th>yufa_wind</th>\n",
       "      <th>yungang_temperature</th>\n",
       "      <th>yungang_pressure</th>\n",
       "      <th>yungang_humidity</th>\n",
       "      <th>yungang_wind</th>\n",
       "      <th>zhiwuyuan_temperature</th>\n",
       "      <th>zhiwuyuan_pressure</th>\n",
       "      <th>zhiwuyuan_humidity</th>\n",
       "      <th>zhiwuyuan_wind</th>\n",
       "    </tr>\n",
       "  </thead>\n",
       "  <tbody>\n",
       "    <tr>\n",
       "      <th>0</th>\n",
       "      <td>29.280131</td>\n",
       "      <td>1005.258541</td>\n",
       "      <td>37.524672</td>\n",
       "      <td>9.184402</td>\n",
       "      <td>22.173109</td>\n",
       "      <td>0</td>\n",
       "      <td>0</td>\n",
       "      <td>0</td>\n",
       "      <td>1</td>\n",
       "      <td>1.636710</td>\n",
       "      <td>...</td>\n",
       "      <td>14.925827</td>\n",
       "      <td>0.0</td>\n",
       "      <td>17.632926</td>\n",
       "      <td>615.098877</td>\n",
       "      <td>28.465721</td>\n",
       "      <td>0.0</td>\n",
       "      <td>22.073195</td>\n",
       "      <td>767.747710</td>\n",
       "      <td>30.933837</td>\n",
       "      <td>0.0</td>\n",
       "    </tr>\n",
       "    <tr>\n",
       "      <th>1</th>\n",
       "      <td>28.710492</td>\n",
       "      <td>1005.201344</td>\n",
       "      <td>39.506169</td>\n",
       "      <td>9.184402</td>\n",
       "      <td>20.784610</td>\n",
       "      <td>0</td>\n",
       "      <td>0</td>\n",
       "      <td>0</td>\n",
       "      <td>1</td>\n",
       "      <td>1.601535</td>\n",
       "      <td>...</td>\n",
       "      <td>16.033550</td>\n",
       "      <td>0.0</td>\n",
       "      <td>17.167943</td>\n",
       "      <td>615.070580</td>\n",
       "      <td>30.231355</td>\n",
       "      <td>0.0</td>\n",
       "      <td>21.535720</td>\n",
       "      <td>767.721074</td>\n",
       "      <td>32.714683</td>\n",
       "      <td>0.0</td>\n",
       "    </tr>\n",
       "    <tr>\n",
       "      <th>2</th>\n",
       "      <td>28.120462</td>\n",
       "      <td>1005.214075</td>\n",
       "      <td>41.493059</td>\n",
       "      <td>9.184402</td>\n",
       "      <td>19.040480</td>\n",
       "      <td>0</td>\n",
       "      <td>0</td>\n",
       "      <td>0</td>\n",
       "      <td>1</td>\n",
       "      <td>1.506208</td>\n",
       "      <td>...</td>\n",
       "      <td>17.141290</td>\n",
       "      <td>0.0</td>\n",
       "      <td>16.674565</td>\n",
       "      <td>615.103635</td>\n",
       "      <td>33.112322</td>\n",
       "      <td>0.0</td>\n",
       "      <td>21.015652</td>\n",
       "      <td>767.726620</td>\n",
       "      <td>34.792756</td>\n",
       "      <td>0.0</td>\n",
       "    </tr>\n",
       "    <tr>\n",
       "      <th>3</th>\n",
       "      <td>27.463233</td>\n",
       "      <td>1005.213925</td>\n",
       "      <td>45.211268</td>\n",
       "      <td>9.184402</td>\n",
       "      <td>16.970563</td>\n",
       "      <td>0</td>\n",
       "      <td>0</td>\n",
       "      <td>0</td>\n",
       "      <td>1</td>\n",
       "      <td>1.295043</td>\n",
       "      <td>...</td>\n",
       "      <td>18.247698</td>\n",
       "      <td>0.0</td>\n",
       "      <td>15.913150</td>\n",
       "      <td>615.134525</td>\n",
       "      <td>37.303507</td>\n",
       "      <td>0.0</td>\n",
       "      <td>20.364053</td>\n",
       "      <td>767.721046</td>\n",
       "      <td>38.246912</td>\n",
       "      <td>0.0</td>\n",
       "    </tr>\n",
       "    <tr>\n",
       "      <th>4</th>\n",
       "      <td>26.934848</td>\n",
       "      <td>1005.188283</td>\n",
       "      <td>46.873675</td>\n",
       "      <td>9.184402</td>\n",
       "      <td>14.610274</td>\n",
       "      <td>0</td>\n",
       "      <td>0</td>\n",
       "      <td>0</td>\n",
       "      <td>1</td>\n",
       "      <td>1.041345</td>\n",
       "      <td>...</td>\n",
       "      <td>18.009994</td>\n",
       "      <td>0.0</td>\n",
       "      <td>15.525489</td>\n",
       "      <td>615.164785</td>\n",
       "      <td>38.619800</td>\n",
       "      <td>0.0</td>\n",
       "      <td>19.947218</td>\n",
       "      <td>767.691851</td>\n",
       "      <td>39.763670</td>\n",
       "      <td>0.0</td>\n",
       "    </tr>\n",
       "  </tbody>\n",
       "</table>\n",
       "<p>5 rows × 146 columns</p>\n",
       "</div>"
      ],
      "text/plain": [
       "   temperature     pressure   humidity  periodic_solar_term  periodic_time  \\\n",
       "0    29.280131  1005.258541  37.524672             9.184402      22.173109   \n",
       "1    28.710492  1005.201344  39.506169             9.184402      20.784610   \n",
       "2    28.120462  1005.214075  41.493059             9.184402      19.040480   \n",
       "3    27.463233  1005.213925  45.211268             9.184402      16.970563   \n",
       "4    26.934848  1005.188283  46.873675             9.184402      14.610274   \n",
       "\n",
       "   NearTraffic  Others  SubUrban  Urban  wind_speed       ...        \\\n",
       "0            0       0         0      1    1.636710       ...         \n",
       "1            0       0         0      1    1.601535       ...         \n",
       "2            0       0         0      1    1.506208       ...         \n",
       "3            0       0         0      1    1.295043       ...         \n",
       "4            0       0         0      1    1.041345       ...         \n",
       "\n",
       "   yufa_humidity  yufa_wind  yungang_temperature  yungang_pressure  \\\n",
       "0      14.925827        0.0            17.632926        615.098877   \n",
       "1      16.033550        0.0            17.167943        615.070580   \n",
       "2      17.141290        0.0            16.674565        615.103635   \n",
       "3      18.247698        0.0            15.913150        615.134525   \n",
       "4      18.009994        0.0            15.525489        615.164785   \n",
       "\n",
       "   yungang_humidity  yungang_wind  zhiwuyuan_temperature  zhiwuyuan_pressure  \\\n",
       "0         28.465721           0.0              22.073195          767.747710   \n",
       "1         30.231355           0.0              21.535720          767.721074   \n",
       "2         33.112322           0.0              21.015652          767.726620   \n",
       "3         37.303507           0.0              20.364053          767.721046   \n",
       "4         38.619800           0.0              19.947218          767.691851   \n",
       "\n",
       "   zhiwuyuan_humidity  zhiwuyuan_wind  \n",
       "0           30.933837             0.0  \n",
       "1           32.714683             0.0  \n",
       "2           34.792756             0.0  \n",
       "3           38.246912             0.0  \n",
       "4           39.763670             0.0  \n",
       "\n",
       "[5 rows x 146 columns]"
      ]
     },
     "execution_count": 18,
     "metadata": {},
     "output_type": "execute_result"
    }
   ],
   "source": [
    "base_df.head()"
   ]
  },
  {
   "cell_type": "code",
   "execution_count": null,
   "metadata": {},
   "outputs": [],
   "source": []
  },
  {
   "cell_type": "code",
   "execution_count": null,
   "metadata": {},
   "outputs": [],
   "source": []
  },
  {
   "cell_type": "code",
   "execution_count": 16,
   "metadata": {
    "scrolled": true
   },
   "outputs": [
    {
     "data": {
      "text/html": [
       "<div>\n",
       "<style scoped>\n",
       "    .dataframe tbody tr th:only-of-type {\n",
       "        vertical-align: middle;\n",
       "    }\n",
       "\n",
       "    .dataframe tbody tr th {\n",
       "        vertical-align: top;\n",
       "    }\n",
       "\n",
       "    .dataframe thead th {\n",
       "        text-align: right;\n",
       "    }\n",
       "</style>\n",
       "<table border=\"1\" class=\"dataframe\">\n",
       "  <thead>\n",
       "    <tr style=\"text-align: right;\">\n",
       "      <th></th>\n",
       "      <th>PM2.5</th>\n",
       "      <th>PM10</th>\n",
       "      <th>O3</th>\n",
       "    </tr>\n",
       "  </thead>\n",
       "  <tbody>\n",
       "  </tbody>\n",
       "</table>\n",
       "</div>"
      ],
      "text/plain": [
       "Empty DataFrame\n",
       "Columns: [PM2.5, PM10, O3]\n",
       "Index: []"
      ]
     },
     "execution_count": 16,
     "metadata": {},
     "output_type": "execute_result"
    }
   ],
   "source": [
    "base_ouputs[base_ouputs['PM2.5']<0]"
   ]
  },
  {
   "cell_type": "code",
   "execution_count": 17,
   "metadata": {},
   "outputs": [
    {
     "name": "stderr",
     "output_type": "stream",
     "text": [
      "/Users/leonling/workspace/pyenv/py36/lib/python3.6/site-packages/pandas/core/frame.py:3140: SettingWithCopyWarning: \n",
      "A value is trying to be set on a copy of a slice from a DataFrame.\n",
      "Try using .loc[row_indexer,col_indexer] = value instead\n",
      "\n",
      "See the caveats in the documentation: http://pandas.pydata.org/pandas-docs/stable/indexing.html#indexing-view-versus-copy\n",
      "  self[k1] = value[k2]\n"
     ]
    }
   ],
   "source": [
    "temp = base_df[['temperature','pressure','humidity','periodic_solar_term','periodic_time','wind_speed']]\n",
    "temp[['PM2.5', 'PM10', 'O3']] = base_ouputs[['PM2.5', 'PM10', 'O3']]\n"
   ]
  },
  {
   "cell_type": "code",
   "execution_count": 18,
   "metadata": {},
   "outputs": [],
   "source": [
    "temp = temp.dropna()"
   ]
  },
  {
   "cell_type": "code",
   "execution_count": 19,
   "metadata": {},
   "outputs": [
    {
     "data": {
      "text/plain": [
       "<matplotlib.axes._subplots.AxesSubplot at 0x1096cf748>"
      ]
     },
     "execution_count": 19,
     "metadata": {},
     "output_type": "execute_result"
    },
    {
     "data": {
      "image/png": "[encoded data removed]",
      "text/plain": [
       "<Figure size 432x288 with 2 Axes>"
      ]
     },
     "metadata": {
      "needs_background": "light"
     },
     "output_type": "display_data"
    }
   ],
   "source": [
    "sns.heatmap((temp.corr()).abs()[['PM2.5', 'PM10', 'O3']])"
   ]
  },
  {
   "cell_type": "markdown",
   "metadata": {},
   "source": [
    "## Model Selection"
   ]
  },
  {
   "cell_type": "code",
   "execution_count": 20,
   "metadata": {},
   "outputs": [
    {
     "name": "stderr",
     "output_type": "stream",
     "text": [
      "Using TensorFlow backend.\n"
     ]
    }
   ],
   "source": [
    "from sklearn.linear_model import Lasso, Ridge\n",
    "\n",
    "from sklearn.externals import joblib\n",
    "from sklearn.model_selection import train_test_split \n",
    "\n",
    "from xgboost import XGBRegressor\n",
    "\n",
    "from keras.models import Sequential\n",
    "from keras.layers.recurrent import LSTM\n",
    "from keras.layers.core import Dense, Activation, Dropout, Flatten\n"
   ]
  },
  {
   "cell_type": "code",
   "execution_count": 21,
   "metadata": {},
   "outputs": [],
   "source": [
    "from evaluation import smape"
   ]
  },
  {
   "cell_type": "code",
   "execution_count": 22,
   "metadata": {},
   "outputs": [],
   "source": [
    "def split_train_test(x, y, test_rate=0.2):\n",
    "    size = len(x)\n",
    "    train_rate = 1 - test_rate\n",
    "    train_x = x.iloc[:int(size*train_rate),:]\n",
    "    test_x = x.iloc[int(size*train_rate):,:]\n",
    "    train_y = y.iloc[:int(size*train_rate),:]\n",
    "    test_y = y.iloc[int(size*train_rate):,:]\n",
    "    return train_x, train_y, test_x, test_y\n",
    "\n",
    "def create_dataset(x, y, lookback=1):\n",
    "    pass"
   ]
  },
  {
   "cell_type": "code",
   "execution_count": 23,
   "metadata": {},
   "outputs": [],
   "source": [
    "train_x, train_y, test_x, test_y = split_train_test(base_df, base_ouputs, test_rate=0.3)"
   ]
  },
  {
   "cell_type": "markdown",
   "metadata": {},
   "source": [
    "### Linear Regression"
   ]
  },
  {
   "cell_type": "code",
   "execution_count": 24,
   "metadata": {},
   "outputs": [],
   "source": [
    "rgr_pm25 = Ridge(alpha=0.01).fit(train_x, train_y[['PM2.5']])\n",
    "rgr_pm10 = Ridge(alpha=0.01).fit(train_x, train_y[['PM10']])\n",
    "rgr_o3 = Ridge(alpha=0.01).fit(train_x, train_y[['O3']])"
   ]
  },
  {
   "cell_type": "code",
   "execution_count": 25,
   "metadata": {},
   "outputs": [
    {
     "name": "stdout",
     "output_type": "stream",
     "text": [
      "O3: 0.8752993806110937\n",
      "PM10: 0.9665258843114611\n",
      "PM25: 0.437136295016031\n"
     ]
    }
   ],
   "source": [
    "prediction = test_y.copy()\n",
    "\n",
    "prediction = prediction.drop(['PM2.5', 'PM10', 'O3'], axis=1)\n",
    "prediction['PM25'] = rgr_pm25.predict(test_x)\n",
    "prediction['PM10'] = rgr_pm10.predict(test_x)\n",
    "prediction['O3'] = rgr_o3.predict(test_x)\n",
    "\n",
    "print('O3:', smape(test_y['O3'], prediction['O3']))\n",
    "print('PM10:', smape(test_y['PM10'], prediction['PM10']))\n",
    "print('PM25:', smape(test_y['PM2.5'], prediction['PM25']))"
   ]
  },
  {
   "cell_type": "code",
   "execution_count": 26,
   "metadata": {
    "scrolled": true
   },
   "outputs": [
    {
     "name": "stderr",
     "output_type": "stream",
     "text": [
      "/Users/leonling/workspace/pyenv/py36/lib/python3.6/site-packages/sklearn/linear_model/coordinate_descent.py:492: ConvergenceWarning: Objective did not converge. You might want to increase the number of iterations. Fitting data with very small alpha may cause precision problems.\n",
      "  ConvergenceWarning)\n",
      "/Users/leonling/workspace/pyenv/py36/lib/python3.6/site-packages/sklearn/linear_model/coordinate_descent.py:492: ConvergenceWarning: Objective did not converge. You might want to increase the number of iterations. Fitting data with very small alpha may cause precision problems.\n",
      "  ConvergenceWarning)\n",
      "/Users/leonling/workspace/pyenv/py36/lib/python3.6/site-packages/sklearn/linear_model/coordinate_descent.py:492: ConvergenceWarning: Objective did not converge. You might want to increase the number of iterations. Fitting data with very small alpha may cause precision problems.\n",
      "  ConvergenceWarning)\n"
     ]
    }
   ],
   "source": [
    "lss_pm25 = Lasso(alpha=0.01).fit(train_x, train_y[['PM2.5']])\n",
    "lss_pm10 = Lasso(alpha=0.01).fit(train_x, train_y[['PM10']])\n",
    "lss_o3 = Lasso(alpha=0.01).fit(train_x, train_y[['O3']])"
   ]
  },
  {
   "cell_type": "code",
   "execution_count": 27,
   "metadata": {},
   "outputs": [
    {
     "name": "stdout",
     "output_type": "stream",
     "text": [
      "O3: 2.2497218613551646\n",
      "PM10: 1.0833408190793716\n",
      "PM25: -2.644615099173851\n"
     ]
    }
   ],
   "source": [
    "prediction = test_y.copy()\n",
    "\n",
    "prediction = prediction.drop(['PM2.5', 'PM10', 'O3'], axis=1)\n",
    "prediction['PM25'] = lss_pm25.predict(test_x)\n",
    "prediction['PM10'] = lss_pm10.predict(test_x)\n",
    "prediction['O3'] = lss_o3.predict(test_x)\n",
    "\n",
    "print('O3:', smape(test_y['O3'], prediction['O3']))\n",
    "print('PM10:', smape(test_y['PM10'], prediction['PM10']))\n",
    "print('PM25:', smape(test_y['PM2.5'], prediction['PM25']))"
   ]
  },
  {
   "cell_type": "markdown",
   "metadata": {},
   "source": [
    "### XGBoost"
   ]
  },
  {
   "cell_type": "code",
   "execution_count": 21,
   "metadata": {},
   "outputs": [],
   "source": [
    "%timeit\n",
    "xgb_pm25_1 = XGBRegressor(booster='gblinear', n_estimators=1000, learning_rate=0.1, max_depth=5).fit(train_x, train_y[['PM2.5']])\n",
    "xgb_pm25_2 = XGBRegressor(booster='gblinear', n_estimators=1500, learning_rate=0.1, max_depth=3).fit(train_x, train_y[['PM2.5']])\n",
    "xgb_pm25_3 = XGBRegressor(booster='gblinear', n_estimators=2000, learning_rate=0.1, max_depth=1).fit(train_x, train_y[['PM2.5']])\n",
    "xgb_pm10_1 = XGBRegressor(booster='gblinear', n_estimators=1000, learning_rate=0.1, max_depth=5).fit(train_x, train_y[['PM10']])\n",
    "xgb_pm10_2 = XGBRegressor(booster='gblinear', n_estimators=1500, learning_rate=0.1, max_depth=3).fit(train_x, train_y[['PM10']])\n",
    "xgb_pm10_3 = XGBRegressor(booster='gblinear', n_estimators=2000, learning_rate=0.1, max_depth=1).fit(train_x, train_y[['PM10']])\n",
    "xgb_o3_1 = XGBRegressor(booster='gblinear', n_estimators=1000, learning_rate=0.1, max_depth=5).fit(train_x, train_y[['O3']])\n",
    "xgb_o3_2 = XGBRegressor(booster='gblinear', n_estimators=1500, learning_rate=0.1, max_depth=3).fit(train_x, train_y[['O3']])\n",
    "xgb_o3_3 = XGBRegressor(booster='gblinear', n_estimators=2000, learning_rate=0.1, max_depth=1).fit(train_x, train_y[['O3']])"
   ]
  },
  {
   "cell_type": "code",
   "execution_count": 22,
   "metadata": {},
   "outputs": [
    {
     "name": "stdout",
     "output_type": "stream",
     "text": [
      "O3: 0.6894773829437219\n",
      "PM10: 1.042169125529353\n",
      "PM25: 0.1904784917949952\n"
     ]
    }
   ],
   "source": [
    "prediction = test_y.copy()\n",
    "\n",
    "prediction = prediction.drop(['PM2.5', 'PM10', 'O3'], axis=1)\n",
    "prediction['PM25'] = (xgb_pm25_1.predict(test_x)+xgb_pm25_2.predict(test_x)+xgb_pm25_3.predict(test_x))/3\n",
    "prediction['PM10'] = (xgb_pm10_1.predict(test_x)+xgb_pm10_2.predict(test_x)+xgb_pm10_3.predict(test_x))/3\n",
    "prediction['O3'] = (xgb_o3_1.predict(test_x)+xgb_o3_2.predict(test_x)+xgb_o3_3.predict(test_x))/3\n",
    "\n",
    "print('O3:', smape(test_y['O3'], prediction['O3']))\n",
    "print('PM10:', smape(test_y['PM10'], prediction['PM10']))\n",
    "print('PM25:', smape(test_y['PM2.5'], prediction['PM25']))"
   ]
  },
  {
   "cell_type": "code",
   "execution_count": 26,
   "metadata": {},
   "outputs": [
    {
     "name": "stdout",
     "output_type": "stream",
     "text": [
      "PM25: 0.3941247257058345\n",
      "PM25: 1.1100672300983399\n",
      "PM25: 0.3180712077046402\n",
      "PM25: 0.32924272625073797\n",
      "PM10: 0.6482869395348424\n",
      "PM10: 0.8127891851704792\n",
      "PM10: 0.657716945722753\n",
      "PM10: 1.8809923808759015\n",
      "O3: 0.6797168359394902\n",
      "O3: 0.6954556226819322\n",
      "O3: 0.6716897308476266\n"
     ]
    }
   ],
   "source": [
    "prediction['PM25'] = xgb_pm25_1.predict(test_x)\n",
    "print('PM25:', smape(test_y['PM2.5'], prediction['PM25']))\n",
    "prediction['PM25'] = xgb_pm25_2.predict(test_x)\n",
    "print('PM25:', smape(test_y['PM2.5'], prediction['PM25']))\n",
    "prediction['PM25'] = xgb_pm25_3.predict(test_x)\n",
    "print('PM25:', smape(test_y['PM2.5'], prediction['PM25']))\n",
    "prediction['PM25'] = (xgb_pm25_3.predict(test_x)+xgb_pm25_2.predict(test_x))/2\n",
    "print('PM25:', smape(test_y['PM2.5'], prediction['PM25']))\n",
    "\n",
    "prediction['PM10'] = xgb_pm10_1.predict(test_x)\n",
    "print('PM10:', smape(test_y['PM10'], prediction['PM10']))\n",
    "prediction['PM10'] = xgb_pm10_2.predict(test_x)\n",
    "print('PM10:', smape(test_y['PM10'], prediction['PM10']))\n",
    "prediction['PM10'] = xgb_pm10_3.predict(test_x)\n",
    "print('PM10:', smape(test_y['PM10'], prediction['PM10']))\n",
    "prediction['PM10'] = (xgb_pm10_1.predict(test_x)+xgb_pm10_3.predict(test_x))/2\n",
    "print('PM10:', smape(test_y['PM10'], prediction['PM10']))\n",
    "\n",
    "prediction['O3'] = xgb_o3_1.predict(test_x)\n",
    "print('O3:', smape(test_y['O3'], prediction['O3']))\n",
    "prediction['O3'] = xgb_o3_2.predict(test_x)\n",
    "print('O3:', smape(test_y['O3'], prediction['O3']))\n",
    "prediction['O3'] = xgb_o3_3.predict(test_x)\n",
    "print('O3:', smape(test_y['O3'], prediction['O3']))"
   ]
  },
  {
   "cell_type": "code",
   "execution_count": 28,
   "metadata": {},
   "outputs": [
    {
     "name": "stdout",
     "output_type": "stream",
     "text": [
      "O3: 0.6588684737970282\n"
     ]
    }
   ],
   "source": [
    "prediction['O3'] = (xgb_o3_3.predict(test_x)+xgb_o3_2.predict(test_x))/2\n",
    "print('O3:', smape(test_y['O3'], prediction['O3']))"
   ]
  },
  {
   "cell_type": "markdown",
   "metadata": {},
   "source": [
    "### LSTM"
   ]
  },
  {
   "cell_type": "code",
   "execution_count": 60,
   "metadata": {},
   "outputs": [],
   "source": [
    "def build_model(input_dimensions):\n",
    "    loss_func = 'mse'\n",
    "    optimiser_func = 'rmsprop' # rmsprop\n",
    "    activation_func = 'selu'  # linear\n",
    "    \n",
    "    rnn_model = Sequential()\n",
    "\n",
    "    rnn_model.add(LSTM(\n",
    "                input_dim=input_dimensions,\n",
    "                output_dim=64,\n",
    "                return_sequences=True, \n",
    "                activation=activation_func))\n",
    "    rnn_model.add(Dropout(0.2))\n",
    "\n",
    "    rnn_model.add(LSTM(128, return_sequences=False, activation=activation_func))\n",
    "    rnn_model.add(Dropout(0.2))\n",
    "\n",
    "    rnn_model.add(Dense(output_dim=3))\n",
    "    rnn_model.add(Activation(activation_func))\n",
    " \n",
    "    rnn_model.compile(loss=loss_func, optimizer=optimiser_func)\n",
    "    return rnn_model\n",
    "\n",
    "def train_model(model_name, train_x, train_y, test_x, test_y, epoches=100, batch_size=4):\n",
    "    \n",
    "    model = build_model(train_x.shape[-1])\n",
    "    history = model.fit(train_x, train_y, epochs=epoches, batch_size=batch_size, validation_data=(test_x, test_y), verbose=2, shuffle=False)\n",
    "\n",
    "    model.save(os.path.join(model_folder, f'./{model_name}.h5'))\n",
    "    return model, history"
   ]
  },
  {
   "cell_type": "code",
   "execution_count": null,
   "metadata": {},
   "outputs": [],
   "source": []
  },
  {
   "cell_type": "code",
   "execution_count": 61,
   "metadata": {},
   "outputs": [],
   "source": [
    "x_train = train_x.copy().values\n",
    "x_test = test_x.copy().values\n",
    "x_train = np.reshape(x_train, (x_train.shape[0], 1, x_train.shape[1]))\n",
    "x_test = np.reshape(x_test, (x_test.shape[0], 1, x_test.shape[1]))"
   ]
  },
  {
   "cell_type": "code",
   "execution_count": 65,
   "metadata": {
    "scrolled": true
   },
   "outputs": [
    {
     "name": "stderr",
     "output_type": "stream",
     "text": [
      "/Users/leonling/workspace/pyenv/py36/lib/python3.6/site-packages/ipykernel_launcher.py:12: UserWarning: The `input_dim` and `input_length` arguments in recurrent layers are deprecated. Use `input_shape` instead.\n",
      "  if sys.path[0] == '':\n",
      "/Users/leonling/workspace/pyenv/py36/lib/python3.6/site-packages/ipykernel_launcher.py:12: UserWarning: Update your `LSTM` call to the Keras 2 API: `LSTM(return_sequences=True, activation=\"selu\", input_shape=(None, 286..., units=64)`\n",
      "  if sys.path[0] == '':\n",
      "/Users/leonling/workspace/pyenv/py36/lib/python3.6/site-packages/ipykernel_launcher.py:18: UserWarning: Update your `Dense` call to the Keras 2 API: `Dense(units=3)`\n"
     ]
    },
    {
     "name": "stdout",
     "output_type": "stream",
     "text": [
      "Train on 4585 samples, validate on 1966 samples\n",
      "Epoch 1/100\n",
      " - 3s - loss: 3382.7195 - val_loss: 10543.3620\n",
      "Epoch 2/100\n",
      " - 1s - loss: 3323.4299 - val_loss: 9617.1655\n",
      "Epoch 3/100\n",
      " - 1s - loss: 5957.3985 - val_loss: 8204.3170\n",
      "Epoch 4/100\n",
      " - 1s - loss: 2639.6792 - val_loss: 7643.1558\n",
      "Epoch 5/100\n",
      " - 1s - loss: 6501.7278 - val_loss: 8109.4875\n",
      "Epoch 6/100\n",
      " - 1s - loss: 2194.3505 - val_loss: 7105.2460\n",
      "Epoch 7/100\n",
      " - 1s - loss: 9154.2107 - val_loss: 7585.8650\n",
      "Epoch 8/100\n",
      " - 2s - loss: 14671.6641 - val_loss: 7382.3178\n",
      "Epoch 9/100\n",
      " - 2s - loss: 1906.1134 - val_loss: 7588.9988\n",
      "Epoch 10/100\n",
      " - 1s - loss: 1464.0851 - val_loss: 7873.7958\n",
      "Epoch 11/100\n",
      " - 2s - loss: 1454.9160 - val_loss: 7864.7826\n",
      "Epoch 12/100\n",
      " - 1s - loss: 1650.1901 - val_loss: 7382.1240\n",
      "Epoch 13/100\n",
      " - 1s - loss: 1477.8052 - val_loss: 7393.6348\n",
      "Epoch 14/100\n",
      " - 1s - loss: 2970.3018 - val_loss: 7419.3884\n",
      "Epoch 15/100\n",
      " - 1s - loss: 2135.4509 - val_loss: 7267.7099\n",
      "Epoch 16/100\n",
      " - 1s - loss: 2529.1741 - val_loss: 7483.9767\n",
      "Epoch 17/100\n",
      " - 1s - loss: 2921.8159 - val_loss: 7295.4803\n",
      "Epoch 18/100\n",
      " - 1s - loss: 1639.7798 - val_loss: 7204.3078\n",
      "Epoch 19/100\n",
      " - 1s - loss: 2599.6051 - val_loss: 7183.5254\n",
      "Epoch 20/100\n",
      " - 1s - loss: 2593.8058 - val_loss: 7352.7816\n",
      "Epoch 21/100\n",
      " - 2s - loss: 9550.9380 - val_loss: 8412.1983\n",
      "Epoch 22/100\n",
      " - 2s - loss: 28288.9429 - val_loss: 7254.8406\n",
      "Epoch 23/100\n",
      " - 2s - loss: 1167.9100 - val_loss: 8873.1916\n",
      "Epoch 24/100\n",
      " - 2s - loss: 1106.0757 - val_loss: 8540.8334\n",
      "Epoch 25/100\n",
      " - 1s - loss: 2386.6638 - val_loss: 8260.6913\n",
      "Epoch 26/100\n",
      " - 2s - loss: 8817.3624 - val_loss: 9271.1603\n",
      "Epoch 27/100\n",
      " - 2s - loss: 1113.3484 - val_loss: 9611.9133\n",
      "Epoch 28/100\n",
      " - 2s - loss: 2484.7318 - val_loss: 10109.9897\n",
      "Epoch 29/100\n",
      " - 2s - loss: 1504.2871 - val_loss: 10935.5581\n",
      "Epoch 30/100\n",
      " - 2s - loss: 28917.0122 - val_loss: 9660.5745\n",
      "Epoch 31/100\n",
      " - 2s - loss: 1088.3338 - val_loss: 18479.9107\n",
      "Epoch 32/100\n",
      " - 2s - loss: 1130.1797 - val_loss: 14675.5319\n",
      "Epoch 33/100\n",
      " - 2s - loss: 2437.6854 - val_loss: 14868.1265\n",
      "Epoch 34/100\n",
      " - 2s - loss: 129159.4644 - val_loss: 16487.8559\n",
      "Epoch 35/100\n",
      " - 2s - loss: 3049.5397 - val_loss: 12204.3901\n",
      "Epoch 36/100\n",
      " - 2s - loss: 1591.6736 - val_loss: 16635.4513\n",
      "Epoch 37/100\n",
      " - 1s - loss: 4853.2458 - val_loss: 17883.7936\n",
      "Epoch 38/100\n",
      " - 1s - loss: 3363.8219 - val_loss: 27193.4966\n",
      "Epoch 39/100\n",
      " - 1s - loss: 1113.2385 - val_loss: 11909.4644\n",
      "Epoch 40/100\n",
      " - 1s - loss: 1197.4055 - val_loss: 25066.7828\n",
      "Epoch 41/100\n",
      " - 1s - loss: 2112.3923 - val_loss: 9898.4270\n",
      "Epoch 42/100\n",
      " - 1s - loss: 2742.4019 - val_loss: 11438.9538\n",
      "Epoch 43/100\n",
      " - 1s - loss: 34556.5207 - val_loss: 10258.6823\n",
      "Epoch 44/100\n",
      " - 2s - loss: 1089.6120 - val_loss: 9400.1831\n",
      "Epoch 45/100\n",
      " - 2s - loss: 10462.2831 - val_loss: 15247.8310\n",
      "Epoch 46/100\n",
      " - 1s - loss: 1061.0958 - val_loss: 9420.5685\n",
      "Epoch 47/100\n",
      " - 1s - loss: 1064.0630 - val_loss: 8725.8479\n",
      "Epoch 48/100\n",
      " - 1s - loss: 53990.0088 - val_loss: 14222.1116\n",
      "Epoch 49/100\n",
      " - 1s - loss: 64247.8498 - val_loss: 7696.6756\n",
      "Epoch 50/100\n",
      " - 1s - loss: 30698.4286 - val_loss: 8152.4780\n",
      "Epoch 51/100\n",
      " - 1s - loss: 1092.0013 - val_loss: 12498.8766\n",
      "Epoch 52/100\n",
      " - 2s - loss: 1073.2291 - val_loss: 8352.6165\n",
      "Epoch 53/100\n",
      " - 2s - loss: 20473.5742 - val_loss: 8337.8796\n",
      "Epoch 54/100\n",
      " - 2s - loss: 1112.5905 - val_loss: 8405.4172\n",
      "Epoch 55/100\n",
      " - 2s - loss: 2412.5926 - val_loss: 7670.1834\n",
      "Epoch 56/100\n",
      " - 2s - loss: 77662.0643 - val_loss: 7691.5365\n",
      "Epoch 57/100\n",
      " - 2s - loss: 5649.2631 - val_loss: 7903.6472\n",
      "Epoch 58/100\n",
      " - 2s - loss: 1093.6079 - val_loss: 7573.9521\n",
      "Epoch 59/100\n",
      " - 2s - loss: 5462.6478 - val_loss: 7334.0547\n",
      "Epoch 60/100\n",
      " - 2s - loss: 1095.7782 - val_loss: 8266.5746\n",
      "Epoch 61/100\n",
      " - 2s - loss: 1085.9635 - val_loss: 11778.5629\n",
      "Epoch 62/100\n",
      " - 2s - loss: 1257.1973 - val_loss: 9164.4883\n",
      "Epoch 63/100\n",
      " - 2s - loss: 36326.4836 - val_loss: 9168.0922\n",
      "Epoch 64/100\n",
      " - 2s - loss: 1139.1156 - val_loss: 9862.2414\n",
      "Epoch 65/100\n",
      " - 1s - loss: 1194.0950 - val_loss: 7316.0806\n",
      "Epoch 66/100\n",
      " - 2s - loss: 1225.0071 - val_loss: 7875.4822\n",
      "Epoch 67/100\n",
      " - 2s - loss: 1128.7632 - val_loss: 7900.2739\n",
      "Epoch 68/100\n",
      " - 2s - loss: 1181.1102 - val_loss: 8083.1575\n",
      "Epoch 69/100\n",
      " - 2s - loss: 1210.0205 - val_loss: 8148.3867\n",
      "Epoch 70/100\n",
      " - 2s - loss: 1153.8549 - val_loss: 8142.2788\n",
      "Epoch 71/100\n",
      " - 1s - loss: 2309.2840 - val_loss: 7267.1392\n",
      "Epoch 72/100\n",
      " - 1s - loss: 7409.4623 - val_loss: 7813.1562\n",
      "Epoch 73/100\n",
      " - 1s - loss: 1133.1482 - val_loss: 8223.4005\n",
      "Epoch 74/100\n",
      " - 1s - loss: 28500.7957 - val_loss: 9474.6628\n",
      "Epoch 75/100\n",
      " - 1s - loss: 1184.1738 - val_loss: 9462.2736\n",
      "Epoch 76/100\n",
      " - 1s - loss: 4255.0020 - val_loss: 10470.3942\n",
      "Epoch 77/100\n",
      " - 1s - loss: 1158.2880 - val_loss: 9810.7712\n",
      "Epoch 78/100\n",
      " - 1s - loss: 8929.8135 - val_loss: 10884.4938\n",
      "Epoch 79/100\n",
      " - 1s - loss: 1132.3257 - val_loss: 11081.3557\n",
      "Epoch 80/100\n",
      " - 1s - loss: 54769.6456 - val_loss: 11128.0494\n",
      "Epoch 81/100\n",
      " - 1s - loss: 1078.8220 - val_loss: 17498.1879\n",
      "Epoch 82/100\n",
      " - 1s - loss: 1468.4881 - val_loss: 55243.7855\n",
      "Epoch 83/100\n",
      " - 1s - loss: 2637.0064 - val_loss: 50444.1484\n",
      "Epoch 84/100\n",
      " - 2s - loss: 1274.1378 - val_loss: 44265.8449\n",
      "Epoch 85/100\n",
      " - 1s - loss: 1153.9581 - val_loss: 40928.1464\n",
      "Epoch 86/100\n",
      " - 2s - loss: 1103.9797 - val_loss: 41632.3389\n",
      "Epoch 87/100\n",
      " - 2s - loss: 1124.0696 - val_loss: 43752.9778\n",
      "Epoch 88/100\n",
      " - 2s - loss: 1097.5248 - val_loss: 40555.3226\n",
      "Epoch 89/100\n",
      " - 1s - loss: 1163.6821 - val_loss: 59888.8570\n",
      "Epoch 90/100\n",
      " - 1s - loss: 270392.9847 - val_loss: 14685.7772\n",
      "Epoch 91/100\n",
      " - 1s - loss: 1939.6368 - val_loss: 11748.8346\n",
      "Epoch 92/100\n",
      " - 1s - loss: 27946.1120 - val_loss: 52460.1610\n",
      "Epoch 93/100\n",
      " - 1s - loss: 1154.5901 - val_loss: 59149.8384\n",
      "Epoch 94/100\n",
      " - 1s - loss: 1127.3652 - val_loss: 12613.7912\n",
      "Epoch 95/100\n",
      " - 1s - loss: 13628.2819 - val_loss: 11348.6856\n",
      "Epoch 96/100\n",
      " - 1s - loss: 1115.5999 - val_loss: 10310.6964\n",
      "Epoch 97/100\n",
      " - 1s - loss: 1154.6045 - val_loss: 6628.7217\n",
      "Epoch 98/100\n",
      " - 1s - loss: 1146.5472 - val_loss: 10367.6339\n",
      "Epoch 99/100\n",
      " - 1s - loss: 7283.7657 - val_loss: 8644.4075\n",
      "Epoch 100/100\n",
      " - 2s - loss: 1118.8726 - val_loss: 18783.6351\n"
     ]
    }
   ],
   "source": [
    "%timeit\n",
    "lstm, history = train_model('lstm_model', x_train, train_y, x_test, test_y, batch_size=12)"
   ]
  },
  {
   "cell_type": "code",
   "execution_count": 66,
   "metadata": {},
   "outputs": [
    {
     "data": {
      "text/plain": [
       "<matplotlib.legend.Legend at 0x12ff24748>"
      ]
     },
     "execution_count": 66,
     "metadata": {},
     "output_type": "execute_result"
    },
    {
     "data": {
      "image/png": "[encoded data removed]",
      "text/plain": [
       "<Figure size 432x288 with 1 Axes>"
      ]
     },
     "metadata": {
      "needs_background": "light"
     },
     "output_type": "display_data"
    }
   ],
   "source": [
    "plt.plot(history.history['loss'])\n",
    "plt.plot(history.history['val_loss'])\n",
    "plt.title(f'lstm model history')\n",
    "plt.ylabel('Loss')\n",
    "plt.xlabel('Epoch')\n",
    "plt.legend(['Train', 'Test'], loc='upper left')"
   ]
  },
  {
   "cell_type": "code",
   "execution_count": 74,
   "metadata": {},
   "outputs": [
    {
     "name": "stdout",
     "output_type": "stream",
     "text": [
      "O3: 2.0961943443821465\n",
      "PM10: 0.5228026945273635\n",
      "PM25: 0.5969012589603921\n"
     ]
    }
   ],
   "source": [
    "prediction = test_y.copy()\n",
    "\n",
    "prediction = prediction.drop(['PM2.5', 'PM10', 'O3'], axis=1)\n",
    "predicts = lstm.predict(x_test).T\n",
    "prediction['PM25'] = predicts[0]\n",
    "prediction['PM10'] = predicts[1]\n",
    "prediction['O3'] = predicts[2]\n",
    "\n",
    "print('O3:', smape(test_y['O3'], prediction['O3']))\n",
    "print('PM10:', smape(test_y['PM10'], prediction['PM10']))\n",
    "print('PM25:', smape(test_y['PM2.5'], prediction['PM25']))"
   ]
  },
  {
   "cell_type": "code",
   "execution_count": null,
   "metadata": {},
   "outputs": [],
   "source": []
  },
  {
   "cell_type": "markdown",
   "metadata": {},
   "source": [
    "## Model training"
   ]
  },
  {
   "cell_type": "code",
   "execution_count": null,
   "metadata": {},
   "outputs": [],
   "source": [
    "# use xgboost as final model"
   ]
  },
  {
   "cell_type": "code",
   "execution_count": null,
   "metadata": {},
   "outputs": [],
   "source": [
    "xgb_pm25_1 = XGBRegressor(booster='gblinear', n_estimators=1000, learning_rate=0.1, max_depth=5).fit(train_x, train_y[['PM2.5']])\n",
    "xgb_pm25_3 = XGBRegressor(booster='gblinear', n_estimators=2000, learning_rate=0.1, max_depth=1).fit(train_x, train_y[['PM2.5']])\n",
    "xgb_pm10_1 = XGBRegressor(booster='gblinear', n_estimators=1000, learning_rate=0.1, max_depth=5).fit(train_x, train_y[['PM10']])\n",
    "xgb_pm10_2 = XGBRegressor(booster='gblinear', n_estimators=1500, learning_rate=0.1, max_depth=3).fit(train_x, train_y[['PM10']])\n",
    "xgb_pm10_3 = XGBRegressor(booster='gblinear', n_estimators=2000, learning_rate=0.1, max_depth=1).fit(train_x, train_y[['PM10']])\n",
    "xgb_o3_1 = XGBRegressor(booster='gblinear', n_estimators=1000, learning_rate=0.1, max_depth=5).fit(train_x, train_y[['O3']])\n",
    "xgb_o3_2 = XGBRegressor(booster='gblinear', n_estimators=1500, learning_rate=0.1, max_depth=3).fit(train_x, train_y[['O3']])\n",
    "xgb_o3_3 = XGBRegressor(booster='gblinear', n_estimators=2000, learning_rate=0.1, max_depth=1).fit(train_x, train_y[['O3']])"
   ]
  },
  {
   "cell_type": "code",
   "execution_count": null,
   "metadata": {},
   "outputs": [],
   "source": []
  }
 ],
 "metadata": {
  "kernelspec": {
   "display_name": "py36",
   "language": "python",
   "name": "py36"
  },
  "language_info": {
   "codemirror_mode": {
    "name": "ipython",
    "version": 3
   },
   "file_extension": ".py",
   "mimetype": "text/x-python",
   "name": "python",
   "nbconvert_exporter": "python",
   "pygments_lexer": "ipython3",
   "version": "3.6.3"
  }
 },
 "nbformat": 4,
 "nbformat_minor": 2
}
