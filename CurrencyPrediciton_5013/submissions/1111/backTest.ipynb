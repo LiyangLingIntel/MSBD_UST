{
 "cells": [
  {
   "cell_type": "code",
   "execution_count": 1,
   "metadata": {},
   "outputs": [
    {
     "name": "stderr",
     "output_type": "stream",
     "text": [
      "Using TensorFlow backend.\n"
     ]
    }
   ],
   "source": [
    "%matplotlib inline\n",
    "import h5py\n",
    "import pandas as pd\n",
    "import numpy as np\n",
    "import copy\n",
    "import os\n",
    "import sys\n",
    "import matplotlib\n",
    "\n",
    "from strategy import handle_bar\n",
    "# from strategy import handle_bar"
   ]
  },
  {
   "cell_type": "code",
   "execution_count": 2,
   "metadata": {},
   "outputs": [
    {
     "name": "stdout",
     "output_type": "stream",
     "text": [
      "data_format1_201801.h5\r\n",
      "data_format1_201802.h5\r\n",
      "data_format1_201803.h5\r\n",
      "data_format1_201804.h5\r\n",
      "data_format1_201805.h5\r\n",
      "data_format1_201806.h5\r\n",
      "data_format1_201807.h5\r\n",
      "data_format1_201808.h5\r\n",
      "data_format1_20180901_20180909.h5\r\n",
      "data_format1_20180909_20180916.h5\r\n",
      "data_format1_20180916_20180923.h5\r\n",
      "data_format1_20180923_20180930.h5\r\n",
      "data_format1_20180930_20181007.h5\r\n",
      "data_format1_20181007_20181014.h5\r\n",
      "data_format1_20181014_20181021.h5\r\n",
      "data_format1_20181021_20181028.h5\r\n",
      "data_format1_20181028_20181104.h5\r\n",
      "data_format1_20181104_20181111.h5\r\n",
      "data_format1_20181111_20181118.h5\r\n",
      "data_format1_data_format1_20181104_20181111.h5.h5\r\n",
      "data_format1_data_format1_20181111_20181118.h5.h5\r\n",
      "data_format2_201801.h5\r\n",
      "data_format2_201802.h5\r\n",
      "data_format2_201803.h5\r\n",
      "data_format2_201804.h5\r\n",
      "data_format2_201805.h5\r\n",
      "data_format2_201806.h5\r\n",
      "data_format2_201807.h5\r\n",
      "data_format2_201808.h5\r\n",
      "data_format2_20180901_20180909.h5\r\n",
      "data_format2_20180909_20180916.h5\r\n",
      "data_format2_20180916_20180923.h5\r\n",
      "data_format2_20180923_20180930.h5\r\n",
      "data_format2_20180930_20181007.h5\r\n",
      "data_format2_20181007_20181014.h5\r\n",
      "data_format2_20181014_20181021.h5\r\n",
      "data_format2_20181021_20181028.h5\r\n",
      "data_format2_20181028_20181104.h5\r\n",
      "data_format2_20181104_20181111.h5\r\n",
      "data_format2_20181111_20181118.h5\r\n"
     ]
    }
   ],
   "source": [
    "! ls ../../data/"
   ]
  },
  {
   "cell_type": "code",
   "execution_count": 3,
   "metadata": {},
   "outputs": [
    {
     "data": {
      "text/plain": [
       "256"
      ]
     },
     "execution_count": 3,
     "metadata": {},
     "output_type": "execute_result"
    }
   ],
   "source": [
    "# Change the working directory to your strategy folder.\n",
    "# You should change this directory below on your own computer accordingly.\n",
    "working_folder = \"./\"\n",
    "#/Users/Chen/Library/Mobile Documents/com~apple~CloudDocs/HKUST/MSBD5013_SP/Python/demo2'#D:\\Dropbox\\MAFS-2018\\Python\\demo3'\n",
    "\n",
    "# Write down your file paths for format 1 and format 2\n",
    "# Note: You can test your strategy on different periods. Try to make your strategy profitable stably.\n",
    "format1_dir = '../../data/data_format1_20181014_20181021.h5'\n",
    "format2_dir = '../../data/data_format2_20181014_20181021.h5'\n",
    "\n",
    "# The following code is for backtesting. DO NOT change it unless you want further exploration beyond the course project.\n",
    "# import your handle_bar function\n",
    "sys.path.append(working_folder)\n",
    "\n",
    "# Run the main function in your demo.py to get your model and initial setup ready (if there is any)\n",
    "os.chdir(working_folder)\n",
    "os.system('python strategy.py')"
   ]
  },
  {
   "cell_type": "code",
   "execution_count": 4,
   "metadata": {},
   "outputs": [],
   "source": [
    "# Class of memory for data storage\n",
    "class memory:\n",
    "    def __init__(self):\n",
    "        pass\n",
    "\n",
    "\n",
    "class backTest:\n",
    "    def __init__(self):\n",
    "        # Initialize strategy memory with None. New memory will be updated every minute in backtest\n",
    "        self.memory = memory()\n",
    "        \n",
    "        # Initial setting of backtest\n",
    "        self.init_cash = 100000.\n",
    "        self.cash_balance_lower_limit = 10000.\n",
    "        self.commissionRatio = 0.0005\n",
    "        \n",
    "        # Data path\n",
    "        self.data_format1_path = format1_dir\n",
    "        self.data_format2_path = format2_dir\n",
    "        \n",
    "        # You can adjust the path variables below to train and test your own model\n",
    "        self.train_data_path = ''\n",
    "        self.test_data_path = ''\n",
    "    \n",
    "    def pnl_analyze(self, strategyDetail):\n",
    "        balance = strategyDetail.total_balance\n",
    "        balance_hourly = balance.resample(\"H\").last()\n",
    "        ret_hourly = balance_hourly.pct_change()\n",
    "        ret_hourly[0] = balance_hourly[0] / self.init_cash - 1\n",
    "        ret_hourly.fillna(0, inplace=True)\n",
    "\n",
    "        balance_daily = balance.resample(\"D\").last()\n",
    "        ret_daily = balance_daily.pct_change()\n",
    "        ret_daily[0] = balance_daily[0] / self.init_cash - 1\n",
    "        ret_daily.fillna(0, inplace=True)\n",
    "\n",
    "        total_ret = balance[-1] / balance[0] - 1\n",
    "        daily_ret = ret_daily.mean()\n",
    "        sharpe_ratio = np.sqrt(365) * ret_daily.mean() / ret_daily.std()\n",
    "        max_drawdown = (balance / balance.cummax() - 1).min()\n",
    "\n",
    "        print(\"Total Return: \", total_ret)\n",
    "        print(\"Average Daily Return: \", daily_ret)\n",
    "        print(\"Sharpe Ratio: \", sharpe_ratio)\n",
    "        print(\"Maximum Drawdown: \", max_drawdown)\n",
    "\n",
    "        balance_hourly.plot(figsize=(12, 3), title='Balance Curve', grid=True)\n",
    "        matplotlib.pyplot.show(block=True)\n",
    "\n",
    "        pass\n",
    "\n",
    "    def backTest(self):\n",
    "\n",
    "        ''' Function that used to do back-testing based on the strategy you give\n",
    "        Params: None\n",
    "        \n",
    "        Notes: this back-test function will move on minute bar and generate your \n",
    "        strategy detail dataframe by using the position vectors your strategy gives\n",
    "        each minute\n",
    "        '''\n",
    "\n",
    "        format1 = h5py.File(self.data_format1_path, mode='r')\n",
    "        format2 = h5py.File(self.data_format2_path, mode='r')\n",
    "        assets = list(format1.keys())\n",
    "        keys = list(format2.keys())\n",
    "\n",
    "        for i in range(len(keys)):\n",
    "            data_cur_min = format2[keys[i]][:]\n",
    "            # 1. initialization\n",
    "            if i == 0:\n",
    "                total_balance = self.init_cash\n",
    "                average_price_old = np.mean(data_cur_min[:,:4], axis=1)\n",
    "                position_old = np.repeat(0., 4)\n",
    "                position_new = np.repeat(0., 4)\n",
    "                details = list()\n",
    "                stop_signal = False\n",
    "\n",
    "            # 2. calculate position & cash/crypto/total balance & transaction cost etc.\n",
    "            position_change = position_new - position_old\n",
    "            mask = np.abs(position_change) > .25*data_cur_min[:,4]\n",
    "            position_change[mask] = (.25*data_cur_min[:,4]*np.sign(position_change))[mask]\n",
    "            position_new = position_old + position_change\n",
    "            average_price = np.mean(data_cur_min[:, :4], axis=1)\n",
    "            transaction_cost = np.sum(np.abs(position_change)*average_price*self.commissionRatio)\n",
    "            revenue = np.sum(position_old*(average_price - average_price_old)) - transaction_cost\n",
    "            crypto_balance = np.sum(np.abs(position_new*average_price))\n",
    "            total_balance = total_balance + revenue\n",
    "            cash_balance = total_balance - crypto_balance\n",
    "            detail = np.append(position_new, [cash_balance, crypto_balance, revenue, total_balance, transaction_cost])\n",
    "            details.append(copy.deepcopy(detail))\n",
    "\n",
    "            position_old = copy.deepcopy(position_new)\n",
    "            average_price_old = copy.deepcopy(average_price)\n",
    "\n",
    "            # 3. check special cases\n",
    "            # if cash balance is less than lower limit, the program will stop all trading actions in the future\n",
    "            if (cash_balance < self.cash_balance_lower_limit) and (stop_signal == False):\n",
    "                stop_signal = True\n",
    "                print(\"Current cash balance is lower than\", self.cash_balance_lower_limit)\n",
    "                print(\"Your strategy is forced to stop\")\n",
    "\n",
    "            if stop_signal:\n",
    "                if '09:30:00' in keys[i]:\n",
    "                    print(keys[i][:10])\n",
    "                continue\n",
    "            \n",
    "            # Update position and memory\n",
    "            [position_new, self.memory] = handle_bar(i,\n",
    "                                                     keys[i],\n",
    "                                                     data_cur_min,\n",
    "                                                     self.init_cash,\n",
    "                                                     self.commissionRatio,\n",
    "                                                     cash_balance,\n",
    "                                                     crypto_balance,\n",
    "                                                     total_balance,\n",
    "                                                     position_new,\n",
    "                                                     self.memory)\n",
    "\n",
    "            # Update position and timer\n",
    "            if '09:30:00' in keys[i]:\n",
    "                print(keys[i][:10])\n",
    "            \n",
    "        detailCol = assets + [\"cash_balance\", \"crypto_balance\", \"revenue\", \"total_balance\", \"transaction_cost\"]\n",
    "        detailsDF = pd.DataFrame(details, index=pd.to_datetime(keys), columns=detailCol)\n",
    "\n",
    "        format1.close()\n",
    "        format2.close()\n",
    "        return detailsDF"
   ]
  },
  {
   "cell_type": "code",
   "execution_count": 5,
   "metadata": {},
   "outputs": [
    {
     "name": "stderr",
     "output_type": "stream",
     "text": [
      "/Users/leonling/workspace/Projects/IPython/CurrencyPrediction/submissions/1111/strategy.py:89: RuntimeWarning: invalid value encountered in double_scalars\n",
      "  return_rate = (abs(cryp_balance-return_balance) - transaction_cost) / cryp_balance\n",
      "/Users/leonling/workspace/Projects/IPython/CurrencyPrediction/submissions/1111/strategy.py:174: RuntimeWarning: Mean of empty slice.\n",
      "  x.append(bar_x.values[start:end, 0].mean())\n",
      "/Users/leonling/workspace/pyenv/py36/lib/python3.6/site-packages/numpy/core/_methods.py:85: RuntimeWarning: invalid value encountered in double_scalars\n",
      "  ret = ret.dtype.type(ret / rcount)\n",
      "/Users/leonling/workspace/Projects/IPython/CurrencyPrediction/submissions/1111/strategy.py:89: RuntimeWarning: divide by zero encountered in double_scalars\n",
      "  return_rate = (abs(cryp_balance-return_balance) - transaction_cost) / cryp_balance\n"
     ]
    },
    {
     "name": "stdout",
     "output_type": "stream",
     "text": [
      "2018-10-14\n",
      "2018-10-15\n",
      "Not trust BTC-USD model now, but still use it\n",
      "Not trust ETH-USD model now, but still use it\n",
      "Not trust LTC-USD model now, but still use it\n",
      "2018-10-16\n",
      "2018-10-17\n",
      "Not trust BTC-USD model now, but still use it\n",
      "Not trust ETH-USD model now, but still use it\n",
      "Not trust LTC-USD model now, but still use it\n",
      "2018-10-18\n",
      "2018-10-19\n",
      "Not trust BTC-USD model now, but still use it\n",
      "Not trust ETH-USD model now, but still use it\n",
      "Not trust LTC-USD model now, but still use it\n",
      "2018-10-20\n",
      "Total Return:  -0.0017221979370757312\n",
      "Average Daily Return:  -0.00021539849601828753\n",
      "Sharpe Ratio:  -13.85283572734657\n",
      "Maximum Drawdown:  -0.0018272581043017322\n"
     ]
    },
    {
     "data": {
      "image/png": "[encoded data removed]",
      "text/plain": [
       "<Figure size 864x216 with 1 Axes>"
      ]
     },
     "metadata": {
      "needs_background": "light"
     },
     "output_type": "display_data"
    }
   ],
   "source": [
    "''' You can check the details of your strategy and do your own analyze by viewing \n",
    "the strategyDetail dataframe\n",
    "'''\n",
    "bt = backTest()\n",
    "strategyDetail = bt.backTest()\n",
    "strategyDetail.to_csv(working_folder+\"/backtest_details.csv\")  # output backtest details to your working folder\n",
    "bt.pnl_analyze(strategyDetail)  # print performance summary, plot balance curve`"
   ]
  },
  {
   "cell_type": "code",
   "execution_count": 6,
   "metadata": {},
   "outputs": [],
   "source": [
    "# from sklearn.externals import joblib\n",
    "# from keras.models import load_model\n",
    "\n",
    "# ASSETS = ['BCH-USD', 'BTC-USD', 'ETH-USD', 'LTC-USD']\n",
    "# model_list = []\n",
    "# for model_name in ASSETS:\n",
    "#     model_path = './model_' +model_name.lower() + '.h5'\n",
    "#     print(model_path)\n",
    "#     model_list.append(load_model(model_path))"
   ]
  },
  {
   "cell_type": "code",
   "execution_count": null,
   "metadata": {},
   "outputs": [],
   "source": []
  }
 ],
 "metadata": {
  "kernelspec": {
   "display_name": "py36",
   "language": "python",
   "name": "py36"
  },
  "language_info": {
   "codemirror_mode": {
    "name": "ipython",
    "version": 3
   },
   "file_extension": ".py",
   "mimetype": "text/x-python",
   "name": "python",
   "nbconvert_exporter": "python",
   "pygments_lexer": "ipython3",
   "version": "3.6.3"
  }
 },
 "nbformat": 4,
 "nbformat_minor": 2
}
