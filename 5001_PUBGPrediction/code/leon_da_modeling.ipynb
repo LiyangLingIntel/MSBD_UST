{
 "cells": [
  {
   "cell_type": "code",
   "execution_count": 83,
   "metadata": {},
   "outputs": [],
   "source": [
    "# For notebook plotting\n",
    "%matplotlib inline\n",
    "\n",
    "# Import dependencies\n",
    "import os\n",
    "import numpy as np\n",
    "import pandas as pd\n",
    "\n",
    "# Visualization\n",
    "import matplotlib.pyplot as plt\n",
    "import seaborn as sns"
   ]
  },
  {
   "cell_type": "code",
   "execution_count": 84,
   "metadata": {},
   "outputs": [],
   "source": [
    "data_root = '../data/'\n",
    "train_path = 'train_V2.csv'\n",
    "test_path = 'test_V2.csv'"
   ]
  },
  {
   "cell_type": "code",
   "execution_count": 85,
   "metadata": {},
   "outputs": [],
   "source": [
    "train_data = pd.read_csv(os.path.join(data_root, train_path))\n",
    "# test_data = pd.read_csv(os.path.join(data_root, test_path))"
   ]
  },
  {
   "cell_type": "markdown",
   "metadata": {},
   "source": [
    "## Data Processing\n",
    "\n",
    "### EDA first"
   ]
  },
  {
   "cell_type": "code",
   "execution_count": 86,
   "metadata": {},
   "outputs": [
    {
     "data": {
      "text/html": [
       "<div>\n",
       "<style scoped>\n",
       "    .dataframe tbody tr th:only-of-type {\n",
       "        vertical-align: middle;\n",
       "    }\n",
       "\n",
       "    .dataframe tbody tr th {\n",
       "        vertical-align: top;\n",
       "    }\n",
       "\n",
       "    .dataframe thead th {\n",
       "        text-align: right;\n",
       "    }\n",
       "</style>\n",
       "<table border=\"1\" class=\"dataframe\">\n",
       "  <thead>\n",
       "    <tr style=\"text-align: right;\">\n",
       "      <th></th>\n",
       "      <th>Id</th>\n",
       "      <th>groupId</th>\n",
       "      <th>matchId</th>\n",
       "      <th>assists</th>\n",
       "      <th>boosts</th>\n",
       "      <th>damageDealt</th>\n",
       "      <th>DBNOs</th>\n",
       "      <th>headshotKills</th>\n",
       "      <th>heals</th>\n",
       "      <th>killPlace</th>\n",
       "      <th>...</th>\n",
       "      <th>revives</th>\n",
       "      <th>rideDistance</th>\n",
       "      <th>roadKills</th>\n",
       "      <th>swimDistance</th>\n",
       "      <th>teamKills</th>\n",
       "      <th>vehicleDestroys</th>\n",
       "      <th>walkDistance</th>\n",
       "      <th>weaponsAcquired</th>\n",
       "      <th>winPoints</th>\n",
       "      <th>winPlacePerc</th>\n",
       "    </tr>\n",
       "  </thead>\n",
       "  <tbody>\n",
       "    <tr>\n",
       "      <th>0</th>\n",
       "      <td>7f96b2f878858a</td>\n",
       "      <td>4d4b580de459be</td>\n",
       "      <td>a10357fd1a4a91</td>\n",
       "      <td>0</td>\n",
       "      <td>0</td>\n",
       "      <td>0.00</td>\n",
       "      <td>0</td>\n",
       "      <td>0</td>\n",
       "      <td>0</td>\n",
       "      <td>60</td>\n",
       "      <td>...</td>\n",
       "      <td>0</td>\n",
       "      <td>0.0000</td>\n",
       "      <td>0</td>\n",
       "      <td>0.00</td>\n",
       "      <td>0</td>\n",
       "      <td>0</td>\n",
       "      <td>244.80</td>\n",
       "      <td>1</td>\n",
       "      <td>1466</td>\n",
       "      <td>0.4444</td>\n",
       "    </tr>\n",
       "    <tr>\n",
       "      <th>1</th>\n",
       "      <td>eef90569b9d03c</td>\n",
       "      <td>684d5656442f9e</td>\n",
       "      <td>aeb375fc57110c</td>\n",
       "      <td>0</td>\n",
       "      <td>0</td>\n",
       "      <td>91.47</td>\n",
       "      <td>0</td>\n",
       "      <td>0</td>\n",
       "      <td>0</td>\n",
       "      <td>57</td>\n",
       "      <td>...</td>\n",
       "      <td>0</td>\n",
       "      <td>0.0045</td>\n",
       "      <td>0</td>\n",
       "      <td>11.04</td>\n",
       "      <td>0</td>\n",
       "      <td>0</td>\n",
       "      <td>1434.00</td>\n",
       "      <td>5</td>\n",
       "      <td>0</td>\n",
       "      <td>0.6400</td>\n",
       "    </tr>\n",
       "    <tr>\n",
       "      <th>2</th>\n",
       "      <td>1eaf90ac73de72</td>\n",
       "      <td>6a4a42c3245a74</td>\n",
       "      <td>110163d8bb94ae</td>\n",
       "      <td>1</td>\n",
       "      <td>0</td>\n",
       "      <td>68.00</td>\n",
       "      <td>0</td>\n",
       "      <td>0</td>\n",
       "      <td>0</td>\n",
       "      <td>47</td>\n",
       "      <td>...</td>\n",
       "      <td>0</td>\n",
       "      <td>0.0000</td>\n",
       "      <td>0</td>\n",
       "      <td>0.00</td>\n",
       "      <td>0</td>\n",
       "      <td>0</td>\n",
       "      <td>161.80</td>\n",
       "      <td>2</td>\n",
       "      <td>0</td>\n",
       "      <td>0.7755</td>\n",
       "    </tr>\n",
       "    <tr>\n",
       "      <th>3</th>\n",
       "      <td>4616d365dd2853</td>\n",
       "      <td>a930a9c79cd721</td>\n",
       "      <td>f1f1f4ef412d7e</td>\n",
       "      <td>0</td>\n",
       "      <td>0</td>\n",
       "      <td>32.90</td>\n",
       "      <td>0</td>\n",
       "      <td>0</td>\n",
       "      <td>0</td>\n",
       "      <td>75</td>\n",
       "      <td>...</td>\n",
       "      <td>0</td>\n",
       "      <td>0.0000</td>\n",
       "      <td>0</td>\n",
       "      <td>0.00</td>\n",
       "      <td>0</td>\n",
       "      <td>0</td>\n",
       "      <td>202.70</td>\n",
       "      <td>3</td>\n",
       "      <td>0</td>\n",
       "      <td>0.1667</td>\n",
       "    </tr>\n",
       "    <tr>\n",
       "      <th>4</th>\n",
       "      <td>315c96c26c9aac</td>\n",
       "      <td>de04010b3458dd</td>\n",
       "      <td>6dc8ff871e21e6</td>\n",
       "      <td>0</td>\n",
       "      <td>0</td>\n",
       "      <td>100.00</td>\n",
       "      <td>0</td>\n",
       "      <td>0</td>\n",
       "      <td>0</td>\n",
       "      <td>45</td>\n",
       "      <td>...</td>\n",
       "      <td>0</td>\n",
       "      <td>0.0000</td>\n",
       "      <td>0</td>\n",
       "      <td>0.00</td>\n",
       "      <td>0</td>\n",
       "      <td>0</td>\n",
       "      <td>49.75</td>\n",
       "      <td>2</td>\n",
       "      <td>0</td>\n",
       "      <td>0.1875</td>\n",
       "    </tr>\n",
       "  </tbody>\n",
       "</table>\n",
       "<p>5 rows × 29 columns</p>\n",
       "</div>"
      ],
      "text/plain": [
       "               Id         groupId         matchId  assists  boosts  \\\n",
       "0  7f96b2f878858a  4d4b580de459be  a10357fd1a4a91        0       0   \n",
       "1  eef90569b9d03c  684d5656442f9e  aeb375fc57110c        0       0   \n",
       "2  1eaf90ac73de72  6a4a42c3245a74  110163d8bb94ae        1       0   \n",
       "3  4616d365dd2853  a930a9c79cd721  f1f1f4ef412d7e        0       0   \n",
       "4  315c96c26c9aac  de04010b3458dd  6dc8ff871e21e6        0       0   \n",
       "\n",
       "   damageDealt  DBNOs  headshotKills  heals  killPlace      ...       revives  \\\n",
       "0         0.00      0              0      0         60      ...             0   \n",
       "1        91.47      0              0      0         57      ...             0   \n",
       "2        68.00      0              0      0         47      ...             0   \n",
       "3        32.90      0              0      0         75      ...             0   \n",
       "4       100.00      0              0      0         45      ...             0   \n",
       "\n",
       "   rideDistance  roadKills  swimDistance  teamKills vehicleDestroys  \\\n",
       "0        0.0000          0          0.00          0               0   \n",
       "1        0.0045          0         11.04          0               0   \n",
       "2        0.0000          0          0.00          0               0   \n",
       "3        0.0000          0          0.00          0               0   \n",
       "4        0.0000          0          0.00          0               0   \n",
       "\n",
       "   walkDistance  weaponsAcquired  winPoints  winPlacePerc  \n",
       "0        244.80                1       1466        0.4444  \n",
       "1       1434.00                5          0        0.6400  \n",
       "2        161.80                2          0        0.7755  \n",
       "3        202.70                3          0        0.1667  \n",
       "4         49.75                2          0        0.1875  \n",
       "\n",
       "[5 rows x 29 columns]"
      ]
     },
     "execution_count": 86,
     "metadata": {},
     "output_type": "execute_result"
    }
   ],
   "source": [
    "train_data.head()"
   ]
  },
  {
   "cell_type": "code",
   "execution_count": 98,
   "metadata": {},
   "outputs": [],
   "source": [
    "# plt functions\n",
    "\n",
    "def show_count_plt(df, column_name):\n",
    "    plt.figure(figsize=(15,4))\n",
    "    sns.countplot(data=df, x=column_name).set_title(column_name)\n",
    "    plt.show()\n",
    "    \n",
    "def show_dist_plt(df, column_name):\n",
    "    plt.figure(figsize=(15, 4))\n",
    "    sns.distplot(df[column_name], bins=50, rug=True)\n",
    "    plt.show()"
   ]
  },
  {
   "cell_type": "code",
   "execution_count": 88,
   "metadata": {},
   "outputs": [
    {
     "data": {
      "text/plain": [
       "squad-fpp           1756186\n",
       "duo-fpp              996691\n",
       "squad                626526\n",
       "solo-fpp             536762\n",
       "duo                  313591\n",
       "solo                 181943\n",
       "normal-squad-fpp      17174\n",
       "crashfpp               6287\n",
       "normal-duo-fpp         5489\n",
       "flaretpp               2505\n",
       "normal-solo-fpp        1682\n",
       "flarefpp                718\n",
       "normal-squad            516\n",
       "crashtpp                371\n",
       "normal-solo             326\n",
       "normal-duo              199\n",
       "Name: matchType, dtype: int64"
      ]
     },
     "execution_count": 88,
     "metadata": {},
     "output_type": "execute_result"
    }
   ],
   "source": [
    "# train_data.drop([2744604], axis=0)\n",
    "train_data['matchType'].value_counts()"
   ]
  },
  {
   "cell_type": "code",
   "execution_count": 89,
   "metadata": {
    "scrolled": false
   },
   "outputs": [],
   "source": [
    "# rm wtf modes, only focus on stadard modes for now\n",
    "std_modes = ['squad-fpp', 'duo-fpp', 'solo-fpp', 'squad', 'duo', 'solo']\n",
    "train_std = train_data.loc[train_data['matchType'].isin(std_modes)]"
   ]
  },
  {
   "cell_type": "code",
   "execution_count": 90,
   "metadata": {
    "scrolled": true
   },
   "outputs": [
    {
     "name": "stderr",
     "output_type": "stream",
     "text": [
      "/Users/leonling/workspace/pyenv/scientific/lib/python3.7/site-packages/ipykernel_launcher.py:4: SettingWithCopyWarning: \n",
      "A value is trying to be set on a copy of a slice from a DataFrame.\n",
      "Try using .loc[row_indexer,col_indexer] = value instead\n",
      "\n",
      "See the caveats in the documentation: http://pandas.pydata.org/pandas-docs/stable/indexing.html#indexing-view-versus-copy\n",
      "  after removing the cwd from sys.path.\n",
      "/Users/leonling/workspace/pyenv/scientific/lib/python3.7/site-packages/ipykernel_launcher.py:5: SettingWithCopyWarning: \n",
      "A value is trying to be set on a copy of a slice from a DataFrame.\n",
      "Try using .loc[row_indexer,col_indexer] = value instead\n",
      "\n",
      "See the caveats in the documentation: http://pandas.pydata.org/pandas-docs/stable/indexing.html#indexing-view-versus-copy\n",
      "  \"\"\"\n",
      "/Users/leonling/workspace/pyenv/scientific/lib/python3.7/site-packages/ipykernel_launcher.py:8: SettingWithCopyWarning: \n",
      "A value is trying to be set on a copy of a slice from a DataFrame.\n",
      "Try using .loc[row_indexer,col_indexer] = value instead\n",
      "\n",
      "See the caveats in the documentation: http://pandas.pydata.org/pandas-docs/stable/indexing.html#indexing-view-versus-copy\n",
      "  \n",
      "/Users/leonling/workspace/pyenv/scientific/lib/python3.7/site-packages/ipykernel_launcher.py:10: SettingWithCopyWarning: \n",
      "A value is trying to be set on a copy of a slice from a DataFrame.\n",
      "Try using .loc[row_indexer,col_indexer] = value instead\n",
      "\n",
      "See the caveats in the documentation: http://pandas.pydata.org/pandas-docs/stable/indexing.html#indexing-view-versus-copy\n",
      "  # Remove the CWD from sys.path while we load stuff.\n",
      "/Users/leonling/workspace/pyenv/scientific/lib/python3.7/site-packages/ipykernel_launcher.py:12: SettingWithCopyWarning: \n",
      "A value is trying to be set on a copy of a slice from a DataFrame.\n",
      "Try using .loc[row_indexer,col_indexer] = value instead\n",
      "\n",
      "See the caveats in the documentation: http://pandas.pydata.org/pandas-docs/stable/indexing.html#indexing-view-versus-copy\n",
      "  if sys.path[0] == '':\n",
      "/Users/leonling/workspace/pyenv/scientific/lib/python3.7/site-packages/ipykernel_launcher.py:14: SettingWithCopyWarning: \n",
      "A value is trying to be set on a copy of a slice from a DataFrame.\n",
      "Try using .loc[row_indexer,col_indexer] = value instead\n",
      "\n",
      "See the caveats in the documentation: http://pandas.pydata.org/pandas-docs/stable/indexing.html#indexing-view-versus-copy\n",
      "  \n",
      "/Users/leonling/workspace/pyenv/scientific/lib/python3.7/site-packages/ipykernel_launcher.py:15: SettingWithCopyWarning: \n",
      "A value is trying to be set on a copy of a slice from a DataFrame.\n",
      "Try using .loc[row_indexer,col_indexer] = value instead\n",
      "\n",
      "See the caveats in the documentation: http://pandas.pydata.org/pandas-docs/stable/indexing.html#indexing-view-versus-copy\n",
      "  from ipykernel import kernelapp as app\n",
      "/Users/leonling/workspace/pyenv/scientific/lib/python3.7/site-packages/ipykernel_launcher.py:18: SettingWithCopyWarning: \n",
      "A value is trying to be set on a copy of a slice from a DataFrame.\n",
      "Try using .loc[row_indexer,col_indexer] = value instead\n",
      "\n",
      "See the caveats in the documentation: http://pandas.pydata.org/pandas-docs/stable/indexing.html#indexing-view-versus-copy\n"
     ]
    }
   ],
   "source": [
    "# new_data = train_data.groupby(['matchId', 'groupId'])\n",
    "\n",
    "# Is it needed to count cheaters into total player number\n",
    "train_std['player_joined'] = train_std.groupby('matchId')['matchId'].transform('count')\n",
    "train_std['group_members'] = train_std.groupby(['groupId', 'matchId'])['groupId'].transform('count')\n",
    "# train_std['group_joined'] = train_std.groupby('matchId')['matchId'].transform('count')\n",
    "\n",
    "train_std['total_distance'] = train_std['walkDistance'] + train_std['swimDistance'] + train_std['rideDistance']\n",
    "\n",
    "train_std['avg_max_walk_speed'] = train_std['walkDistance'] / train_std['matchDuration']\n",
    "\n",
    "train_std['total_med_items'] = train_std['boosts'] + train_std['heals']\n",
    "\n",
    "train_std['headshot_rate'] = train_std['headshotKills'] / train_std['kills']\n",
    "train_std['headshot_rate'] = train_std['headshot_rate'].fillna(0)\n",
    "# show_dist_plt(train_std, 'headshot_rate')\n",
    "\n",
    "train_std['damage_per_enermy'] = train_std['damageDealt'] / (train_std['kills'] + train_std['assists'])\n",
    "\n",
    "# train_data.fillna({'headshot_rate': 0})"
   ]
  },
  {
   "cell_type": "markdown",
   "metadata": {},
   "source": [
    "#### Kills"
   ]
  },
  {
   "cell_type": "code",
   "execution_count": 9,
   "metadata": {},
   "outputs": [
    {
     "name": "stderr",
     "output_type": "stream",
     "text": [
      "/Users/leonling/workspace/pyenv/scientific/lib/python3.7/site-packages/scipy/stats/stats.py:1713: FutureWarning: Using a non-tuple sequence for multidimensional indexing is deprecated; use `arr[tuple(seq)]` instead of `arr[seq]`. In the future this will be interpreted as an array index, `arr[np.array(seq)]`, which will result either in an error or a different result.\n",
      "  return np.add.reduce(sorted[indexer] * weights, axis=axis) / sumval\n"
     ]
    },
    {
     "data": {
      "image/png": "[encoded data removed]",
      "text/plain": [
       "<Figure size 1080x288 with 1 Axes>"
      ]
     },
     "metadata": {
      "needs_background": "light"
     },
     "output_type": "display_data"
    }
   ],
   "source": [
    "show_dist_plt(train_std, 'longestKill')"
   ]
  },
  {
   "cell_type": "code",
   "execution_count": 10,
   "metadata": {},
   "outputs": [
    {
     "name": "stdout",
     "output_type": "stream",
     "text": [
      "(0, 100]        1579222\n",
      "(100, 200]       228177\n",
      "(200, 300]        61918\n",
      "(300, 400]        14517\n",
      "(400, 500]         3434\n",
      "(500, 600]          984\n",
      "(600, 700]          339\n",
      "(700, 800]          169\n",
      "(800, 900]          111\n",
      "(900, 1000]         103\n",
      "(1000, 2000]          2\n",
      "Name: longestKill, dtype: int64\n",
      "242.8\n"
     ]
    },
    {
     "name": "stderr",
     "output_type": "stream",
     "text": [
      "/Users/leonling/workspace/pyenv/scientific/lib/python3.7/site-packages/scipy/stats/stats.py:1713: FutureWarning: Using a non-tuple sequence for multidimensional indexing is deprecated; use `arr[tuple(seq)]` instead of `arr[seq]`. In the future this will be interpreted as an array index, `arr[np.array(seq)]`, which will result either in an error or a different result.\n",
      "  return np.add.reduce(sorted[indexer] * weights, axis=axis) / sumval\n"
     ]
    },
    {
     "data": {
      "image/png": "[encoded data removed]",
      "text/plain": [
       "<Figure size 1080x288 with 1 Axes>"
      ]
     },
     "metadata": {
      "needs_background": "light"
     },
     "output_type": "display_data"
    }
   ],
   "source": [
    "bins = [0, 100, 200, 300, 400, 500, 600, 700, 800, 900, 1000, 2000]\n",
    "print(pd.cut(train_std['longestKill'], bins).value_counts())\n",
    "print(train_std['longestKill'].quantile(0.99))\n",
    "show_dist_plt(train_std[train_std['longestKill']>550], 'longestKill')"
   ]
  },
  {
   "cell_type": "code",
   "execution_count": 50,
   "metadata": {},
   "outputs": [
    {
     "data": {
      "text/plain": [
       "0    95176\n",
       "1      216\n",
       "2        6\n",
       "Name: kills, dtype: int64"
      ]
     },
     "execution_count": 50,
     "metadata": {},
     "output_type": "execute_result"
    }
   ],
   "source": [
    "train_std[train_std['total_distance']==0]['kills'].value_counts()\n",
    "# train_std[train_std['total_distance']==0][['kills', 'weaponsAcquired']].describe()"
   ]
  },
  {
   "cell_type": "code",
   "execution_count": null,
   "metadata": {},
   "outputs": [],
   "source": [
    "train_std.query('total_distance')"
   ]
  },
  {
   "cell_type": "code",
   "execution_count": 9,
   "metadata": {},
   "outputs": [
    {
     "name": "stdout",
     "output_type": "stream",
     "text": [
      "0    4316340\n",
      "1      87372\n",
      "2       7121\n",
      "3        795\n",
      "4         71\n",
      "Name: teamKills, dtype: int64\n"
     ]
    },
    {
     "data": {
      "text/plain": [
       "1    39\n",
       "0    32\n",
       "Name: vehicleDestroys, dtype: int64"
      ]
     },
     "execution_count": 9,
     "metadata": {},
     "output_type": "execute_result"
    }
   ],
   "source": [
    "print(train_std['teamKills'].value_counts())\n",
    "# when I got crazy, I can even kill my self\n",
    "train_std[train_std['teamKills']==4]['vehicleDestroys'].value_counts()\n",
    "# 安全驾驶，警钟长鸣"
   ]
  },
  {
   "cell_type": "code",
   "execution_count": 13,
   "metadata": {},
   "outputs": [
    {
     "name": "stderr",
     "output_type": "stream",
     "text": [
      "/Users/leonling/workspace/pyenv/scientific/lib/python3.7/site-packages/numpy/lib/histograms.py:746: RuntimeWarning: invalid value encountered in greater_equal\n",
      "  keep = (tmp_a >= first_edge)\n",
      "/Users/leonling/workspace/pyenv/scientific/lib/python3.7/site-packages/numpy/lib/histograms.py:747: RuntimeWarning: invalid value encountered in less_equal\n",
      "  keep &= (tmp_a <= last_edge)\n",
      "/Users/leonling/workspace/pyenv/scientific/lib/python3.7/site-packages/statsmodels/nonparametric/kde.py:448: RuntimeWarning: invalid value encountered in greater\n",
      "  X = X[np.logical_and(X > clip[0], X < clip[1])] # won't work for two columns.\n",
      "/Users/leonling/workspace/pyenv/scientific/lib/python3.7/site-packages/statsmodels/nonparametric/kde.py:448: RuntimeWarning: invalid value encountered in less\n",
      "  X = X[np.logical_and(X > clip[0], X < clip[1])] # won't work for two columns.\n"
     ]
    },
    {
     "data": {
      "image/png": "[encoded data removed]",
      "text/plain": [
       "<Figure size 1080x288 with 1 Axes>"
      ]
     },
     "metadata": {
      "needs_background": "light"
     },
     "output_type": "display_data"
    },
    {
     "data": {
      "image/png": "[encoded data removed]",
      "text/plain": [
       "<Figure size 1080x288 with 1 Axes>"
      ]
     },
     "metadata": {
      "needs_background": "light"
     },
     "output_type": "display_data"
    },
    {
     "data": {
      "image/png": "[encoded data removed]",
      "text/plain": [
       "<Figure size 1080x288 with 1 Axes>"
      ]
     },
     "metadata": {
      "needs_background": "light"
     },
     "output_type": "display_data"
    }
   ],
   "source": [
    "show_dist_plt(train_std[train_std['teamKills']==0], 'winPlacePerc')\n",
    "show_dist_plt(train_std[train_std['teamKills'].isin([1,2,3])], 'winPlacePerc')\n",
    "show_dist_plt(train_std[train_std['teamKills']==4], 'winPlacePerc')"
   ]
  },
  {
   "cell_type": "code",
   "execution_count": 14,
   "metadata": {},
   "outputs": [
    {
     "name": "stdout",
     "output_type": "stream",
     "text": [
      "0     4400059\n",
      "1       10426\n",
      "2         994\n",
      "3         146\n",
      "4          32\n",
      "5          13\n",
      "6           8\n",
      "8           7\n",
      "7           7\n",
      "11          2\n",
      "9           2\n",
      "18          1\n",
      "14          1\n",
      "10          1\n",
      "Name: roadKills, dtype: int64\n",
      "2.0\n"
     ]
    },
    {
     "data": {
      "image/png": "[encoded data removed]",
      "text/plain": [
       "<Figure size 1080x288 with 1 Axes>"
      ]
     },
     "metadata": {
      "needs_background": "light"
     },
     "output_type": "display_data"
    }
   ],
   "source": [
    "print(train_std['roadKills'].value_counts())\n",
    "print(train_std['roadKills'].quantile(0.9999))\n",
    "df_temp = train_std[train_std['roadKills'] > 2].copy()\n",
    "df_temp['drive_per_roadkill'] = df_temp['rideDistance'] / df_temp['roadKills']\n",
    "show_dist_plt(df_temp, 'drive_per_roadkill')\n",
    "# train_std[train_std['roadKills']==18][['kills', 'rideDistance']]"
   ]
  },
  {
   "cell_type": "code",
   "execution_count": 40,
   "metadata": {},
   "outputs": [
    {
     "name": "stdout",
     "output_type": "stream",
     "text": [
      "0     2513808\n",
      "1     1463294\n",
      "2      383989\n",
      "3       44666\n",
      "4        5406\n",
      "5         342\n",
      "6          95\n",
      "7          40\n",
      "8          23\n",
      "9          11\n",
      "10          7\n",
      "11          5\n",
      "12          5\n",
      "13          5\n",
      "16          1\n",
      "14          1\n",
      "18          1\n",
      "Name: killStreaks, dtype: int64\n",
      "count    4.411699e+06\n",
      "mean     5.417493e-01\n",
      "std      7.082327e-01\n",
      "min      0.000000e+00\n",
      "25%      0.000000e+00\n",
      "50%      0.000000e+00\n",
      "75%      1.000000e+00\n",
      "max      1.800000e+01\n",
      "Name: killStreaks, dtype: float64\n"
     ]
    },
    {
     "data": {
      "text/plain": [
       "8.0"
      ]
     },
     "execution_count": 40,
     "metadata": {},
     "output_type": "execute_result"
    }
   ],
   "source": [
    "print(train_std['killStreaks'].value_counts())\n",
    "print(train_std['killStreaks'].describe())\n",
    "# show_dist_plt(column_name='killStreaks', df=train_std.query)\n",
    "train_std['killStreaks'].describe()\n",
    "train_std['killStreaks'].quantile(0.99999)"
   ]
  },
  {
   "cell_type": "code",
   "execution_count": 81,
   "metadata": {},
   "outputs": [
    {
     "data": {
      "text/plain": [
       "count    4.411699e+06\n",
       "mean     7.316154e-01\n",
       "std      7.459453e-01\n",
       "min      0.000000e+00\n",
       "25%      1.009664e-01\n",
       "50%      4.294283e-01\n",
       "75%      1.253566e+00\n",
       "max      1.364743e+01\n",
       "Name: avg_max_walk_speed, dtype: float64"
      ]
     },
     "execution_count": 81,
     "metadata": {},
     "output_type": "execute_result"
    }
   ],
   "source": [
    "train_std['avg_max_walk_speed'].describe()"
   ]
  },
  {
   "cell_type": "code",
   "execution_count": 72,
   "metadata": {},
   "outputs": [
    {
     "name": "stdout",
     "output_type": "stream",
     "text": [
      "         weaponsAcquired  kills  total_distance  headshot_rate  winPlacePerc\n",
      "72720                  2     11       1608.4520       0.363636        0.4384\n",
      "124986                 8     14        901.7000       0.285714        0.5342\n",
      "181408                 3     11       4958.5600       0.636364        1.0000\n",
      "652889                 5     16       3110.0000       0.687500        1.0000\n",
      "669149                 5     16       3329.2000       0.937500        1.0000\n",
      "717108                 7     11       8950.0000       0.363636        1.0000\n",
      "999741                 2     15       1074.0000       0.600000        0.6477\n",
      "1204938                4     15       6002.7000       0.733333        0.9200\n",
      "1234087                3     13       3546.0000       0.384615        0.8077\n",
      "1414822                4     14       3296.0000       0.857143        1.0000\n",
      "1548132                4     12       2954.0000       0.166667        1.0000\n",
      "1743111                7     13       5570.0000       0.461538        1.0000\n",
      "1801212                3     11       1798.5000       0.818182        0.8333\n",
      "1857556                4     11       3442.0000       0.363636        0.8427\n",
      "2033134                5     17       2673.0000       0.176471        1.0000\n",
      "2035432                7     13        935.1000       0.615385        0.6667\n",
      "2139293                4     11       3037.0000       0.181818        0.5417\n",
      "2229395                3     12       2386.0000       0.500000        1.0000\n",
      "2249449                4     11       3271.0000       0.454545        1.0000\n",
      "2707034                2     13        718.1000       0.000000        0.5319\n",
      "2714364                2     16        258.0000       0.312500        0.4624\n",
      "2733926                0     14       1282.3020       0.000000        0.4286\n",
      "2767999                5     11       4934.6000       0.000000        0.4713\n",
      "2895978                5     13       4632.0000       0.230769        1.0000\n",
      "2898920                3     13       3476.1000       0.692308        1.0000\n",
      "2992061                6     14       3623.0000       0.285714        1.0000\n",
      "3029899                2     12        310.1000       0.916667        0.3529\n",
      "3094495                2     15        968.9000       0.933333        0.6667\n",
      "3150390                5     12       2407.0000       0.833333        0.7500\n",
      "3210862                5     12       7606.0000       0.250000        1.0000\n",
      "3370240                7     11       3275.0000       0.727273        1.0000\n",
      "3409432                2     11       2281.1000       0.909091        0.5227\n",
      "3502563                3     12        161.3000       0.666667        0.4082\n",
      "3517965                4     17       3058.0000       0.117647        1.0000\n",
      "3541776                8     11       2005.2251       0.363636        1.0000\n",
      "3543017                3     11       2893.0000       0.181818        0.8182\n",
      "3846717                7     11       3950.0000       0.181818        1.0000\n",
      "4177496               10     14       3221.0000       0.142857        1.0000\n"
     ]
    },
    {
     "data": {
      "image/png": "[encoded data removed]",
      "text/plain": [
       "<Figure size 1080x288 with 1 Axes>"
      ]
     },
     "metadata": {
      "needs_background": "light"
     },
     "output_type": "display_data"
    },
    {
     "data": {
      "text/plain": [
       "count    38.000000\n",
       "mean      0.806455\n",
       "std       0.230606\n",
       "min       0.352900\n",
       "25%       0.568200\n",
       "50%       0.960000\n",
       "75%       1.000000\n",
       "max       1.000000\n",
       "Name: winPlacePerc, dtype: float64"
      ]
     },
     "execution_count": 72,
     "metadata": {},
     "output_type": "execute_result"
    }
   ],
   "source": [
    "print(train_std.query('heals == 0 and boosts == 0 and kills > 10')[['weaponsAcquired', 'kills','total_distance', 'headshot_rate', 'winPlacePerc']])\n",
    "show_dist_plt(column_name='winPlacePerc', df=train_std.query('heals == 0 and kills > 12'))\n",
    "train_std.query('heals == 0 and boosts == 0 and kills > 10')['winPlacePerc'].describe()"
   ]
  },
  {
   "cell_type": "code",
   "execution_count": 99,
   "metadata": {},
   "outputs": [
    {
     "name": "stderr",
     "output_type": "stream",
     "text": [
      "/Users/leonling/workspace/pyenv/scientific/lib/python3.7/site-packages/ipykernel_launcher.py:1: UserWarning: Boolean Series key will be reindexed to match DataFrame index.\n",
      "  \"\"\"Entry point for launching an IPython kernel.\n"
     ]
    },
    {
     "data": {
      "image/png": "[encoded data removed]",
      "text/plain": [
       "<Figure size 1080x288 with 1 Axes>"
      ]
     },
     "metadata": {
      "needs_background": "light"
     },
     "output_type": "display_data"
    }
   ],
   "source": [
    "show_dist_plt(df=train_std.query('headshot_rate == 1 and kills > 2')[(train_std['damageDealt'] / train_std['kills']) % 100 == 0], column_name='kills')"
   ]
  },
  {
   "cell_type": "code",
   "execution_count": 58,
   "metadata": {
    "scrolled": true
   },
   "outputs": [
    {
     "data": {
      "text/plain": [
       "count     6537.000000\n",
       "mean      2056.622979\n",
       "std       2147.232900\n",
       "min          0.000000\n",
       "25%        169.600000\n",
       "50%       1738.000000\n",
       "75%       3159.000000\n",
       "max      24205.800000\n",
       "Name: total_distance, dtype: float64"
      ]
     },
     "execution_count": 58,
     "metadata": {},
     "output_type": "execute_result"
    }
   ],
   "source": [
    "# train_std.query('winPlacePerc == 1 and heals == 0 and boosts == 0')['total_distance'].describe()"
   ]
  },
  {
   "cell_type": "code",
   "execution_count": 17,
   "metadata": {},
   "outputs": [
    {
     "name": "stdout",
     "output_type": "stream",
     "text": [
      "(-1, 0]     2513808\n",
      "(0, 1]       922033\n",
      "(1, 3]       699345\n",
      "(3, 10]      270401\n",
      "(10, 20]       6074\n",
      "(20, 30]         37\n",
      "(30, 50]          1\n",
      "Name: kills, dtype: int64\n",
      "count    4.411699e+06\n",
      "mean     9.116071e-01\n",
      "std      1.501082e+00\n",
      "min      0.000000e+00\n",
      "25%      0.000000e+00\n",
      "50%      0.000000e+00\n",
      "75%      1.000000e+00\n",
      "max      3.300000e+01\n",
      "Name: kills, dtype: float64\n"
     ]
    },
    {
     "data": {
      "text/plain": [
       "16.0"
      ]
     },
     "execution_count": 17,
     "metadata": {},
     "output_type": "execute_result"
    }
   ],
   "source": [
    "bins = [-1, 0, 1, 3, 10, 20, 30, 50]\n",
    "print(pd.cut(train_std['kills'], bins).value_counts())\n",
    "print(train_std['kills'].describe())\n",
    "train_std['kills'].quantile(0.9999)"
   ]
  },
  {
   "cell_type": "code",
   "execution_count": 18,
   "metadata": {},
   "outputs": [
    {
     "name": "stderr",
     "output_type": "stream",
     "text": [
      "/Users/leonling/workspace/pyenv/scientific/lib/python3.7/site-packages/scipy/stats/stats.py:1713: FutureWarning: Using a non-tuple sequence for multidimensional indexing is deprecated; use `arr[tuple(seq)]` instead of `arr[seq]`. In the future this will be interpreted as an array index, `arr[np.array(seq)]`, which will result either in an error or a different result.\n",
      "  return np.add.reduce(sorted[indexer] * weights, axis=axis) / sumval\n"
     ]
    },
    {
     "data": {
      "image/png": "[encoded data removed]",
      "text/plain": [
       "<Figure size 1080x288 with 1 Axes>"
      ]
     },
     "metadata": {
      "needs_background": "light"
     },
     "output_type": "display_data"
    },
    {
     "data": {
      "image/png": "[encoded data removed]",
      "text/plain": [
       "<Figure size 1080x288 with 1 Axes>"
      ]
     },
     "metadata": {
      "needs_background": "light"
     },
     "output_type": "display_data"
    }
   ],
   "source": [
    "show_dist_plt(train_std, 'headshot_rate')\n",
    "show_dist_plt(train_std[train_std['headshot_rate']==1], 'kills')"
   ]
  },
  {
   "cell_type": "code",
   "execution_count": 19,
   "metadata": {},
   "outputs": [
    {
     "name": "stdout",
     "output_type": "stream",
     "text": [
      "1     217323\n",
      "2      29291\n",
      "3       4590\n",
      "4        983\n",
      "5        236\n",
      "6         80\n",
      "7         37\n",
      "8         26\n",
      "9         13\n",
      "10        11\n",
      "11         5\n",
      "15         2\n",
      "14         2\n",
      "13         2\n",
      "12         2\n",
      "Name: kills, dtype: int64\n",
      "kill threshold 9.0\n"
     ]
    },
    {
     "name": "stderr",
     "output_type": "stream",
     "text": [
      "/Users/leonling/workspace/pyenv/scientific/lib/python3.7/site-packages/ipykernel_launcher.py:4: UserWarning: Boolean Series key will be reindexed to match DataFrame index.\n",
      "  after removing the cwd from sys.path.\n"
     ]
    },
    {
     "name": "stdout",
     "output_type": "stream",
     "text": [
      "1    52952\n",
      "2     3505\n",
      "3      325\n",
      "4       51\n",
      "5       14\n",
      "6        6\n",
      "9        2\n",
      "7        1\n",
      "Name: kills, dtype: int64\n",
      "1     54071\n",
      "2      3732\n",
      "3       377\n",
      "4        65\n",
      "5        16\n",
      "6         6\n",
      "9         2\n",
      "7         2\n",
      "15        1\n",
      "Name: kills, dtype: int64\n",
      "damage/kill threshold 4.0\n"
     ]
    },
    {
     "name": "stderr",
     "output_type": "stream",
     "text": [
      "/Users/leonling/workspace/pyenv/scientific/lib/python3.7/site-packages/ipykernel_launcher.py:5: UserWarning: Boolean Series key will be reindexed to match DataFrame index.\n",
      "  \"\"\"\n"
     ]
    }
   ],
   "source": [
    "print(train_std[train_std['headshot_rate']==1]['kills'].value_counts())\n",
    "print('kill threshold', train_std[train_std['headshot_rate']==1]['kills'].quantile(0.9999))\n",
    "df_temp = train_std[train_std['headshot_rate']==1].copy()\n",
    "print(df_temp[((df_temp['damageDealt'] / df_temp['kills']) % 100 == 0) & (train_std['headshot_rate']==1)]['kills'].value_counts())\n",
    "print(df_temp[((df_temp['damageDealt'] / df_temp['kills']) % 100 < 1) & (train_std['headshot_rate']==1)]['kills'].value_counts())\n",
    "print('damage/kill threshold', df_temp[(df_temp['damageDealt'] / df_temp['kills']) % 100 == 0]['kills'].quantile(0.999))"
   ]
  },
  {
   "cell_type": "code",
   "execution_count": null,
   "metadata": {},
   "outputs": [],
   "source": []
  },
  {
   "cell_type": "markdown",
   "metadata": {},
   "source": [
    "#### Weapons"
   ]
  },
  {
   "cell_type": "code",
   "execution_count": 20,
   "metadata": {},
   "outputs": [
    {
     "name": "stdout",
     "output_type": "stream",
     "text": [
      "(5, 10]       821796\n",
      "(10, 20]       35677\n",
      "(20, 30]         181\n",
      "(30, 40]          28\n",
      "(40, 60]          19\n",
      "(60, 80]           9\n",
      "(80, 100]          7\n",
      "(100, 200]         5\n",
      "(200, 400]         1\n",
      "Name: weaponsAcquired, dtype: int64\n",
      "count    4.411699e+06\n",
      "mean     3.630741e+00\n",
      "std      2.322627e+00\n",
      "min      0.000000e+00\n",
      "25%      2.000000e+00\n",
      "50%      3.000000e+00\n",
      "75%      5.000000e+00\n",
      "max      2.360000e+02\n",
      "Name: weaponsAcquired, dtype: float64\n"
     ]
    },
    {
     "data": {
      "text/html": [
       "<div>\n",
       "<style scoped>\n",
       "    .dataframe tbody tr th:only-of-type {\n",
       "        vertical-align: middle;\n",
       "    }\n",
       "\n",
       "    .dataframe tbody tr th {\n",
       "        vertical-align: top;\n",
       "    }\n",
       "\n",
       "    .dataframe thead th {\n",
       "        text-align: right;\n",
       "    }\n",
       "</style>\n",
       "<table border=\"1\" class=\"dataframe\">\n",
       "  <thead>\n",
       "    <tr style=\"text-align: right;\">\n",
       "      <th></th>\n",
       "      <th>kills</th>\n",
       "      <th>damageDealt</th>\n",
       "      <th>total_distance</th>\n",
       "      <th>weaponsAcquired</th>\n",
       "    </tr>\n",
       "  </thead>\n",
       "  <tbody>\n",
       "    <tr>\n",
       "      <th>233643</th>\n",
       "      <td>0</td>\n",
       "      <td>67.11</td>\n",
       "      <td>3187.00</td>\n",
       "      <td>128</td>\n",
       "    </tr>\n",
       "    <tr>\n",
       "      <th>1437471</th>\n",
       "      <td>1</td>\n",
       "      <td>100.00</td>\n",
       "      <td>5299.21</td>\n",
       "      <td>102</td>\n",
       "    </tr>\n",
       "    <tr>\n",
       "      <th>1449293</th>\n",
       "      <td>0</td>\n",
       "      <td>0.00</td>\n",
       "      <td>653.10</td>\n",
       "      <td>95</td>\n",
       "    </tr>\n",
       "    <tr>\n",
       "      <th>1834515</th>\n",
       "      <td>0</td>\n",
       "      <td>26.46</td>\n",
       "      <td>2835.00</td>\n",
       "      <td>96</td>\n",
       "    </tr>\n",
       "    <tr>\n",
       "      <th>2442962</th>\n",
       "      <td>0</td>\n",
       "      <td>0.00</td>\n",
       "      <td>807.60</td>\n",
       "      <td>95</td>\n",
       "    </tr>\n",
       "    <tr>\n",
       "      <th>2743408</th>\n",
       "      <td>2</td>\n",
       "      <td>186.90</td>\n",
       "      <td>3318.00</td>\n",
       "      <td>167</td>\n",
       "    </tr>\n",
       "    <tr>\n",
       "      <th>2749693</th>\n",
       "      <td>3</td>\n",
       "      <td>378.90</td>\n",
       "      <td>3641.70</td>\n",
       "      <td>177</td>\n",
       "    </tr>\n",
       "    <tr>\n",
       "      <th>2797867</th>\n",
       "      <td>0</td>\n",
       "      <td>0.00</td>\n",
       "      <td>1235.00</td>\n",
       "      <td>153</td>\n",
       "    </tr>\n",
       "    <tr>\n",
       "      <th>2973445</th>\n",
       "      <td>5</td>\n",
       "      <td>371.30</td>\n",
       "      <td>2509.40</td>\n",
       "      <td>87</td>\n",
       "    </tr>\n",
       "    <tr>\n",
       "      <th>2977084</th>\n",
       "      <td>4</td>\n",
       "      <td>683.60</td>\n",
       "      <td>3534.60</td>\n",
       "      <td>85</td>\n",
       "    </tr>\n",
       "    <tr>\n",
       "      <th>2982525</th>\n",
       "      <td>0</td>\n",
       "      <td>85.85</td>\n",
       "      <td>6890.00</td>\n",
       "      <td>236</td>\n",
       "    </tr>\n",
       "    <tr>\n",
       "      <th>3951710</th>\n",
       "      <td>0</td>\n",
       "      <td>96.76</td>\n",
       "      <td>6607.00</td>\n",
       "      <td>81</td>\n",
       "    </tr>\n",
       "    <tr>\n",
       "      <th>4022031</th>\n",
       "      <td>1</td>\n",
       "      <td>240.70</td>\n",
       "      <td>2464.30</td>\n",
       "      <td>97</td>\n",
       "    </tr>\n",
       "  </tbody>\n",
       "</table>\n",
       "</div>"
      ],
      "text/plain": [
       "         kills  damageDealt  total_distance  weaponsAcquired\n",
       "233643       0        67.11         3187.00              128\n",
       "1437471      1       100.00         5299.21              102\n",
       "1449293      0         0.00          653.10               95\n",
       "1834515      0        26.46         2835.00               96\n",
       "2442962      0         0.00          807.60               95\n",
       "2743408      2       186.90         3318.00              167\n",
       "2749693      3       378.90         3641.70              177\n",
       "2797867      0         0.00         1235.00              153\n",
       "2973445      5       371.30         2509.40               87\n",
       "2977084      4       683.60         3534.60               85\n",
       "2982525      0        85.85         6890.00              236\n",
       "3951710      0        96.76         6607.00               81\n",
       "4022031      1       240.70         2464.30               97"
      ]
     },
     "execution_count": 20,
     "metadata": {},
     "output_type": "execute_result"
    }
   ],
   "source": [
    "bins = [5, 10, 20, 30, 40, 60, 80, 100, 200, 400]\n",
    "print(pd.cut(train_std['weaponsAcquired'], bins).value_counts())\n",
    "print(train_std['weaponsAcquired'].describe())\n",
    "train_std[train_std['weaponsAcquired'] > 80][['kills', 'damageDealt', 'total_distance', 'weaponsAcquired']]"
   ]
  },
  {
   "cell_type": "code",
   "execution_count": 21,
   "metadata": {},
   "outputs": [
    {
     "name": "stdout",
     "output_type": "stream",
     "text": [
      "count    4.411699e+06\n",
      "mean     2.299348e-02\n",
      "std      6.209043e-01\n",
      "min      0.000000e+00\n",
      "25%      1.442793e-03\n",
      "50%      3.549246e-03\n",
      "75%      1.146132e-02\n",
      "max      1.000000e+03\n",
      "dtype: float64\n",
      "0.16597510373443983\n",
      "3.0\n",
      "11.092431243095133\n"
     ]
    },
    {
     "data": {
      "text/html": [
       "<div>\n",
       "<style scoped>\n",
       "    .dataframe tbody tr th:only-of-type {\n",
       "        vertical-align: middle;\n",
       "    }\n",
       "\n",
       "    .dataframe tbody tr th {\n",
       "        vertical-align: top;\n",
       "    }\n",
       "\n",
       "    .dataframe thead th {\n",
       "        text-align: right;\n",
       "    }\n",
       "</style>\n",
       "<table border=\"1\" class=\"dataframe\">\n",
       "  <thead>\n",
       "    <tr style=\"text-align: right;\">\n",
       "      <th></th>\n",
       "      <th>total_distance</th>\n",
       "      <th>kills</th>\n",
       "      <th>weaponsAcquired</th>\n",
       "    </tr>\n",
       "  </thead>\n",
       "  <tbody>\n",
       "    <tr>\n",
       "      <th>count</th>\n",
       "      <td>452.000000</td>\n",
       "      <td>452.000000</td>\n",
       "      <td>452.000000</td>\n",
       "    </tr>\n",
       "    <tr>\n",
       "      <th>mean</th>\n",
       "      <td>0.226863</td>\n",
       "      <td>0.019912</td>\n",
       "      <td>1.192478</td>\n",
       "    </tr>\n",
       "    <tr>\n",
       "      <th>std</th>\n",
       "      <td>0.154147</td>\n",
       "      <td>0.154896</td>\n",
       "      <td>0.524889</td>\n",
       "    </tr>\n",
       "    <tr>\n",
       "      <th>min</th>\n",
       "      <td>0.001000</td>\n",
       "      <td>0.000000</td>\n",
       "      <td>1.000000</td>\n",
       "    </tr>\n",
       "    <tr>\n",
       "      <th>25%</th>\n",
       "      <td>0.112775</td>\n",
       "      <td>0.000000</td>\n",
       "      <td>1.000000</td>\n",
       "    </tr>\n",
       "    <tr>\n",
       "      <th>50%</th>\n",
       "      <td>0.232450</td>\n",
       "      <td>0.000000</td>\n",
       "      <td>1.000000</td>\n",
       "    </tr>\n",
       "    <tr>\n",
       "      <th>75%</th>\n",
       "      <td>0.293350</td>\n",
       "      <td>0.000000</td>\n",
       "      <td>1.000000</td>\n",
       "    </tr>\n",
       "    <tr>\n",
       "      <th>max</th>\n",
       "      <td>1.373000</td>\n",
       "      <td>2.000000</td>\n",
       "      <td>8.000000</td>\n",
       "    </tr>\n",
       "  </tbody>\n",
       "</table>\n",
       "</div>"
      ],
      "text/plain": [
       "       total_distance       kills  weaponsAcquired\n",
       "count      452.000000  452.000000       452.000000\n",
       "mean         0.226863    0.019912         1.192478\n",
       "std          0.154147    0.154896         0.524889\n",
       "min          0.001000    0.000000         1.000000\n",
       "25%          0.112775    0.000000         1.000000\n",
       "50%          0.232450    0.000000         1.000000\n",
       "75%          0.293350    0.000000         1.000000\n",
       "max          1.373000    2.000000         8.000000"
      ]
     },
     "execution_count": 21,
     "metadata": {},
     "output_type": "execute_result"
    }
   ],
   "source": [
    "df_temp = train_std['total_distance'].copy()\n",
    "df_temp[df_temp == 0] = 1\n",
    "rate = train_std['weaponsAcquired'] / df_temp\n",
    "print(rate.describe())\n",
    "print(rate.quantile(0.99))\n",
    "print(rate.quantile(0.999))\n",
    "print(rate.quantile(0.9999))\n",
    "\n",
    "train_std[(train_std['weaponsAcquired'] / train_std['total_distance'] > 3) & \n",
    "          (train_std['total_distance']>0)\n",
    "         ][['total_distance', 'kills', 'weaponsAcquired']].describe()"
   ]
  },
  {
   "cell_type": "code",
   "execution_count": 48,
   "metadata": {},
   "outputs": [
    {
     "name": "stdout",
     "output_type": "stream",
     "text": [
      "count    91217.00000\n",
      "mean         0.16452\n",
      "std          0.42446\n",
      "min          0.00000\n",
      "25%          0.00000\n",
      "50%          0.00000\n",
      "75%          0.00000\n",
      "max          2.00000\n",
      "Name: weaponsAcquired, dtype: float64\n",
      "29         0.0\n",
      "116        0.0\n",
      "151        0.0\n",
      "237        0.0\n",
      "283        0.0\n",
      "404        0.0\n",
      "520        0.0\n",
      "606        0.0\n",
      "619        0.0\n",
      "638        0.0\n",
      "666        0.0\n",
      "711        1.0\n",
      "714        0.0\n",
      "863        0.0\n",
      "1123       0.0\n",
      "1237       0.0\n",
      "1261       0.0\n",
      "1285       0.0\n",
      "1297       0.0\n",
      "1402       0.0\n",
      "1407       0.0\n",
      "1416       0.0\n",
      "1433       1.0\n",
      "1466       0.0\n",
      "1475       0.0\n",
      "1490       0.0\n",
      "1523       0.0\n",
      "1642       0.0\n",
      "1647       0.0\n",
      "1681       0.0\n",
      "          ... \n",
      "4446099    0.0\n",
      "4446157    1.0\n",
      "4446175    0.0\n",
      "4446255    0.0\n",
      "4446292    0.0\n",
      "4446312    0.0\n",
      "4446340    0.0\n",
      "4446347    0.0\n",
      "4446397    0.0\n",
      "4446409    0.0\n",
      "4446411    0.0\n",
      "4446427    0.0\n",
      "4446448    0.0\n",
      "4446464    1.0\n",
      "4446544    0.0\n",
      "4446551    0.0\n",
      "4446574    0.0\n",
      "4446585    0.0\n",
      "4446592    0.0\n",
      "4446618    0.0\n",
      "4446650    0.0\n",
      "4446743    0.0\n",
      "4446779    0.0\n",
      "4446786    1.0\n",
      "4446812    1.0\n",
      "4446843    0.0\n",
      "4446849    0.0\n",
      "4446905    1.0\n",
      "4446926    0.0\n",
      "4446958    0.0\n",
      "Name: weaponsAcquired, Length: 91217, dtype: float64\n"
     ]
    }
   ],
   "source": [
    "print(train_std[train_std['total_distance'] == 0]['weaponsAcquired'].describe())"
   ]
  },
  {
   "cell_type": "code",
   "execution_count": 23,
   "metadata": {},
   "outputs": [
    {
     "data": {
      "text/plain": [
       "(-1, 0]     78159\n",
       "(0, 1]      11111\n",
       "(1, 2]       1948\n",
       "(3, 5]       1370\n",
       "(5, 10]      1331\n",
       "(2, 3]       1029\n",
       "(10, 30]      439\n",
       "(30, 60]       11\n",
       "Name: weaponsAcquired, dtype: int64"
      ]
     },
     "execution_count": 23,
     "metadata": {},
     "output_type": "execute_result"
    }
   ],
   "source": [
    "bins = (-1, 0, 1, 2, 3, 5, 10, 30, 60)\n",
    "pd.cut(train_std[train_std['total_distance'] == 0]['weaponsAcquired'], bins).value_counts()"
   ]
  },
  {
   "cell_type": "code",
   "execution_count": 24,
   "metadata": {},
   "outputs": [],
   "source": [
    "# zombie_mode = train_data.loc[(train_data['weaponsAcquired']==0)&(train_data['walkDistance']>1000)&(train_data['rideDistance']==0)&(train_data['heals']==0)&(train_data['boosts']==0)]\n",
    "# zombie_mode['matchType']"
   ]
  },
  {
   "cell_type": "code",
   "execution_count": 25,
   "metadata": {},
   "outputs": [
    {
     "data": {
      "text/plain": [
       "Index(['Id', 'groupId', 'matchId', 'assists', 'boosts', 'damageDealt', 'DBNOs',\n",
       "       'headshotKills', 'heals', 'killPlace', 'killPoints', 'kills',\n",
       "       'killStreaks', 'longestKill', 'matchDuration', 'matchType', 'maxPlace',\n",
       "       'numGroups', 'rankPoints', 'revives', 'rideDistance', 'roadKills',\n",
       "       'swimDistance', 'teamKills', 'vehicleDestroys', 'walkDistance',\n",
       "       'weaponsAcquired', 'winPoints', 'winPlacePerc', 'player_joined',\n",
       "       'group_members', 'total_distance', 'avg_max_walk_speed',\n",
       "       'total_med_items', 'headshot_rate', 'damage_per_enermy'],\n",
       "      dtype='object')"
      ]
     },
     "execution_count": 25,
     "metadata": {},
     "output_type": "execute_result"
    }
   ],
   "source": [
    "train_std.columns"
   ]
  },
  {
   "cell_type": "markdown",
   "metadata": {},
   "source": [
    "#### Med items"
   ]
  },
  {
   "cell_type": "code",
   "execution_count": 26,
   "metadata": {},
   "outputs": [
    {
     "name": "stdout",
     "output_type": "stream",
     "text": [
      "count    4.411699e+06\n",
      "mean     1.362065e+00\n",
      "std      2.669458e+00\n",
      "min      0.000000e+00\n",
      "25%      0.000000e+00\n",
      "50%      0.000000e+00\n",
      "75%      2.000000e+00\n",
      "max      8.000000e+01\n",
      "Name: heals, dtype: float64\n",
      "33.0\n"
     ]
    },
    {
     "data": {
      "text/plain": [
       "(-1, 0]     2632580\n",
       "(1, 5]       790441\n",
       "(0, 1]       667755\n",
       "(5, 10]      247216\n",
       "(10, 20]      67901\n",
       "(20, 30]       5134\n",
       "(30, 40]        558\n",
       "(40, 50]         95\n",
       "(50, 60]         13\n",
       "(60, 70]          4\n",
       "(70, 80]          2\n",
       "Name: heals, dtype: int64"
      ]
     },
     "execution_count": 26,
     "metadata": {},
     "output_type": "execute_result"
    }
   ],
   "source": [
    "print(train_std['heals'].describe())\n",
    "print(train_std['heals'].quantile(0.9999))\n",
    "bins = [-1, 0, 1, 5, 10, 20, 30, 40, 50, 60, 70, 80]\n",
    "# train_std['heals'].value_counts()\n",
    "pd.cut(train_std['heals'], bins).value_counts()"
   ]
  },
  {
   "cell_type": "code",
   "execution_count": 27,
   "metadata": {},
   "outputs": [
    {
     "data": {
      "text/html": [
       "<div>\n",
       "<style scoped>\n",
       "    .dataframe tbody tr th:only-of-type {\n",
       "        vertical-align: middle;\n",
       "    }\n",
       "\n",
       "    .dataframe tbody tr th {\n",
       "        vertical-align: top;\n",
       "    }\n",
       "\n",
       "    .dataframe thead th {\n",
       "        text-align: right;\n",
       "    }\n",
       "</style>\n",
       "<table border=\"1\" class=\"dataframe\">\n",
       "  <thead>\n",
       "    <tr style=\"text-align: right;\">\n",
       "      <th></th>\n",
       "      <th>kills</th>\n",
       "      <th>winPlacePerc</th>\n",
       "      <th>total_distance</th>\n",
       "      <th>boosts</th>\n",
       "      <th>heals</th>\n",
       "    </tr>\n",
       "  </thead>\n",
       "  <tbody>\n",
       "    <tr>\n",
       "      <th>126439</th>\n",
       "      <td>0</td>\n",
       "      <td>0.8333</td>\n",
       "      <td>1343.443</td>\n",
       "      <td>2</td>\n",
       "      <td>52</td>\n",
       "    </tr>\n",
       "    <tr>\n",
       "      <th>700615</th>\n",
       "      <td>0</td>\n",
       "      <td>0.6364</td>\n",
       "      <td>1626.600</td>\n",
       "      <td>3</td>\n",
       "      <td>61</td>\n",
       "    </tr>\n",
       "    <tr>\n",
       "      <th>807030</th>\n",
       "      <td>0</td>\n",
       "      <td>0.8617</td>\n",
       "      <td>5610.970</td>\n",
       "      <td>5</td>\n",
       "      <td>57</td>\n",
       "    </tr>\n",
       "    <tr>\n",
       "      <th>996709</th>\n",
       "      <td>0</td>\n",
       "      <td>0.8481</td>\n",
       "      <td>5658.000</td>\n",
       "      <td>6</td>\n",
       "      <td>63</td>\n",
       "    </tr>\n",
       "    <tr>\n",
       "      <th>1491736</th>\n",
       "      <td>2</td>\n",
       "      <td>0.8148</td>\n",
       "      <td>3963.000</td>\n",
       "      <td>2</td>\n",
       "      <td>55</td>\n",
       "    </tr>\n",
       "    <tr>\n",
       "      <th>2067819</th>\n",
       "      <td>1</td>\n",
       "      <td>0.8750</td>\n",
       "      <td>5149.000</td>\n",
       "      <td>7</td>\n",
       "      <td>59</td>\n",
       "    </tr>\n",
       "    <tr>\n",
       "      <th>2322626</th>\n",
       "      <td>1</td>\n",
       "      <td>0.9231</td>\n",
       "      <td>2575.500</td>\n",
       "      <td>5</td>\n",
       "      <td>52</td>\n",
       "    </tr>\n",
       "    <tr>\n",
       "      <th>2372719</th>\n",
       "      <td>2</td>\n",
       "      <td>1.0000</td>\n",
       "      <td>5759.000</td>\n",
       "      <td>3</td>\n",
       "      <td>54</td>\n",
       "    </tr>\n",
       "    <tr>\n",
       "      <th>2636846</th>\n",
       "      <td>0</td>\n",
       "      <td>0.7037</td>\n",
       "      <td>816.800</td>\n",
       "      <td>14</td>\n",
       "      <td>51</td>\n",
       "    </tr>\n",
       "    <tr>\n",
       "      <th>2822121</th>\n",
       "      <td>0</td>\n",
       "      <td>0.7778</td>\n",
       "      <td>6433.960</td>\n",
       "      <td>4</td>\n",
       "      <td>51</td>\n",
       "    </tr>\n",
       "    <tr>\n",
       "      <th>3165620</th>\n",
       "      <td>0</td>\n",
       "      <td>0.9579</td>\n",
       "      <td>2348.240</td>\n",
       "      <td>4</td>\n",
       "      <td>56</td>\n",
       "    </tr>\n",
       "    <tr>\n",
       "      <th>3419345</th>\n",
       "      <td>1</td>\n",
       "      <td>0.8409</td>\n",
       "      <td>9082.000</td>\n",
       "      <td>8</td>\n",
       "      <td>61</td>\n",
       "    </tr>\n",
       "    <tr>\n",
       "      <th>3476343</th>\n",
       "      <td>1</td>\n",
       "      <td>0.8889</td>\n",
       "      <td>7755.000</td>\n",
       "      <td>4</td>\n",
       "      <td>73</td>\n",
       "    </tr>\n",
       "    <tr>\n",
       "      <th>3502324</th>\n",
       "      <td>2</td>\n",
       "      <td>0.7857</td>\n",
       "      <td>2385.000</td>\n",
       "      <td>5</td>\n",
       "      <td>59</td>\n",
       "    </tr>\n",
       "    <tr>\n",
       "      <th>3522954</th>\n",
       "      <td>1</td>\n",
       "      <td>0.9053</td>\n",
       "      <td>6790.000</td>\n",
       "      <td>6</td>\n",
       "      <td>55</td>\n",
       "    </tr>\n",
       "    <tr>\n",
       "      <th>3562406</th>\n",
       "      <td>0</td>\n",
       "      <td>0.9072</td>\n",
       "      <td>3191.100</td>\n",
       "      <td>3</td>\n",
       "      <td>54</td>\n",
       "    </tr>\n",
       "    <tr>\n",
       "      <th>3622559</th>\n",
       "      <td>0</td>\n",
       "      <td>0.9655</td>\n",
       "      <td>7337.000</td>\n",
       "      <td>5</td>\n",
       "      <td>51</td>\n",
       "    </tr>\n",
       "    <tr>\n",
       "      <th>4262662</th>\n",
       "      <td>0</td>\n",
       "      <td>0.7600</td>\n",
       "      <td>4299.700</td>\n",
       "      <td>1</td>\n",
       "      <td>80</td>\n",
       "    </tr>\n",
       "    <tr>\n",
       "      <th>4397805</th>\n",
       "      <td>0</td>\n",
       "      <td>0.8367</td>\n",
       "      <td>2629.000</td>\n",
       "      <td>1</td>\n",
       "      <td>62</td>\n",
       "    </tr>\n",
       "  </tbody>\n",
       "</table>\n",
       "</div>"
      ],
      "text/plain": [
       "         kills  winPlacePerc  total_distance  boosts  heals\n",
       "126439       0        0.8333        1343.443       2     52\n",
       "700615       0        0.6364        1626.600       3     61\n",
       "807030       0        0.8617        5610.970       5     57\n",
       "996709       0        0.8481        5658.000       6     63\n",
       "1491736      2        0.8148        3963.000       2     55\n",
       "2067819      1        0.8750        5149.000       7     59\n",
       "2322626      1        0.9231        2575.500       5     52\n",
       "2372719      2        1.0000        5759.000       3     54\n",
       "2636846      0        0.7037         816.800      14     51\n",
       "2822121      0        0.7778        6433.960       4     51\n",
       "3165620      0        0.9579        2348.240       4     56\n",
       "3419345      1        0.8409        9082.000       8     61\n",
       "3476343      1        0.8889        7755.000       4     73\n",
       "3502324      2        0.7857        2385.000       5     59\n",
       "3522954      1        0.9053        6790.000       6     55\n",
       "3562406      0        0.9072        3191.100       3     54\n",
       "3622559      0        0.9655        7337.000       5     51\n",
       "4262662      0        0.7600        4299.700       1     80\n",
       "4397805      0        0.8367        2629.000       1     62"
      ]
     },
     "execution_count": 27,
     "metadata": {},
     "output_type": "execute_result"
    }
   ],
   "source": [
    "train_std[train_std['heals'] > 50][['kills', 'winPlacePerc', 'total_distance', 'boosts', 'heals']]"
   ]
  },
  {
   "cell_type": "code",
   "execution_count": 28,
   "metadata": {},
   "outputs": [
    {
     "name": "stderr",
     "output_type": "stream",
     "text": [
      "/Users/leonling/workspace/pyenv/scientific/lib/python3.7/site-packages/scipy/stats/stats.py:1713: FutureWarning: Using a non-tuple sequence for multidimensional indexing is deprecated; use `arr[tuple(seq)]` instead of `arr[seq]`. In the future this will be interpreted as an array index, `arr[np.array(seq)]`, which will result either in an error or a different result.\n",
      "  return np.add.reduce(sorted[indexer] * weights, axis=axis) / sumval\n"
     ]
    },
    {
     "data": {
      "image/png": "[encoded data removed]",
      "text/plain": [
       "<Figure size 1080x288 with 1 Axes>"
      ]
     },
     "metadata": {
      "needs_background": "light"
     },
     "output_type": "display_data"
    }
   ],
   "source": [
    "show_dist_plt(train_std, 'total_med_items')"
   ]
  },
  {
   "cell_type": "code",
   "execution_count": 13,
   "metadata": {},
   "outputs": [
    {
     "name": "stdout",
     "output_type": "stream",
     "text": [
      "       matchDuration\n",
      "count   4.411699e+06\n",
      "mean    1.580703e+03\n",
      "std     2.544940e+02\n",
      "min     9.000000e+00\n",
      "25%     1.367000e+03\n",
      "50%     1.438000e+03\n",
      "75%     1.850000e+03\n",
      "max     2.237000e+03\n"
     ]
    },
    {
     "data": {
      "image/png": "[encoded data removed]",
      "text/plain": [
       "<Figure size 1080x288 with 1 Axes>"
      ]
     },
     "metadata": {
      "needs_background": "light"
     },
     "output_type": "display_data"
    }
   ],
   "source": [
    "print(train_std[['matchDuration']].describe())\n",
    "show_dist_plt(train_std.query(), 'matchDuration')"
   ]
  },
  {
   "cell_type": "code",
   "execution_count": 30,
   "metadata": {},
   "outputs": [
    {
     "data": {
      "text/html": [
       "<div>\n",
       "<style scoped>\n",
       "    .dataframe tbody tr th:only-of-type {\n",
       "        vertical-align: middle;\n",
       "    }\n",
       "\n",
       "    .dataframe tbody tr th {\n",
       "        vertical-align: top;\n",
       "    }\n",
       "\n",
       "    .dataframe thead th {\n",
       "        text-align: right;\n",
       "    }\n",
       "</style>\n",
       "<table border=\"1\" class=\"dataframe\">\n",
       "  <thead>\n",
       "    <tr style=\"text-align: right;\">\n",
       "      <th></th>\n",
       "      <th>heals</th>\n",
       "      <th>weaponsAcquired</th>\n",
       "      <th>total_distance</th>\n",
       "      <th>kills</th>\n",
       "      <th>winPlacePerc</th>\n",
       "    </tr>\n",
       "  </thead>\n",
       "  <tbody>\n",
       "    <tr>\n",
       "      <th>493086</th>\n",
       "      <td>0</td>\n",
       "      <td>42</td>\n",
       "      <td>0.0</td>\n",
       "      <td>0</td>\n",
       "      <td>0.0</td>\n",
       "    </tr>\n",
       "    <tr>\n",
       "      <th>3260247</th>\n",
       "      <td>0</td>\n",
       "      <td>41</td>\n",
       "      <td>0.0</td>\n",
       "      <td>0</td>\n",
       "      <td>1.0</td>\n",
       "    </tr>\n",
       "    <tr>\n",
       "      <th>3620215</th>\n",
       "      <td>0</td>\n",
       "      <td>52</td>\n",
       "      <td>0.0</td>\n",
       "      <td>0</td>\n",
       "      <td>1.0</td>\n",
       "    </tr>\n",
       "  </tbody>\n",
       "</table>\n",
       "</div>"
      ],
      "text/plain": [
       "         heals  weaponsAcquired  total_distance  kills  winPlacePerc\n",
       "493086       0               42             0.0      0           0.0\n",
       "3260247      0               41             0.0      0           1.0\n",
       "3620215      0               52             0.0      0           1.0"
      ]
     },
     "execution_count": 30,
     "metadata": {},
     "output_type": "execute_result"
    }
   ],
   "source": [
    "train_std.query('weaponsAcquired>40 and total_distance==0')[['heals', 'weaponsAcquired', 'total_distance', 'kills', 'winPlacePerc']]"
   ]
  },
  {
   "cell_type": "code",
   "execution_count": 19,
   "metadata": {},
   "outputs": [
    {
     "name": "stdout",
     "output_type": "stream",
     "text": [
      "count    10208.000000\n",
      "mean      1388.477763\n",
      "std        381.566332\n",
      "min          0.000000\n",
      "25%       1433.000000\n",
      "50%       1483.000000\n",
      "75%       1507.000000\n",
      "max       4249.000000\n",
      "Name: rankPoints, dtype: float64\n",
      "count    1.294412e+06\n",
      "mean     1.438166e+03\n",
      "std      3.010042e+02\n",
      "min      0.000000e+00\n",
      "25%      1.455000e+03\n",
      "50%      1.494000e+03\n",
      "75%      1.514000e+03\n",
      "max      5.910000e+03\n",
      "Name: rankPoints, dtype: float64\n",
      "count    858909.000000\n",
      "mean       1452.259556\n",
      "std         250.218886\n",
      "min           0.000000\n",
      "25%        1461.000000\n",
      "50%        1494.000000\n",
      "75%        1508.000000\n",
      "max        3094.000000\n",
      "Name: rankPoints, dtype: float64\n",
      "count    17549.000000\n",
      "mean       807.239159\n",
      "std        744.642444\n",
      "min         -1.000000\n",
      "25%         -1.000000\n",
      "50%       1379.000000\n",
      "75%       1493.000000\n",
      "max       4249.000000\n",
      "Name: rankPoints, dtype: float64\n",
      "count    2.241982e+06\n",
      "mean     8.299048e+02\n",
      "std      7.468048e+02\n",
      "min     -1.000000e+00\n",
      "25%     -1.000000e+00\n",
      "50%      1.411000e+03\n",
      "75%      1.500000e+03\n",
      "max      5.910000e+03\n",
      "Name: rankPoints, dtype: float64\n",
      "count    1.287811e+06\n",
      "mean     9.682554e+02\n",
      "std      7.147598e+02\n",
      "min     -1.000000e+00\n",
      "25%     -1.000000e+00\n",
      "50%      1.461000e+03\n",
      "75%      1.500000e+03\n",
      "max      3.094000e+03\n",
      "Name: rankPoints, dtype: float64\n",
      "count    35.000000\n",
      "mean      0.533985\n",
      "std       0.353454\n",
      "min       0.000000\n",
      "25%       0.281746\n",
      "50%       0.600000\n",
      "75%       0.888889\n",
      "max       1.000000\n",
      "Name: headshot_rate, dtype: float64\n",
      "count    1.294412e+06\n",
      "mean     9.310057e-01\n",
      "std      1.498461e+00\n",
      "min      0.000000e+00\n",
      "25%      0.000000e+00\n",
      "50%      0.000000e+00\n",
      "75%      1.000000e+00\n",
      "max      2.500000e+01\n",
      "Name: kills, dtype: float64\n",
      "count    858909.000000\n",
      "mean          0.882213\n",
      "std           1.502430\n",
      "min           0.000000\n",
      "25%           0.000000\n",
      "50%           0.000000\n",
      "75%           1.000000\n",
      "max          25.000000\n",
      "Name: kills, dtype: float64\n"
     ]
    },
    {
     "data": {
      "image/png": "[encoded data removed]",
      "text/plain": [
       "<Figure size 1080x288 with 1 Axes>"
      ]
     },
     "metadata": {
      "needs_background": "light"
     },
     "output_type": "display_data"
    },
    {
     "data": {
      "image/png": "[encoded data removed]",
      "text/plain": [
       "<Figure size 1080x288 with 1 Axes>"
      ]
     },
     "metadata": {
      "needs_background": "light"
     },
     "output_type": "display_data"
    }
   ],
   "source": [
    "print(train_std.query('matchDuration<1200 and rankPoints != -1')['rankPoints'].describe())\n",
    "print(train_std.query('matchDuration>1250 and matchDuration<1450 and rankPoints != -1')['rankPoints'].describe())\n",
    "print(train_std.query('matchDuration>1700 and matchDuration<1900 and rankPoints != -1')['rankPoints'].describe())\n",
    "\n",
    "print(train_std.query('matchDuration<1200')['rankPoints'].describe())\n",
    "print(train_std.query('matchDuration>1250 and matchDuration<1450')['rankPoints'].describe())\n",
    "print(train_std.query('matchDuration>1700 and matchDuration<1900')['rankPoints'].describe())\n",
    "\n",
    "print(train_std.query('rankPoints == -1 and killStreaks > 8')['headshot_rate'].describe())\n",
    "print(train_std.query('matchDuration>1250 and matchDuration<1450 and rankPoints != -1')['kills'].describe())\n",
    "print(train_std.query('matchDuration>1700 and matchDuration<1900 and rankPoints != -1')['kills'].describe())\n",
    "\n",
    "show_dist_plt(train_std.query('matchDuration>1250 and matchDuration<1450 and rankPoints != -1'), 'rankPoints')\n",
    "show_dist_plt(train_std.query('matchDuration>1700 and matchDuration<1900 and rankPoints != -1'), 'rankPoints')\n",
    "\n",
    "# sns.boxplot(data=train_std.query('matchDuration>1250 and matchDuration<1450 and rankPoints != -1'), y='killStreaks')"
   ]
  },
  {
   "cell_type": "markdown",
   "metadata": {},
   "source": [
    "#### Others"
   ]
  },
  {
   "cell_type": "code",
   "execution_count": 38,
   "metadata": {},
   "outputs": [
    {
     "data": {
      "text/html": [
       "<div>\n",
       "<style scoped>\n",
       "    .dataframe tbody tr th:only-of-type {\n",
       "        vertical-align: middle;\n",
       "    }\n",
       "\n",
       "    .dataframe tbody tr th {\n",
       "        vertical-align: top;\n",
       "    }\n",
       "\n",
       "    .dataframe thead th {\n",
       "        text-align: right;\n",
       "    }\n",
       "</style>\n",
       "<table border=\"1\" class=\"dataframe\">\n",
       "  <thead>\n",
       "    <tr style=\"text-align: right;\">\n",
       "      <th></th>\n",
       "      <th>avg_max_walk_speed</th>\n",
       "      <th>walkDistance</th>\n",
       "      <th>winPlacePerc</th>\n",
       "    </tr>\n",
       "  </thead>\n",
       "  <tbody>\n",
       "    <tr>\n",
       "      <th>23026</th>\n",
       "      <td>7.098636</td>\n",
       "      <td>13530.0</td>\n",
       "      <td>0.8163</td>\n",
       "    </tr>\n",
       "    <tr>\n",
       "      <th>497965</th>\n",
       "      <td>13.647433</td>\n",
       "      <td>25780.0</td>\n",
       "      <td>0.9894</td>\n",
       "    </tr>\n",
       "    <tr>\n",
       "      <th>1051978</th>\n",
       "      <td>7.012630</td>\n",
       "      <td>12770.0</td>\n",
       "      <td>0.9615</td>\n",
       "    </tr>\n",
       "    <tr>\n",
       "      <th>1137979</th>\n",
       "      <td>7.041199</td>\n",
       "      <td>13160.0</td>\n",
       "      <td>0.9643</td>\n",
       "    </tr>\n",
       "    <tr>\n",
       "      <th>1188935</th>\n",
       "      <td>7.377140</td>\n",
       "      <td>13360.0</td>\n",
       "      <td>0.9643</td>\n",
       "    </tr>\n",
       "    <tr>\n",
       "      <th>1797162</th>\n",
       "      <td>8.219525</td>\n",
       "      <td>16250.0</td>\n",
       "      <td>0.6000</td>\n",
       "    </tr>\n",
       "    <tr>\n",
       "      <th>2078996</th>\n",
       "      <td>7.082505</td>\n",
       "      <td>14250.0</td>\n",
       "      <td>0.8000</td>\n",
       "    </tr>\n",
       "    <tr>\n",
       "      <th>2238900</th>\n",
       "      <td>8.408096</td>\n",
       "      <td>15370.0</td>\n",
       "      <td>0.8125</td>\n",
       "    </tr>\n",
       "    <tr>\n",
       "      <th>2395009</th>\n",
       "      <td>7.831263</td>\n",
       "      <td>15130.0</td>\n",
       "      <td>1.0000</td>\n",
       "    </tr>\n",
       "    <tr>\n",
       "      <th>2569946</th>\n",
       "      <td>7.613636</td>\n",
       "      <td>12730.0</td>\n",
       "      <td>0.7857</td>\n",
       "    </tr>\n",
       "    <tr>\n",
       "      <th>2660129</th>\n",
       "      <td>7.399757</td>\n",
       "      <td>12180.0</td>\n",
       "      <td>0.7692</td>\n",
       "    </tr>\n",
       "    <tr>\n",
       "      <th>2990339</th>\n",
       "      <td>7.240997</td>\n",
       "      <td>13070.0</td>\n",
       "      <td>0.9286</td>\n",
       "    </tr>\n",
       "    <tr>\n",
       "      <th>3174767</th>\n",
       "      <td>7.296399</td>\n",
       "      <td>13170.0</td>\n",
       "      <td>0.9286</td>\n",
       "    </tr>\n",
       "    <tr>\n",
       "      <th>3318429</th>\n",
       "      <td>7.316551</td>\n",
       "      <td>13660.0</td>\n",
       "      <td>0.8913</td>\n",
       "    </tr>\n",
       "    <tr>\n",
       "      <th>3523102</th>\n",
       "      <td>7.505981</td>\n",
       "      <td>12550.0</td>\n",
       "      <td>0.7857</td>\n",
       "    </tr>\n",
       "    <tr>\n",
       "      <th>3584192</th>\n",
       "      <td>7.429484</td>\n",
       "      <td>13960.0</td>\n",
       "      <td>0.9674</td>\n",
       "    </tr>\n",
       "    <tr>\n",
       "      <th>3645043</th>\n",
       "      <td>7.407615</td>\n",
       "      <td>13230.0</td>\n",
       "      <td>0.9565</td>\n",
       "    </tr>\n",
       "    <tr>\n",
       "      <th>3825937</th>\n",
       "      <td>7.250269</td>\n",
       "      <td>13500.0</td>\n",
       "      <td>0.7308</td>\n",
       "    </tr>\n",
       "    <tr>\n",
       "      <th>4042321</th>\n",
       "      <td>7.065614</td>\n",
       "      <td>11630.0</td>\n",
       "      <td>0.7308</td>\n",
       "    </tr>\n",
       "    <tr>\n",
       "      <th>4259976</th>\n",
       "      <td>7.961604</td>\n",
       "      <td>14100.0</td>\n",
       "      <td>0.7447</td>\n",
       "    </tr>\n",
       "    <tr>\n",
       "      <th>4405009</th>\n",
       "      <td>7.158849</td>\n",
       "      <td>13430.0</td>\n",
       "      <td>1.0000</td>\n",
       "    </tr>\n",
       "  </tbody>\n",
       "</table>\n",
       "</div>"
      ],
      "text/plain": [
       "         avg_max_walk_speed  walkDistance  winPlacePerc\n",
       "23026              7.098636       13530.0        0.8163\n",
       "497965            13.647433       25780.0        0.9894\n",
       "1051978            7.012630       12770.0        0.9615\n",
       "1137979            7.041199       13160.0        0.9643\n",
       "1188935            7.377140       13360.0        0.9643\n",
       "1797162            8.219525       16250.0        0.6000\n",
       "2078996            7.082505       14250.0        0.8000\n",
       "2238900            8.408096       15370.0        0.8125\n",
       "2395009            7.831263       15130.0        1.0000\n",
       "2569946            7.613636       12730.0        0.7857\n",
       "2660129            7.399757       12180.0        0.7692\n",
       "2990339            7.240997       13070.0        0.9286\n",
       "3174767            7.296399       13170.0        0.9286\n",
       "3318429            7.316551       13660.0        0.8913\n",
       "3523102            7.505981       12550.0        0.7857\n",
       "3584192            7.429484       13960.0        0.9674\n",
       "3645043            7.407615       13230.0        0.9565\n",
       "3825937            7.250269       13500.0        0.7308\n",
       "4042321            7.065614       11630.0        0.7308\n",
       "4259976            7.961604       14100.0        0.7447\n",
       "4405009            7.158849       13430.0        1.0000"
      ]
     },
     "execution_count": 38,
     "metadata": {},
     "output_type": "execute_result"
    }
   ],
   "source": [
    "train_std.query('avg_max_walk_speed > 7')[['avg_max_walk_speed', 'walkDistance', 'winPlacePerc']]"
   ]
  },
  {
   "cell_type": "code",
   "execution_count": 29,
   "metadata": {},
   "outputs": [
    {
     "data": {
      "text/plain": [
       "count    489.000000\n",
       "mean       5.629437\n",
       "std        0.690324\n",
       "min        5.003268\n",
       "25%        5.183011\n",
       "50%        5.411765\n",
       "75%        5.894001\n",
       "max       13.647433\n",
       "Name: avg_max_walk_speed, dtype: float64"
      ]
     },
     "execution_count": 29,
     "metadata": {},
     "output_type": "execute_result"
    }
   ],
   "source": [
    "train_std[train_std['avg_max_walk_speed'] > 5]['avg_max_walk_speed'].describe()"
   ]
  },
  {
   "cell_type": "code",
   "execution_count": 30,
   "metadata": {},
   "outputs": [
    {
     "data": {
      "image/png": "[encoded data removed]",
      "text/plain": [
       "<Figure size 1080x288 with 1 Axes>"
      ]
     },
     "metadata": {
      "needs_background": "light"
     },
     "output_type": "display_data"
    },
    {
     "name": "stdout",
     "output_type": "stream",
     "text": [
      "count    78903.000000\n",
      "mean         0.880904\n",
      "std          1.542623\n",
      "min          0.000000\n",
      "25%          0.000000\n",
      "50%          0.000000\n",
      "75%          1.000000\n",
      "max         22.000000\n",
      "Name: kills, dtype: float64\n",
      "count    78903.000000\n",
      "mean         0.522971\n",
      "std          0.718637\n",
      "min          0.000000\n",
      "25%          0.000000\n",
      "50%          0.000000\n",
      "75%          1.000000\n",
      "max          8.000000\n",
      "Name: killStreaks, dtype: float64\n",
      "count    4.411698e+06\n",
      "mean     1.580703e+03\n",
      "std      2.544929e+02\n",
      "min      7.280000e+02\n",
      "25%      1.367000e+03\n",
      "50%      1.438000e+03\n",
      "75%      1.850000e+03\n",
      "max      2.237000e+03\n",
      "Name: matchDuration, dtype: float64\n"
     ]
    }
   ],
   "source": [
    "show_dist_plt(train_std, 'matchDuration')\n",
    "print(train_std[(train_std['matchDuration'] <= 1750) & (train_std['matchDuration'] > 1650)]['kills'].describe())\n",
    "print(train_std[(train_std['matchDuration'] <= 1750) & (train_std['matchDuration'] > 1650)]['killStreaks'].describe())\n",
    "print(train_std[(train_std['matchDuration'] > 10)]['matchDuration'].describe())"
   ]
  },
  {
   "cell_type": "code",
   "execution_count": 31,
   "metadata": {},
   "outputs": [
    {
     "data": {
      "text/plain": [
       "0    4379084\n",
       "1      31421\n",
       "2       1105\n",
       "3         81\n",
       "4          6\n",
       "5          2\n",
       "Name: vehicleDestroys, dtype: int64"
      ]
     },
     "execution_count": 31,
     "metadata": {},
     "output_type": "execute_result"
    }
   ],
   "source": [
    "train_std['vehicleDestroys'].value_counts()"
   ]
  },
  {
   "cell_type": "code",
   "execution_count": 32,
   "metadata": {},
   "outputs": [
    {
     "data": {
      "text/plain": [
       "Index(['Id', 'groupId', 'matchId', 'assists', 'boosts', 'damageDealt', 'DBNOs',\n",
       "       'headshotKills', 'heals', 'killPlace', 'killPoints', 'kills',\n",
       "       'killStreaks', 'longestKill', 'matchDuration', 'matchType', 'maxPlace',\n",
       "       'numGroups', 'rankPoints', 'revives', 'rideDistance', 'roadKills',\n",
       "       'swimDistance', 'teamKills', 'vehicleDestroys', 'walkDistance',\n",
       "       'weaponsAcquired', 'winPoints', 'winPlacePerc', 'player_joined',\n",
       "       'group_members', 'total_distance', 'avg_max_walk_speed',\n",
       "       'total_med_items', 'headshot_rate', 'damage_per_enermy'],\n",
       "      dtype='object')"
      ]
     },
     "execution_count": 32,
     "metadata": {},
     "output_type": "execute_result"
    }
   ],
   "source": [
    "train_std.columns"
   ]
  },
  {
   "cell_type": "code",
   "execution_count": 33,
   "metadata": {},
   "outputs": [
    {
     "data": {
      "text/plain": [
       "killPlace            -0.720910\n",
       "group_members        -0.297230\n",
       "matchDuration        -0.004197\n",
       "damage_per_enermy     0.002622\n",
       "winPoints             0.007000\n",
       "killPoints            0.013001\n",
       "rankPoints            0.013751\n",
       "teamKills             0.016416\n",
       "player_joined         0.026233\n",
       "roadKills             0.031816\n",
       "maxPlace              0.038446\n",
       "numGroups             0.040720\n",
       "vehicleDestroys       0.072860\n",
       "swimDistance          0.150905\n",
       "headshot_rate         0.181161\n",
       "revives               0.241897\n",
       "headshotKills         0.282640\n",
       "DBNOs                 0.284162\n",
       "assists               0.305667\n",
       "rideDistance          0.345415\n",
       "killStreaks           0.377973\n",
       "longestKill           0.412435\n",
       "heals                 0.430058\n",
       "kills                 0.431588\n",
       "damageDealt           0.450645\n",
       "total_med_items       0.578390\n",
       "weaponsAcquired       0.617926\n",
       "boosts                0.636463\n",
       "total_distance        0.681970\n",
       "walkDistance          0.814679\n",
       "avg_max_walk_speed    0.829219\n",
       "winPlacePerc          1.000000\n",
       "Name: winPlacePerc, dtype: float64"
      ]
     },
     "execution_count": 33,
     "metadata": {},
     "output_type": "execute_result"
    }
   ],
   "source": [
    "train_std.corr()['winPlacePerc'].sort_values()"
   ]
  },
  {
   "cell_type": "code",
   "execution_count": 34,
   "metadata": {},
   "outputs": [
    {
     "data": {
      "text/plain": [
       "count             726082\n",
       "unique            114329\n",
       "top       b8275198faa03b\n",
       "freq                  72\n",
       "Name: groupId, dtype: object"
      ]
     },
     "execution_count": 34,
     "metadata": {},
     "output_type": "execute_result"
    }
   ],
   "source": [
    "train_std[train_std['group_members'] > 4]['groupId'].describe()"
   ]
  },
  {
   "cell_type": "code",
   "execution_count": 35,
   "metadata": {},
   "outputs": [
    {
     "data": {
      "text/plain": [
       "squad-fpp    1756186\n",
       "duo-fpp       996691\n",
       "squad         626526\n",
       "solo-fpp      536762\n",
       "duo           313591\n",
       "solo          181943\n",
       "Name: matchType, dtype: int64"
      ]
     },
     "execution_count": 35,
     "metadata": {},
     "output_type": "execute_result"
    }
   ],
   "source": [
    "train_std['matchType'].value_counts()"
   ]
  },
  {
   "cell_type": "raw",
   "metadata": {},
   "source": []
  },
  {
   "cell_type": "markdown",
   "metadata": {},
   "source": [
    "### Outliers, cheaters & illegal data cleaning "
   ]
  },
  {
   "cell_type": "code",
   "execution_count": 36,
   "metadata": {},
   "outputs": [],
   "source": [
    "# a. Cheat_1: Total distance (riding + swimming + walk) < 0 & kills > 0\n",
    "#     it seems ok\n",
    "# c. Cheat_3: Head shot rate = 1 & kills > 9\n",
    "#     *  Head shot rate = 1 & kills > 9 & (damage / kills) * 100 = 0\n",
    "#     *  \n",
    "# b. Cheat_2: Road Kills > 10\n",
    "#    this seems normal\n",
    "\n",
    "# d. Cheat_4: longest kill > 1000\n",
    "#     this seems reasonable\n",
    "\n",
    "# e. Cheat_5: weapons > 80\n",
    "#     total_dis = 0 & w > 2\n",
    "#    Focus on '# weapons' & '# weapons / dis'\n",
    "\n",
    "# f. Cheat_6: heal > 40\n",
    "#     reasonable, contains med kit & bandages\n",
    "\n",
    "# g. Cheat_7: avg_walk_speed > 6 (= walkDistance / matchDuration)\n",
    "#     stadard speed 6.2 "
   ]
  },
  {
   "cell_type": "code",
   "execution_count": 37,
   "metadata": {},
   "outputs": [],
   "source": [
    "# useful_cols = ['kills', 'assists', 'DBNOs', 'killStreaks',\n",
    "#                'headshotKills', 'longestKill', 'damageDealt', 'headshot_rate', 'killPlace',\n",
    "#                'boosts', 'heals', 'revives',\n",
    "#                'matchType', 'teamKills', 'vehicleDestroys',  # cut bins & one hot\n",
    "#                'walkDistance', 'rideDistance', 'swimDistance',  \n",
    "#                'weaponsAcquired', 'avg_max_walk_speed',\n",
    "#                'numGroups', 'player_joined', \n",
    "#                'winPlacePerc',\n",
    "#                'total_distance']  # not include\n",
    "\n",
    "# train_set = train_std[useful_cols]\n",
    "\n",
    "# normalized feature: 'kills',  'assists', 'DBNOs', 'killStreaks',\n",
    "# cut bins & one hot: 'matchType', 'teamKills', 'vehicleDestroys',"
   ]
  },
  {
   "cell_type": "code",
   "execution_count": 38,
   "metadata": {},
   "outputs": [
    {
     "data": {
      "text/plain": [
       "Int64Index([2744604], dtype='int64')"
      ]
     },
     "execution_count": 38,
     "metadata": {},
     "output_type": "execute_result"
    }
   ],
   "source": [
    "train_std[train_std['winPlacePerc'].isnull()].index"
   ]
  },
  {
   "cell_type": "code",
   "execution_count": 39,
   "metadata": {},
   "outputs": [
    {
     "name": "stderr",
     "output_type": "stream",
     "text": [
      "/Users/leonling/workspace/pyenv/scientific/lib/python3.7/site-packages/pandas/core/frame.py:3697: SettingWithCopyWarning: \n",
      "A value is trying to be set on a copy of a slice from a DataFrame\n",
      "\n",
      "See the caveats in the documentation: http://pandas.pydata.org/pandas-docs/stable/indexing.html#indexing-view-versus-copy\n",
      "  errors=errors)\n"
     ]
    }
   ],
   "source": [
    "# invalid win place\n",
    "# train_set[train_set['winPlacePerc'].isnull()][['matchType', 'winPlacePerc']]\n",
    "train_std.drop(train_std[train_std['winPlacePerc'].isnull()].index, inplace=True)\n",
    "\n",
    "# kill cheater\n",
    "train_std.drop(train_std[(train_std['headshot_rate']==1)&\n",
    "                         (((train_std['damageDealt'] / train_std['kills']) % 100 == 0))&\n",
    "                         (train_std['kills'] > 4)].index,\n",
    "              inplace=True)\n",
    "train_std.drop(train_std[train_std['killStreaks'] > 8].index, inplace=True)\n",
    "\n",
    "# weapons cheater\n",
    "train_std.drop(train_std[(train_std['total_distance']==0)&(train_std['weaponsAcquired']>2)].index, inplace=True)\n",
    "\n",
    "# speed cheater\n",
    "train_std.drop(train_std[train_std['avg_max_walk_speed']>6.2].index, inplace=True)\n"
   ]
  },
  {
   "cell_type": "markdown",
   "metadata": {},
   "source": [
    "### Feature Engeering"
   ]
  },
  {
   "cell_type": "code",
   "execution_count": 40,
   "metadata": {},
   "outputs": [],
   "source": [
    "\n",
    "from sklearn.preprocessing import Normalizer, MinMaxScaler, OneHotEncoder\n"
   ]
  },
  {
   "cell_type": "code",
   "execution_count": 41,
   "metadata": {},
   "outputs": [],
   "source": [
    "# cut bins to categorize features\n",
    "# normalization and standarization keep effects on match but not on training\n",
    "\n",
    "ohe = OneHotEncoder()\n",
    "\n",
    "maps = {\n",
    "    'squad': 2,\n",
    "    'duo': 1,\n",
    "    'solo': 0\n",
    "}\n",
    "temp_df = pd.DataFrame()\n",
    "temp_df['type'] = train_std['matchType'].map(lambda x : maps[x.split('-')[0]]) \n",
    "temp_df['aspect'] = train_std['matchType'].map(lambda x : len(x.split('-'))-1)\n",
    "types = ohe.fit_transform(temp_df.type.values.reshape(-1,1)).toarray()\n",
    "temp = pd.concat([pd.DataFrame(types, columns=['matchType_1', 'matchType_2', 'matchType_4']), temp_df['aspect']], axis=1)\n",
    "train_std = pd.concat([train_std, temp], axis=1)\n",
    "\n",
    "del temp_df, types, temp"
   ]
  },
  {
   "cell_type": "code",
   "execution_count": 42,
   "metadata": {},
   "outputs": [
    {
     "data": {
      "text/html": [
       "<div>\n",
       "<style scoped>\n",
       "    .dataframe tbody tr th:only-of-type {\n",
       "        vertical-align: middle;\n",
       "    }\n",
       "\n",
       "    .dataframe tbody tr th {\n",
       "        vertical-align: top;\n",
       "    }\n",
       "\n",
       "    .dataframe thead th {\n",
       "        text-align: right;\n",
       "    }\n",
       "</style>\n",
       "<table border=\"1\" class=\"dataframe\">\n",
       "  <thead>\n",
       "    <tr style=\"text-align: right;\">\n",
       "      <th></th>\n",
       "      <th>Id</th>\n",
       "      <th>groupId</th>\n",
       "      <th>matchId</th>\n",
       "      <th>assists</th>\n",
       "      <th>boosts</th>\n",
       "      <th>damageDealt</th>\n",
       "      <th>DBNOs</th>\n",
       "      <th>headshotKills</th>\n",
       "      <th>heals</th>\n",
       "      <th>killPlace</th>\n",
       "      <th>...</th>\n",
       "      <th>group_members</th>\n",
       "      <th>total_distance</th>\n",
       "      <th>avg_max_walk_speed</th>\n",
       "      <th>total_med_items</th>\n",
       "      <th>headshot_rate</th>\n",
       "      <th>damage_per_enermy</th>\n",
       "      <th>matchType_1</th>\n",
       "      <th>matchType_2</th>\n",
       "      <th>matchType_4</th>\n",
       "      <th>aspect</th>\n",
       "    </tr>\n",
       "  </thead>\n",
       "  <tbody>\n",
       "    <tr>\n",
       "      <th>0</th>\n",
       "      <td>7f96b2f878858a</td>\n",
       "      <td>4d4b580de459be</td>\n",
       "      <td>a10357fd1a4a91</td>\n",
       "      <td>0.0</td>\n",
       "      <td>0.0</td>\n",
       "      <td>0.00</td>\n",
       "      <td>0.0</td>\n",
       "      <td>0.0</td>\n",
       "      <td>0.0</td>\n",
       "      <td>60.0</td>\n",
       "      <td>...</td>\n",
       "      <td>4.0</td>\n",
       "      <td>244.8000</td>\n",
       "      <td>0.187443</td>\n",
       "      <td>0.0</td>\n",
       "      <td>0.0</td>\n",
       "      <td>NaN</td>\n",
       "      <td>0.0</td>\n",
       "      <td>0.0</td>\n",
       "      <td>1.0</td>\n",
       "      <td>1.0</td>\n",
       "    </tr>\n",
       "    <tr>\n",
       "      <th>1</th>\n",
       "      <td>eef90569b9d03c</td>\n",
       "      <td>684d5656442f9e</td>\n",
       "      <td>aeb375fc57110c</td>\n",
       "      <td>0.0</td>\n",
       "      <td>0.0</td>\n",
       "      <td>91.47</td>\n",
       "      <td>0.0</td>\n",
       "      <td>0.0</td>\n",
       "      <td>0.0</td>\n",
       "      <td>57.0</td>\n",
       "      <td>...</td>\n",
       "      <td>4.0</td>\n",
       "      <td>1445.0445</td>\n",
       "      <td>0.806978</td>\n",
       "      <td>0.0</td>\n",
       "      <td>0.0</td>\n",
       "      <td>inf</td>\n",
       "      <td>0.0</td>\n",
       "      <td>0.0</td>\n",
       "      <td>1.0</td>\n",
       "      <td>1.0</td>\n",
       "    </tr>\n",
       "    <tr>\n",
       "      <th>2</th>\n",
       "      <td>1eaf90ac73de72</td>\n",
       "      <td>6a4a42c3245a74</td>\n",
       "      <td>110163d8bb94ae</td>\n",
       "      <td>1.0</td>\n",
       "      <td>0.0</td>\n",
       "      <td>68.00</td>\n",
       "      <td>0.0</td>\n",
       "      <td>0.0</td>\n",
       "      <td>0.0</td>\n",
       "      <td>47.0</td>\n",
       "      <td>...</td>\n",
       "      <td>2.0</td>\n",
       "      <td>161.8000</td>\n",
       "      <td>0.122762</td>\n",
       "      <td>0.0</td>\n",
       "      <td>0.0</td>\n",
       "      <td>68.000000</td>\n",
       "      <td>0.0</td>\n",
       "      <td>1.0</td>\n",
       "      <td>0.0</td>\n",
       "      <td>0.0</td>\n",
       "    </tr>\n",
       "    <tr>\n",
       "      <th>3</th>\n",
       "      <td>4616d365dd2853</td>\n",
       "      <td>a930a9c79cd721</td>\n",
       "      <td>f1f1f4ef412d7e</td>\n",
       "      <td>0.0</td>\n",
       "      <td>0.0</td>\n",
       "      <td>32.90</td>\n",
       "      <td>0.0</td>\n",
       "      <td>0.0</td>\n",
       "      <td>0.0</td>\n",
       "      <td>75.0</td>\n",
       "      <td>...</td>\n",
       "      <td>1.0</td>\n",
       "      <td>202.7000</td>\n",
       "      <td>0.141156</td>\n",
       "      <td>0.0</td>\n",
       "      <td>0.0</td>\n",
       "      <td>inf</td>\n",
       "      <td>0.0</td>\n",
       "      <td>0.0</td>\n",
       "      <td>1.0</td>\n",
       "      <td>1.0</td>\n",
       "    </tr>\n",
       "    <tr>\n",
       "      <th>4</th>\n",
       "      <td>315c96c26c9aac</td>\n",
       "      <td>de04010b3458dd</td>\n",
       "      <td>6dc8ff871e21e6</td>\n",
       "      <td>0.0</td>\n",
       "      <td>0.0</td>\n",
       "      <td>100.00</td>\n",
       "      <td>0.0</td>\n",
       "      <td>0.0</td>\n",
       "      <td>0.0</td>\n",
       "      <td>45.0</td>\n",
       "      <td>...</td>\n",
       "      <td>1.0</td>\n",
       "      <td>49.7500</td>\n",
       "      <td>0.034937</td>\n",
       "      <td>0.0</td>\n",
       "      <td>0.0</td>\n",
       "      <td>100.000000</td>\n",
       "      <td>1.0</td>\n",
       "      <td>0.0</td>\n",
       "      <td>0.0</td>\n",
       "      <td>1.0</td>\n",
       "    </tr>\n",
       "  </tbody>\n",
       "</table>\n",
       "<p>5 rows × 40 columns</p>\n",
       "</div>"
      ],
      "text/plain": [
       "               Id         groupId         matchId  assists  boosts  \\\n",
       "0  7f96b2f878858a  4d4b580de459be  a10357fd1a4a91      0.0     0.0   \n",
       "1  eef90569b9d03c  684d5656442f9e  aeb375fc57110c      0.0     0.0   \n",
       "2  1eaf90ac73de72  6a4a42c3245a74  110163d8bb94ae      1.0     0.0   \n",
       "3  4616d365dd2853  a930a9c79cd721  f1f1f4ef412d7e      0.0     0.0   \n",
       "4  315c96c26c9aac  de04010b3458dd  6dc8ff871e21e6      0.0     0.0   \n",
       "\n",
       "   damageDealt  DBNOs  headshotKills  heals  killPlace   ...    group_members  \\\n",
       "0         0.00    0.0            0.0    0.0       60.0   ...              4.0   \n",
       "1        91.47    0.0            0.0    0.0       57.0   ...              4.0   \n",
       "2        68.00    0.0            0.0    0.0       47.0   ...              2.0   \n",
       "3        32.90    0.0            0.0    0.0       75.0   ...              1.0   \n",
       "4       100.00    0.0            0.0    0.0       45.0   ...              1.0   \n",
       "\n",
       "   total_distance  avg_max_walk_speed  total_med_items  headshot_rate  \\\n",
       "0        244.8000            0.187443              0.0            0.0   \n",
       "1       1445.0445            0.806978              0.0            0.0   \n",
       "2        161.8000            0.122762              0.0            0.0   \n",
       "3        202.7000            0.141156              0.0            0.0   \n",
       "4         49.7500            0.034937              0.0            0.0   \n",
       "\n",
       "  damage_per_enermy  matchType_1  matchType_2  matchType_4  aspect  \n",
       "0               NaN          0.0          0.0          1.0     1.0  \n",
       "1               inf          0.0          0.0          1.0     1.0  \n",
       "2         68.000000          0.0          1.0          0.0     0.0  \n",
       "3               inf          0.0          0.0          1.0     1.0  \n",
       "4        100.000000          1.0          0.0          0.0     1.0  \n",
       "\n",
       "[5 rows x 40 columns]"
      ]
     },
     "execution_count": 42,
     "metadata": {},
     "output_type": "execute_result"
    }
   ],
   "source": [
    "train_std.head()"
   ]
  },
  {
   "cell_type": "code",
   "execution_count": null,
   "metadata": {},
   "outputs": [],
   "source": []
  },
  {
   "cell_type": "markdown",
   "metadata": {},
   "source": [
    "## Modeling"
   ]
  },
  {
   "cell_type": "code",
   "execution_count": 15,
   "metadata": {},
   "outputs": [],
   "source": [
    "from sklearn.ensemble import RandomForestRegressor\n",
    "from sklearn.linear_model import Lasso, Ridge, LinearRegression\n",
    "from sklearn.model_selection import train_test_split\n",
    "from sklearn.metrics import mean_absolute_error as mae"
   ]
  },
  {
   "cell_type": "code",
   "execution_count": 16,
   "metadata": {},
   "outputs": [],
   "source": [
    "data_file = 'group_match_data_train_non_norm.zip'\n",
    "data_file = 'group_match_data_train_norm.zip'\n",
    "dataset = pd.read_csv(os.path.join(data_root, data_file))"
   ]
  },
  {
   "cell_type": "code",
   "execution_count": 17,
   "metadata": {},
   "outputs": [
    {
     "data": {
      "text/html": [
       "<div>\n",
       "<style scoped>\n",
       "    .dataframe tbody tr th:only-of-type {\n",
       "        vertical-align: middle;\n",
       "    }\n",
       "\n",
       "    .dataframe tbody tr th {\n",
       "        vertical-align: top;\n",
       "    }\n",
       "\n",
       "    .dataframe thead th {\n",
       "        text-align: right;\n",
       "    }\n",
       "</style>\n",
       "<table border=\"1\" class=\"dataframe\">\n",
       "  <thead>\n",
       "    <tr style=\"text-align: right;\">\n",
       "      <th></th>\n",
       "      <th>groupId</th>\n",
       "      <th>matchId</th>\n",
       "      <th>assists</th>\n",
       "      <th>boosts</th>\n",
       "      <th>damageDealt</th>\n",
       "      <th>DBNOs</th>\n",
       "      <th>headshotKills</th>\n",
       "      <th>heals</th>\n",
       "      <th>killPlace</th>\n",
       "      <th>killPoints</th>\n",
       "      <th>...</th>\n",
       "      <th>damage_per_enemy</th>\n",
       "      <th>avg_walk_speed</th>\n",
       "      <th>player_count</th>\n",
       "      <th>matchType_onehot_duo</th>\n",
       "      <th>matchType_onehot_duo-fpp</th>\n",
       "      <th>matchType_onehot_solo</th>\n",
       "      <th>matchType_onehot_solo-fpp</th>\n",
       "      <th>matchType_onehot_squad</th>\n",
       "      <th>matchType_onehot_squad-fpp</th>\n",
       "      <th>totalDistancePlace</th>\n",
       "    </tr>\n",
       "  </thead>\n",
       "  <tbody>\n",
       "    <tr>\n",
       "      <th>0</th>\n",
       "      <td>809d8288457e3d</td>\n",
       "      <td>fffe92232706aa</td>\n",
       "      <td>0.500000</td>\n",
       "      <td>1.0000</td>\n",
       "      <td>1.972410</td>\n",
       "      <td>0.888889</td>\n",
       "      <td>3</td>\n",
       "      <td>0.481481</td>\n",
       "      <td>21</td>\n",
       "      <td>0</td>\n",
       "      <td>...</td>\n",
       "      <td>181.25</td>\n",
       "      <td>1.452496</td>\n",
       "      <td>3</td>\n",
       "      <td>0</td>\n",
       "      <td>0</td>\n",
       "      <td>0</td>\n",
       "      <td>0</td>\n",
       "      <td>0</td>\n",
       "      <td>1</td>\n",
       "      <td>0.543120</td>\n",
       "    </tr>\n",
       "    <tr>\n",
       "      <th>1</th>\n",
       "      <td>6cfbeead9e1050</td>\n",
       "      <td>fffe92232706aa</td>\n",
       "      <td>0.333333</td>\n",
       "      <td>0.5625</td>\n",
       "      <td>1.698711</td>\n",
       "      <td>0.888889</td>\n",
       "      <td>1</td>\n",
       "      <td>0.148148</td>\n",
       "      <td>6</td>\n",
       "      <td>0</td>\n",
       "      <td>...</td>\n",
       "      <td>93.82</td>\n",
       "      <td>1.794954</td>\n",
       "      <td>2</td>\n",
       "      <td>0</td>\n",
       "      <td>0</td>\n",
       "      <td>0</td>\n",
       "      <td>0</td>\n",
       "      <td>0</td>\n",
       "      <td>1</td>\n",
       "      <td>0.541508</td>\n",
       "    </tr>\n",
       "    <tr>\n",
       "      <th>2</th>\n",
       "      <td>bd5b4ecf8067ab</td>\n",
       "      <td>fffe92232706aa</td>\n",
       "      <td>0.333333</td>\n",
       "      <td>0.5000</td>\n",
       "      <td>0.521854</td>\n",
       "      <td>0.444444</td>\n",
       "      <td>2</td>\n",
       "      <td>0.740741</td>\n",
       "      <td>23</td>\n",
       "      <td>0</td>\n",
       "      <td>...</td>\n",
       "      <td>254.20</td>\n",
       "      <td>1.290392</td>\n",
       "      <td>3</td>\n",
       "      <td>0</td>\n",
       "      <td>0</td>\n",
       "      <td>0</td>\n",
       "      <td>0</td>\n",
       "      <td>0</td>\n",
       "      <td>1</td>\n",
       "      <td>0.771560</td>\n",
       "    </tr>\n",
       "    <tr>\n",
       "      <th>3</th>\n",
       "      <td>20493abb7ca1b9</td>\n",
       "      <td>fffe92232706aa</td>\n",
       "      <td>0.500000</td>\n",
       "      <td>0.2500</td>\n",
       "      <td>1.223180</td>\n",
       "      <td>0.666667</td>\n",
       "      <td>2</td>\n",
       "      <td>0.148148</td>\n",
       "      <td>38</td>\n",
       "      <td>0</td>\n",
       "      <td>...</td>\n",
       "      <td>97.72</td>\n",
       "      <td>1.320988</td>\n",
       "      <td>3</td>\n",
       "      <td>0</td>\n",
       "      <td>0</td>\n",
       "      <td>0</td>\n",
       "      <td>0</td>\n",
       "      <td>0</td>\n",
       "      <td>1</td>\n",
       "      <td>0.410593</td>\n",
       "    </tr>\n",
       "    <tr>\n",
       "      <th>4</th>\n",
       "      <td>1958cde581220c</td>\n",
       "      <td>fffe92232706aa</td>\n",
       "      <td>0.333333</td>\n",
       "      <td>0.7500</td>\n",
       "      <td>-0.249563</td>\n",
       "      <td>0.111111</td>\n",
       "      <td>0</td>\n",
       "      <td>0.518519</td>\n",
       "      <td>39</td>\n",
       "      <td>0</td>\n",
       "      <td>...</td>\n",
       "      <td>114.80</td>\n",
       "      <td>1.575953</td>\n",
       "      <td>3</td>\n",
       "      <td>0</td>\n",
       "      <td>0</td>\n",
       "      <td>0</td>\n",
       "      <td>0</td>\n",
       "      <td>0</td>\n",
       "      <td>1</td>\n",
       "      <td>1.000000</td>\n",
       "    </tr>\n",
       "  </tbody>\n",
       "</table>\n",
       "<p>5 rows × 42 columns</p>\n",
       "</div>"
      ],
      "text/plain": [
       "          groupId         matchId   assists  boosts  damageDealt     DBNOs  \\\n",
       "0  809d8288457e3d  fffe92232706aa  0.500000  1.0000     1.972410  0.888889   \n",
       "1  6cfbeead9e1050  fffe92232706aa  0.333333  0.5625     1.698711  0.888889   \n",
       "2  bd5b4ecf8067ab  fffe92232706aa  0.333333  0.5000     0.521854  0.444444   \n",
       "3  20493abb7ca1b9  fffe92232706aa  0.500000  0.2500     1.223180  0.666667   \n",
       "4  1958cde581220c  fffe92232706aa  0.333333  0.7500    -0.249563  0.111111   \n",
       "\n",
       "   headshotKills     heals  killPlace  killPoints         ...          \\\n",
       "0              3  0.481481         21           0         ...           \n",
       "1              1  0.148148          6           0         ...           \n",
       "2              2  0.740741         23           0         ...           \n",
       "3              2  0.148148         38           0         ...           \n",
       "4              0  0.518519         39           0         ...           \n",
       "\n",
       "   damage_per_enemy  avg_walk_speed  player_count  matchType_onehot_duo  \\\n",
       "0            181.25        1.452496             3                     0   \n",
       "1             93.82        1.794954             2                     0   \n",
       "2            254.20        1.290392             3                     0   \n",
       "3             97.72        1.320988             3                     0   \n",
       "4            114.80        1.575953             3                     0   \n",
       "\n",
       "  matchType_onehot_duo-fpp  matchType_onehot_solo  matchType_onehot_solo-fpp  \\\n",
       "0                        0                      0                          0   \n",
       "1                        0                      0                          0   \n",
       "2                        0                      0                          0   \n",
       "3                        0                      0                          0   \n",
       "4                        0                      0                          0   \n",
       "\n",
       "   matchType_onehot_squad  matchType_onehot_squad-fpp  totalDistancePlace  \n",
       "0                       0                           1            0.543120  \n",
       "1                       0                           1            0.541508  \n",
       "2                       0                           1            0.771560  \n",
       "3                       0                           1            0.410593  \n",
       "4                       0                           1            1.000000  \n",
       "\n",
       "[5 rows x 42 columns]"
      ]
     },
     "execution_count": 17,
     "metadata": {},
     "output_type": "execute_result"
    }
   ],
   "source": [
    "# dataset.corr()['winPlacePerc'].sort_values()\n",
    "dataset.head()"
   ]
  },
  {
   "cell_type": "code",
   "execution_count": 18,
   "metadata": {},
   "outputs": [
    {
     "name": "stdout",
     "output_type": "stream",
     "text": [
      "matchType_onehot_duo-fpp:\n"
     ]
    },
    {
     "name": "stderr",
     "output_type": "stream",
     "text": [
      "/Users/leonling/workspace/pyenv/scientific/lib/python3.7/site-packages/sklearn/linear_model/base.py:509: RuntimeWarning: internal gelsd driver lwork query error, required iwork dimension not returned. This is likely the result of LAPACK bug 0038, fixed in LAPACK 3.2.2 (released July 21, 2010). Falling back to 'gelss' driver.\n",
      "  linalg.lstsq(X, y)\n"
     ]
    },
    {
     "name": "stdout",
     "output_type": "stream",
     "text": [
      "0.07280340880745083\n",
      "matchType_onehot_solo:\n",
      "0.06650812703492937\n",
      "matchType_onehot_solo-fpp:\n",
      "0.06356988233181667\n",
      "matchType_onehot_squad:\n",
      "0.08163414322630785\n",
      "matchType_onehot_squad-fpp:\n",
      "0.07562815188028552\n",
      "matchType_onehot_duo:\n",
      "0.07597713810634103\n"
     ]
    }
   ],
   "source": [
    "x_cols = ['kills', 'assists', 'DBNOs', 'killStreaks',\n",
    "       'headshotKills', 'longestKill', 'damageDealt', 'headshot_rate', 'killPlace',\n",
    "       'boosts', 'heals', 'revives',\n",
    "       'teamKills', 'vehicleDestroys',  # cut bins & one hot\n",
    "       'walkDistance', 'rideDistance', 'swimDistance', 'totalDistancePlace',\n",
    "        'matchType_onehot_duo-fpp', 'matchType_onehot_solo', 'matchType_onehot_solo-fpp', 'matchType_onehot_squad', 'matchType_onehot_squad-fpp', 'matchType_onehot_duo',\n",
    "       'weaponsAcquired', 'avg_walk_speed', ]\n",
    "y_cols = ['winPlacePerc']\n",
    "\n",
    "types = ['matchType_onehot_duo-fpp', 'matchType_onehot_solo', 'matchType_onehot_solo-fpp', 'matchType_onehot_squad', 'matchType_onehot_squad-fpp', 'matchType_onehot_duo']\n",
    "for t in types:\n",
    "    train_x = dataset[dataset[t]==1][x_cols]\n",
    "    train_y = dataset[dataset[t]==1][y_cols]\n",
    "    X_train, X_test, y_train, y_test = train_test_split(train_x, train_y, test_size=0.3)\n",
    "    \n",
    "    print(f'{t}:')\n",
    "#     lsr= Lasso(alpha=0.1, normalize=False)\n",
    "#     lsr.fit(X_train, y_train)\n",
    "\n",
    "#     rgr= Ridge(alpha=0.01)\n",
    "#     rgr.fit(X_train, y_train)\n",
    "#     rfr = RandomForestRegressor(max_depth=2, random_state=0, n_estimators=300)\n",
    "#     rfr.fit(X_train, y_train)\n",
    "    lr = LinearRegression()\n",
    "    lr.fit(X_train, y_train)\n",
    "\n",
    "#     print(mae(y_test, rfr.predict(X_test)))\n",
    "#     print(mae(y_test, lsr.predict(X_test)))\n",
    "#     print(mae(y_test, rgr.predict(X_test)))\n",
    "    print(mae(y_test, lr.predict(X_test)))"
   ]
  },
  {
   "cell_type": "code",
   "execution_count": 13,
   "metadata": {},
   "outputs": [],
   "source": [
    "X_train, X_test, y_train, y_test = train_test_split(dataset[x_cols], dataset[y_cols], test_size=0.3)\n",
    "    \n",
    "# print(f'{t}:')\n",
    "# lsr= Lasso(alpha=0.1, normalize=False)\n",
    "# lsr.fit(X_train, y_train)\n",
    "\n",
    "# rgr= Ridge(alpha=0.01)\n",
    "# rgr.fit(X_train, y_train)"
   ]
  },
  {
   "cell_type": "code",
   "execution_count": 14,
   "metadata": {},
   "outputs": [
    {
     "name": "stderr",
     "output_type": "stream",
     "text": [
      "/Users/leonling/workspace/pyenv/scientific/lib/python3.7/site-packages/ipykernel_launcher.py:2: DataConversionWarning: A column-vector y was passed when a 1d array was expected. Please change the shape of y to (n_samples,), for example using ravel().\n",
      "  \n"
     ]
    },
    {
     "name": "stdout",
     "output_type": "stream",
     "text": [
      "0.09472354049316675\n"
     ]
    }
   ],
   "source": [
    "rfr = RandomForestRegressor(max_depth=2, random_state=0, n_estimators=300)\n",
    "rfr.fit(X_train, y_train)\n",
    "\n",
    "# lsr= Lasso(alpha=0.1, normalize=False)\n",
    "# lsr.fit(X_train, y_train)\n",
    "\n",
    "# rgr= Ridge(alpha=0.01)\n",
    "# rgr.fit(X_train, y_train)\n",
    "\n",
    "# print(mae(y_test, lsr.predict(X_test)))\n",
    "# print(mae(y_test, rgr.predict(X_test)))\n",
    "print(mae(y_test, rfr.predict(X_test)))"
   ]
  },
  {
   "cell_type": "code",
   "execution_count": null,
   "metadata": {},
   "outputs": [],
   "source": []
  }
 ],
 "metadata": {
  "kernelspec": {
   "display_name": "scientific",
   "language": "python",
   "name": "scientific"
  },
  "language_info": {
   "codemirror_mode": {
    "name": "ipython",
    "version": 3
   },
   "file_extension": ".py",
   "mimetype": "text/x-python",
   "name": "python",
   "nbconvert_exporter": "python",
   "pygments_lexer": "ipython3",
   "version": "3.7.0"
  }
 },
 "nbformat": 4,
 "nbformat_minor": 2
}
